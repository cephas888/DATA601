{
 "cells": [
  {
   "cell_type": "code",
   "execution_count": null,
   "id": "a21f3fc8-2abc-45a8-9909-770669e3679b",
   "metadata": {},
   "outputs": [],
   "source": []
  },
  {
   "cell_type": "code",
   "execution_count": null,
   "id": "b326d992-cf96-45e7-8f30-454e9baf95cb",
   "metadata": {},
   "outputs": [],
   "source": []
  },
  {
   "cell_type": "code",
   "execution_count": null,
   "id": "2d47694d-bab6-49e5-8c15-cbf34ad6e792",
   "metadata": {},
   "outputs": [],
   "source": []
  },
  {
   "cell_type": "code",
   "execution_count": null,
   "id": "81225eb9-8f5b-4678-94f1-fe364b2889c5",
   "metadata": {},
   "outputs": [],
   "source": []
  },
  {
   "cell_type": "markdown",
   "id": "863122fb-fd5c-4df5-a028-a6848c380c10",
   "metadata": {},
   "source": [
    "- TensorFlow Classification: https://www.tensorflow.org/tutorials/video/video_classification\n",
    "- YOLO Classification: https://docs.ultralytics.com/tasks/classify/\n",
    "- YOLO Custom Dataset Training: https://docs.ultralytics.com/modes/train/\n",
    "- Kaggle YOLO Helmet Detection:\n",
    "    - https://www.kaggle.com/ayushraj2349/code\n",
    "    - https://www.kaggle.com/code/ayushraj2349/helmet-detection-using-yolov8\n",
    "    - https://www.kaggle.com/code/bilrein/helmet-yolov8\n",
    "    - https://www.kaggle.com/code/harshekbote/hard-helmet-detection-using-yolov8\n",
    "    - https://www.kaggle.com/code/niwayandm/safety-helmet-detection-with-yolov10"
   ]
  },
  {
   "cell_type": "code",
   "execution_count": null,
   "id": "4dd8393d-56b5-4c4a-b68b-71edd5ada228",
   "metadata": {},
   "outputs": [],
   "source": []
  },
  {
   "cell_type": "code",
   "execution_count": null,
   "id": "21b38379-47e3-46ae-aa31-a9200ff2ff97",
   "metadata": {},
   "outputs": [],
   "source": []
  },
  {
   "cell_type": "code",
   "execution_count": null,
   "id": "2d915684-78d3-4a0c-8451-4db4193d94f2",
   "metadata": {},
   "outputs": [],
   "source": []
  },
  {
   "cell_type": "code",
   "execution_count": null,
   "id": "3c78a06e-4412-4dbb-9414-53d8d0002381",
   "metadata": {},
   "outputs": [],
   "source": []
  },
  {
   "cell_type": "code",
   "execution_count": null,
   "id": "a0ff105f-4ee8-4f56-9c15-99a09444f8dd",
   "metadata": {},
   "outputs": [],
   "source": []
  },
  {
   "cell_type": "code",
   "execution_count": null,
   "id": "e302af3c-cc6f-4bf5-ab6d-593624facfbc",
   "metadata": {},
   "outputs": [],
   "source": []
  }
 ],
 "metadata": {
  "kernelspec": {
   "display_name": "Python 3 (ipykernel)",
   "language": "python",
   "name": "python3"
  },
  "language_info": {
   "codemirror_mode": {
    "name": "ipython",
    "version": 3
   },
   "file_extension": ".py",
   "mimetype": "text/x-python",
   "name": "python",
   "nbconvert_exporter": "python",
   "pygments_lexer": "ipython3",
   "version": "3.12.4"
  }
 },
 "nbformat": 4,
 "nbformat_minor": 5
}
