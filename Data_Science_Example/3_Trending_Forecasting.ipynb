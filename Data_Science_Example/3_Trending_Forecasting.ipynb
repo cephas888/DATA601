{
 "cells": [
  {
   "cell_type": "markdown",
   "id": "7062061a",
   "metadata": {},
   "source": [
    "The purpose of this notebook is to introduce the topic of trending, forecasting and predicting a value in the future from historical observed values. Note that the terms forecasting and predicting sometimes are used interchangeably and the definitions may vary slightly depending on the area being referred. In this notebook the preferred term will be forecasting.. \n",
    "\n",
    "Forecasting applications include time series data, weather, finance and business (e.g., stocks, sales, costs), engineering, , among many other applications. Most common methods for forecasting are based on statistics such as regression (e.g., linear regression or linear trendline), some distribution models (e.g., Poisson model for count data), and monte-carlo simulation. This notebook specifically focuses on using linear regression. \n",
    "\n",
    "Potential features to use linear regression.\n",
    "- Box_office_earnigns with Budget or Popularity or Vote_count\n",
    "- Count of Movies per time\n",
    "- Average yearly budget per time\n",
    "- Average budget per time for all movies with the top 1000 box_office_earning.\n"
   ]
  },
  {
   "cell_type": "code",
   "execution_count": null,
   "id": "d77808df-f311-429e-a0b9-821b7321dce3",
   "metadata": {},
   "outputs": [],
   "source": []
  },
  {
   "cell_type": "code",
   "execution_count": null,
   "id": "ddee6348-ee1f-474b-97bb-084c8761674e",
   "metadata": {},
   "outputs": [],
   "source": []
  },
  {
   "cell_type": "code",
   "execution_count": null,
   "id": "c979fa9c-9d07-4b34-afe7-5fa7a072d631",
   "metadata": {},
   "outputs": [],
   "source": []
  },
  {
   "cell_type": "code",
   "execution_count": null,
   "id": "d181e7ae-5188-426c-98b8-f2644bceee76",
   "metadata": {},
   "outputs": [],
   "source": []
  },
  {
   "cell_type": "code",
   "execution_count": null,
   "id": "ad0025d7-9ddb-467f-be24-526af3612079",
   "metadata": {},
   "outputs": [],
   "source": []
  }
 ],
 "metadata": {
  "kernelspec": {
   "display_name": "Python 3 (ipykernel)",
   "language": "python",
   "name": "python3"
  },
  "language_info": {
   "codemirror_mode": {
    "name": "ipython",
    "version": 3
   },
   "file_extension": ".py",
   "mimetype": "text/x-python",
   "name": "python",
   "nbconvert_exporter": "python",
   "pygments_lexer": "ipython3",
   "version": "3.12.4"
  }
 },
 "nbformat": 4,
 "nbformat_minor": 5
}
