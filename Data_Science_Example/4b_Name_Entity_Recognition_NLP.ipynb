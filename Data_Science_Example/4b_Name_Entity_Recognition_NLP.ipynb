{
 "cells": [
  {
   "cell_type": "markdown",
   "id": "99e6971e",
   "metadata": {},
   "source": [
    "<div class=\"alert alert-block alert-info\">\n",
    "Notebook Author:<br>Felix Gonzalez, P.E. <br> Adjunct Instructor, <br> Division of Professional Studies <br> Computer Science and Electrical Engineering <br> University of Maryland Baltimore County <br> fgonzale@umbc.edu\n",
    "</div>"
   ]
  },
  {
   "cell_type": "markdown",
   "id": "2ea27175",
   "metadata": {},
   "source": [
    "<div class=\"alert alert-block alert-info\">\n",
    "Acknowledgements:<br>Bird, Steven, Edward Loper and Ewan Klein (2009), Natural Language Processing with Python. O’Reilly Media Inc.\n",
    "<br> https://www.nltk.org/book/\n",
    "</div>"
   ]
  },
  {
   "cell_type": "code",
   "execution_count": null,
   "id": "f195ef0d-0e51-4a28-a57a-d893c97f8ccd",
   "metadata": {},
   "outputs": [],
   "source": []
  },
  {
   "cell_type": "markdown",
   "id": "765d347a-9b84-4fbe-821e-b3fab9a92277",
   "metadata": {},
   "source": [
    "# NLTK Extracting Named Entities"
   ]
  },
  {
   "cell_type": "markdown",
   "id": "7b7b0c9f-f4ce-4584-979e-827767cf04a9",
   "metadata": {},
   "source": [
    "https://stackoverflow.com/questions/3788870/how-to-check-if-a-word-is-an-english-word-with-python\n",
    "\n",
    "https://stackoverflow.com/questions/31689621/how-to-traverse-an-nltk-tree-object"
   ]
  },
  {
   "cell_type": "code",
   "execution_count": 5,
   "id": "d1cc6cba-d679-4ae4-a44a-4b98ca8bd6bf",
   "metadata": {},
   "outputs": [],
   "source": [
    "#nltk.download('maxent_ne_chunker') # Need to install/download once.\n",
    "#nltk.download('words') # Need to install/download once."
   ]
  },
  {
   "cell_type": "code",
   "execution_count": 6,
   "id": "06b54926-923d-4d44-ada9-3cc19420f8ef",
   "metadata": {},
   "outputs": [],
   "source": [
    "import nltk\n",
    "from nltk.corpus import words, names#, state_union\n",
    "from nltk.tokenize import PunktSentenceTokenizer\n",
    "from nltk import ne_chunk, pos_tag, word_tokenize\n",
    "from nltk.tree import Tree"
   ]
  },
  {
   "cell_type": "markdown",
   "id": "b63decdb-b380-4003-8a49-922794f11a0d",
   "metadata": {},
   "source": [
    "# Sample Tokenization"
   ]
  },
  {
   "cell_type": "code",
   "execution_count": 7,
   "id": "511ddae0-8432-435d-b473-158590c2224f",
   "metadata": {},
   "outputs": [],
   "source": [
    "text = \"Bill okay! testing capitalisation. my nice friend is called bob he lives in america.\"\n",
    "\n",
    "tokenized_words = nltk.word_tokenize(text)\n",
    "pos_tagged_text = nltk.pos_tag(tokenized_words)\n",
    "nltk_results = ne_chunk(pos_tag(word_tokenize(text))) "
   ]
  },
  {
   "cell_type": "code",
   "execution_count": 8,
   "id": "fd79a82f-58c8-4b1d-ac9c-1ce2e622e9e0",
   "metadata": {},
   "outputs": [
    {
     "name": "stdout",
     "output_type": "stream",
     "text": [
      "['Bill', 'okay', '!', 'testing', 'capitalisation', '.', 'my', 'nice', 'friend', 'is', 'called', 'bob', 'he', 'lives', 'in', 'america', '.']\n"
     ]
    }
   ],
   "source": [
    "print(tokenized_words)"
   ]
  },
  {
   "cell_type": "code",
   "execution_count": 9,
   "id": "c1a5838d-229a-46f0-94e9-e21b69f2f866",
   "metadata": {},
   "outputs": [
    {
     "name": "stdout",
     "output_type": "stream",
     "text": [
      "[('Bill', 'NNP'), ('okay', 'PRP'), ('!', '.'), ('testing', 'VBG'), ('capitalisation', 'NN'), ('.', '.'), ('my', 'PRP$'), ('nice', 'JJ'), ('friend', 'NN'), ('is', 'VBZ'), ('called', 'VBN'), ('bob', 'NN'), ('he', 'PRP'), ('lives', 'VBZ'), ('in', 'IN'), ('america', 'NN'), ('.', '.')]\n"
     ]
    }
   ],
   "source": [
    "print(pos_tagged_text)"
   ]
  },
  {
   "cell_type": "code",
   "execution_count": 10,
   "id": "0482d328-32d3-4e34-bc04-e6f08a0d01f6",
   "metadata": {},
   "outputs": [
    {
     "name": "stdout",
     "output_type": "stream",
     "text": [
      "(S\n",
      "  (PERSON Bill/NNP)\n",
      "  okay/PRP\n",
      "  !/.\n",
      "  testing/VBG\n",
      "  capitalisation/NN\n",
      "  ./.\n",
      "  my/PRP$\n",
      "  nice/JJ\n",
      "  friend/NN\n",
      "  is/VBZ\n",
      "  called/VBN\n",
      "  bob/NN\n",
      "  he/PRP\n",
      "  lives/VBZ\n",
      "  in/IN\n",
      "  america/NN\n",
      "  ./.)\n"
     ]
    }
   ],
   "source": [
    "print(nltk_results) # ne_chunk results in Named Entity wich results in linguistic tree.\n",
    "# https://www.nltk.org/api/nltk.tree.tree.html"
   ]
  },
  {
   "cell_type": "markdown",
   "id": "12cdc2f1-766d-4d47-860c-24adf1dedb1b",
   "metadata": {},
   "source": [
    "# NLTK Finding Entities\n"
   ]
  },
  {
   "cell_type": "code",
   "execution_count": 14,
   "id": "715a15ab-dfac-483c-aa04-563b6e3f96b4",
   "metadata": {},
   "outputs": [],
   "source": [
    "#text = \"Elon Musk 889-888-8888 elonpie@tessa.net Jeff Bezos (345)123-1234 bezzi@zonbi.com Reshma Saujani example.email@email.com 888-888-8888 Barkevious Mingo\"\n",
    "#text = \"Elon okay! testing capitalisation. my nice friend is called bob he lives in america.\"\n",
    "text='''That this House notes the announcement of 300 redundancies at the Nestlé manufacturing factories in York, Fawdon, Halifax and Girvan and that production of the Blue Riband bar will be transferred to Poland; acknowledges in the first three months of 2017 Nestlé achieved £21 billion in sales, a 0.4 per cent increase over the same period in 2016; further notes 156 of these job losses will be in York, a city that in the last six months has seen 2,000 job losses announced and has become the most inequitable city outside of the South East, and a further 110 jobs from Fawdon, Newcastle; recognises the losses come within a month of triggering Article 50, and as negotiations with the EU on the UK leaving the EU and the UK's future with the EU are commencing; further recognises the cost of importing products, including sugar, cocoa and production machinery, has risen due to the weakness of the pound and the uncertainty over the UK's future relationship with the single market and customs union; and calls on the Government to intervene and work with hon. Members, trades unions GMB and Unite and the company to avert these job losses now and prevent further job losses across Nestlé.'''\n",
    "\n",
    "nltk_results = ne_chunk(pos_tag(word_tokenize(text))) \n",
    "# Note ne_chunk uses svgling which used for doing single-pass rendering of linguistics-style constituent trees into SVG.\n",
    "# Code will still work without svgling installed"
   ]
  },
  {
   "cell_type": "code",
   "execution_count": 17,
   "id": "bbde79df-2384-411f-9bc4-dc8faa3dd132",
   "metadata": {},
   "outputs": [
    {
     "ename": "ModuleNotFoundError",
     "evalue": "No module named 'svgling'",
     "output_type": "error",
     "traceback": [
      "\u001b[1;31m---------------------------------------------------------------------------\u001b[0m",
      "\u001b[1;31mModuleNotFoundError\u001b[0m                       Traceback (most recent call last)",
      "File \u001b[1;32mC:\\ProgramData\\anaconda3\\Lib\\site-packages\\IPython\\core\\formatters.py:347\u001b[0m, in \u001b[0;36mBaseFormatter.__call__\u001b[1;34m(self, obj)\u001b[0m\n\u001b[0;32m    345\u001b[0m     method \u001b[38;5;241m=\u001b[39m get_real_method(obj, \u001b[38;5;28mself\u001b[39m\u001b[38;5;241m.\u001b[39mprint_method)\n\u001b[0;32m    346\u001b[0m     \u001b[38;5;28;01mif\u001b[39;00m method \u001b[38;5;129;01mis\u001b[39;00m \u001b[38;5;129;01mnot\u001b[39;00m \u001b[38;5;28;01mNone\u001b[39;00m:\n\u001b[1;32m--> 347\u001b[0m         \u001b[38;5;28;01mreturn\u001b[39;00m method()\n\u001b[0;32m    348\u001b[0m     \u001b[38;5;28;01mreturn\u001b[39;00m \u001b[38;5;28;01mNone\u001b[39;00m\n\u001b[0;32m    349\u001b[0m \u001b[38;5;28;01melse\u001b[39;00m:\n",
      "File \u001b[1;32mC:\\ProgramData\\anaconda3\\Lib\\site-packages\\nltk\\tree\\tree.py:782\u001b[0m, in \u001b[0;36mTree._repr_svg_\u001b[1;34m(self)\u001b[0m\n\u001b[0;32m    781\u001b[0m \u001b[38;5;28;01mdef\u001b[39;00m \u001b[38;5;21m_repr_svg_\u001b[39m(\u001b[38;5;28mself\u001b[39m):\n\u001b[1;32m--> 782\u001b[0m     \u001b[38;5;28;01mfrom\u001b[39;00m \u001b[38;5;21;01msvgling\u001b[39;00m \u001b[38;5;28;01mimport\u001b[39;00m draw_tree\n\u001b[0;32m    784\u001b[0m     \u001b[38;5;28;01mreturn\u001b[39;00m draw_tree(\u001b[38;5;28mself\u001b[39m)\u001b[38;5;241m.\u001b[39m_repr_svg_()\n",
      "\u001b[1;31mModuleNotFoundError\u001b[0m: No module named 'svgling'"
     ]
    },
    {
     "data": {
      "text/plain": [
       "Tree('S', [('That', 'IN'), ('this', 'DT'), Tree('ORGANIZATION', [('House', 'NNP')]), ('notes', 'VBZ'), ('the', 'DT'), ('announcement', 'NN'), ('of', 'IN'), ('300', 'CD'), ('redundancies', 'NNS'), ('at', 'IN'), ('the', 'DT'), Tree('GPE', [('Nestlé', 'NNP')]), ('manufacturing', 'NN'), ('factories', 'NNS'), ('in', 'IN'), Tree('GPE', [('York', 'NNP')]), (',', ','), Tree('GPE', [('Fawdon', 'NNP')]), (',', ','), Tree('PERSON', [('Halifax', 'NNP')]), ('and', 'CC'), Tree('PERSON', [('Girvan', 'NNP')]), ('and', 'CC'), ('that', 'DT'), ('production', 'NN'), ('of', 'IN'), ('the', 'DT'), Tree('ORGANIZATION', [('Blue', 'NNP'), ('Riband', 'NNP')]), ('bar', 'NN'), ('will', 'MD'), ('be', 'VB'), ('transferred', 'VBN'), ('to', 'TO'), Tree('GPE', [('Poland', 'NNP')]), (';', ':'), ('acknowledges', 'NNS'), ('in', 'IN'), ('the', 'DT'), ('first', 'JJ'), ('three', 'CD'), ('months', 'NNS'), ('of', 'IN'), ('2017', 'CD'), Tree('PERSON', [('Nestlé', 'NNP')]), ('achieved', 'VBD'), ('£21', 'JJ'), ('billion', 'CD'), ('in', 'IN'), ('sales', 'NNS'), (',', ','), ('a', 'DT'), ('0.4', 'CD'), ('per', 'IN'), ('cent', 'NN'), ('increase', 'NN'), ('over', 'IN'), ('the', 'DT'), ('same', 'JJ'), ('period', 'NN'), ('in', 'IN'), ('2016', 'CD'), (';', ':'), ('further', 'JJ'), ('notes', 'NNS'), ('156', 'CD'), ('of', 'IN'), ('these', 'DT'), ('job', 'NN'), ('losses', 'NNS'), ('will', 'MD'), ('be', 'VB'), ('in', 'IN'), Tree('GPE', [('York', 'NNP')]), (',', ','), ('a', 'DT'), ('city', 'NN'), ('that', 'WDT'), ('in', 'IN'), ('the', 'DT'), ('last', 'JJ'), ('six', 'CD'), ('months', 'NNS'), ('has', 'VBZ'), ('seen', 'VBN'), ('2,000', 'CD'), ('job', 'NN'), ('losses', 'NNS'), ('announced', 'VBD'), ('and', 'CC'), ('has', 'VBZ'), ('become', 'VBN'), ('the', 'DT'), ('most', 'RBS'), ('inequitable', 'JJ'), ('city', 'NN'), ('outside', 'IN'), ('of', 'IN'), ('the', 'DT'), Tree('LOCATION', [('South', 'NNP'), ('East', 'NNP')]), (',', ','), ('and', 'CC'), ('a', 'DT'), ('further', 'JJ'), ('110', 'CD'), ('jobs', 'NNS'), ('from', 'IN'), Tree('GPE', [('Fawdon', 'NNP')]), (',', ','), Tree('GPE', [('Newcastle', 'NNP')]), (';', ':'), ('recognises', 'VBZ'), ('the', 'DT'), ('losses', 'NNS'), ('come', 'VBP'), ('within', 'IN'), ('a', 'DT'), ('month', 'NN'), ('of', 'IN'), ('triggering', 'VBG'), ('Article', 'NNP'), ('50', 'CD'), (',', ','), ('and', 'CC'), ('as', 'IN'), ('negotiations', 'NNS'), ('with', 'IN'), ('the', 'DT'), Tree('GPE', [('EU', 'NNP')]), ('on', 'IN'), ('the', 'DT'), ('UK', 'NNP'), ('leaving', 'VBG'), ('the', 'DT'), Tree('GPE', [('EU', 'NNP')]), ('and', 'CC'), ('the', 'DT'), Tree('ORGANIZATION', [('UK', 'NNP')]), (\"'s\", 'POS'), ('future', 'NN'), ('with', 'IN'), ('the', 'DT'), Tree('GPE', [('EU', 'NNP')]), ('are', 'VBP'), ('commencing', 'VBG'), (';', ':'), ('further', 'JJ'), ('recognises', 'VBZ'), ('the', 'DT'), ('cost', 'NN'), ('of', 'IN'), ('importing', 'VBG'), ('products', 'NNS'), (',', ','), ('including', 'VBG'), ('sugar', 'NN'), (',', ','), ('cocoa', 'NN'), ('and', 'CC'), ('production', 'NN'), ('machinery', 'NN'), (',', ','), ('has', 'VBZ'), ('risen', 'VBN'), ('due', 'JJ'), ('to', 'TO'), ('the', 'DT'), ('weakness', 'NN'), ('of', 'IN'), ('the', 'DT'), ('pound', 'NN'), ('and', 'CC'), ('the', 'DT'), ('uncertainty', 'NN'), ('over', 'IN'), ('the', 'DT'), Tree('ORGANIZATION', [('UK', 'NNP')]), (\"'s\", 'POS'), ('future', 'NN'), ('relationship', 'NN'), ('with', 'IN'), ('the', 'DT'), ('single', 'JJ'), ('market', 'NN'), ('and', 'CC'), ('customs', 'NNS'), ('union', 'NN'), (';', ':'), ('and', 'CC'), ('calls', 'VBZ'), ('on', 'IN'), ('the', 'DT'), ('Government', 'NNP'), ('to', 'TO'), ('intervene', 'VB'), ('and', 'CC'), ('work', 'VB'), ('with', 'IN'), ('hon', 'NN'), ('.', '.'), ('Members', 'NNS'), (',', ','), ('trades', 'NNS'), ('unions', 'NNS'), Tree('ORGANIZATION', [('GMB', 'NNP')]), ('and', 'CC'), Tree('ORGANIZATION', [('Unite', 'NNP')]), ('and', 'CC'), ('the', 'DT'), ('company', 'NN'), ('to', 'TO'), ('avert', 'VB'), ('these', 'DT'), ('job', 'NN'), ('losses', 'NNS'), ('now', 'RB'), ('and', 'CC'), ('prevent', 'VB'), ('further', 'JJ'), ('job', 'NN'), ('losses', 'NNS'), ('across', 'IN'), Tree('GPE', [('Nestlé', 'NNP')]), ('.', '.')])"
      ]
     },
     "execution_count": 17,
     "metadata": {},
     "output_type": "execute_result"
    }
   ],
   "source": [
    "nltk_results"
   ]
  },
  {
   "cell_type": "markdown",
   "id": "5bdefa25-29aa-4f52-add2-7a58c1409d4b",
   "metadata": {},
   "source": [
    "### Finding number of Persons Mentions in a String\r\n",
    "\n"
   ]
  },
  {
   "cell_type": "code",
   "execution_count": 15,
   "id": "ef9a3ad1-24b7-4c08-9928-8fefcbb049c5",
   "metadata": {},
   "outputs": [
    {
     "name": "stdout",
     "output_type": "stream",
     "text": [
      "Number of Person or GPE Name Mentions:  14\n"
     ]
    }
   ],
   "source": [
    "contains_person_name = 0\n",
    "\n",
    "for nltk_result in nltk_results:\n",
    "    if type(nltk_result) == Tree:\n",
    "        entity_name = ''\n",
    "        for nltk_result_leaf in nltk_result.leaves():\n",
    "            entity_name += nltk_result_leaf[0] + ' '\n",
    "            if nltk_result.label() == 'PERSON' or nltk_result.label() == 'GPE' : #Names sometimes detected as GPE.\n",
    "                contains_person_name += 1\n",
    "\n",
    "print ('Number of Person or GPE Name Mentions: ', contains_person_name)"
   ]
  },
  {
   "cell_type": "markdown",
   "id": "76264c1f-f81b-47b3-baee-e42f630e70a2",
   "metadata": {},
   "source": [
    "# Printing Labels of Entities"
   ]
  },
  {
   "cell_type": "code",
   "execution_count": 16,
   "id": "c900013c-b143-4fa4-a554-b75277a56d8d",
   "metadata": {},
   "outputs": [
    {
     "name": "stdout",
     "output_type": "stream",
     "text": [
      "Type:  ORGANIZATION Name:  House \n",
      "Type:  GPE Name:  Nestlé \n",
      "Type:  GPE Name:  York \n",
      "Type:  GPE Name:  Fawdon \n",
      "Type:  PERSON Name:  Halifax \n",
      "Type:  PERSON Name:  Girvan \n",
      "Type:  ORGANIZATION Name:  Blue Riband \n",
      "Type:  GPE Name:  Poland \n",
      "Type:  PERSON Name:  Nestlé \n",
      "Type:  GPE Name:  York \n",
      "Type:  LOCATION Name:  South East \n",
      "Type:  GPE Name:  Fawdon \n",
      "Type:  GPE Name:  Newcastle \n",
      "Type:  GPE Name:  EU \n",
      "Type:  GPE Name:  EU \n",
      "Type:  ORGANIZATION Name:  UK \n",
      "Type:  GPE Name:  EU \n",
      "Type:  ORGANIZATION Name:  UK \n",
      "Type:  ORGANIZATION Name:  GMB \n",
      "Type:  ORGANIZATION Name:  Unite \n",
      "Type:  GPE Name:  Nestlé \n"
     ]
    }
   ],
   "source": [
    "for nltk_result in nltk_results:\n",
    "    if type(nltk_result) == Tree:\n",
    "        entity_name = ''\n",
    "        for nltk_result_leaf in nltk_result.leaves():\n",
    "            entity_name += nltk_result_leaf[0] + ' '\n",
    "        print ('Type: ', nltk_result.label(), 'Name: ', entity_name)"
   ]
  },
  {
   "cell_type": "markdown",
   "id": "ad84f752-b628-4e69-aa3f-352c715bbfec",
   "metadata": {},
   "source": [
    "Note that NLTK named recognition seems to rely in part on capitalization to recognize names. For example, words in the middle of the sentence that are capitalized or have the first letter capitalized may be recognized as an entities."
   ]
  },
  {
   "cell_type": "code",
   "execution_count": null,
   "id": "cb93ef8c-23ba-42cd-ad41-0e66475304d1",
   "metadata": {},
   "outputs": [],
   "source": []
  },
  {
   "cell_type": "markdown",
   "id": "0f05c401-5ed9-4bc9-90b7-159a2045fc21",
   "metadata": {},
   "source": [
    "# Entities Recognition within Movie Database Overview"
   ]
  },
  {
   "cell_type": "code",
   "execution_count": null,
   "id": "858a4f4b-bcd1-49d7-8ac6-eb61e9ddd766",
   "metadata": {},
   "outputs": [],
   "source": []
  },
  {
   "cell_type": "markdown",
   "id": "3ddfb79a-a38d-4a7b-bc52-65bbb513f120",
   "metadata": {},
   "source": [
    "# END OF NOTEBOOK"
   ]
  },
  {
   "cell_type": "code",
   "execution_count": null,
   "id": "835ed287-328c-480d-bcaa-8ad17528eb2c",
   "metadata": {},
   "outputs": [],
   "source": []
  },
  {
   "cell_type": "code",
   "execution_count": null,
   "id": "e327bc92",
   "metadata": {},
   "outputs": [],
   "source": []
  },
  {
   "cell_type": "code",
   "execution_count": null,
   "id": "a85a7e3c",
   "metadata": {},
   "outputs": [],
   "source": []
  }
 ],
 "metadata": {
  "kernelspec": {
   "display_name": "Python 3 (ipykernel)",
   "language": "python",
   "name": "python3"
  },
  "language_info": {
   "codemirror_mode": {
    "name": "ipython",
    "version": 3
   },
   "file_extension": ".py",
   "mimetype": "text/x-python",
   "name": "python",
   "nbconvert_exporter": "python",
   "pygments_lexer": "ipython3",
   "version": "3.12.4"
  }
 },
 "nbformat": 4,
 "nbformat_minor": 5
}
