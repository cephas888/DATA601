{
 "cells": [
  {
   "cell_type": "markdown",
   "id": "99e6971e",
   "metadata": {},
   "source": [
    "<div class=\"alert alert-block alert-info\">\n",
    "Notebook Author:<br>Felix Gonzalez, P.E. <br> Adjunct Instructor, <br> Division of Professional Studies <br> Computer Science and Electrical Engineering <br> University of Maryland Baltimore County <br> fgonzale@umbc.edu\n",
    "</div>"
   ]
  },
  {
   "cell_type": "markdown",
   "id": "2ea27175",
   "metadata": {},
   "source": [
    "<div class=\"alert alert-block alert-info\">\n",
    "Acknowledgements:<br>Bird, Steven, Edward Loper and Ewan Klein (2009), Natural Language Processing with Python. O’Reilly Media Inc.\n",
    "<br> https://www.nltk.org/book/\n",
    "</div>"
   ]
  },
  {
   "cell_type": "markdown",
   "id": "2087e063",
   "metadata": {},
   "source": [
    "https://www.nltk.org/\n",
    "\n",
    "Other NLP libraries that can be used include Gensim and SpaCy."
   ]
  },
  {
   "cell_type": "markdown",
   "id": "cef9227c",
   "metadata": {},
   "source": [
    "Intro on different models\n",
    "- Bag of Words (BoW) model\n",
    "\n",
    "Talk about different tasks taht can be done \n",
    "- Sim Search\n",
    "- Clustering\n",
    "- Classification\n",
    "- Generative AI\n",
    "\n",
    "The notebook will focus on the simpler BoW model. In this notebook specifically will \n",
    "Talk about BoW\n",
    "\n",
    "Text Normalization (https://www.nltk.org/book/ch03.html)"
   ]
  },
  {
   "cell_type": "code",
   "execution_count": null,
   "id": "1dcaf154",
   "metadata": {},
   "outputs": [],
   "source": []
  },
  {
   "cell_type": "code",
   "execution_count": null,
   "id": "e327bc92",
   "metadata": {},
   "outputs": [],
   "source": []
  },
  {
   "cell_type": "code",
   "execution_count": null,
   "id": "a85a7e3c",
   "metadata": {},
   "outputs": [],
   "source": []
  }
 ],
 "metadata": {
  "kernelspec": {
   "display_name": "Python 3 (ipykernel)",
   "language": "python",
   "name": "python3"
  },
  "language_info": {
   "codemirror_mode": {
    "name": "ipython",
    "version": 3
   },
   "file_extension": ".py",
   "mimetype": "text/x-python",
   "name": "python",
   "nbconvert_exporter": "python",
   "pygments_lexer": "ipython3",
   "version": "3.11.4"
  }
 },
 "nbformat": 4,
 "nbformat_minor": 5
}
