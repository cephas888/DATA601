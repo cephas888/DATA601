{
  "nbformat": 4,
  "nbformat_minor": 0,
  "metadata": {
    "colab": {
      "provenance": []
    },
    "kernelspec": {
      "name": "python3",
      "display_name": "Python 3"
    },
    "language_info": {
      "name": "python"
    }
  },
  "cells": [
    {
      "cell_type": "code",
      "execution_count": null,
      "metadata": {
        "id": "OLb1HFlnTbUc"
      },
      "outputs": [],
      "source": [
        "'''pip install streamlit'''     #uncomment it to run, and then comment it back."
      ]
    },
    {
      "cell_type": "code",
      "source": [
        "import streamlit as st\n",
        "\n",
        "def say_hello():\n",
        "        st.write(f\"hello {nameText}\")\n",
        "        \n",
        "nameText = st.text_input('name', value='joe')\n",
        "button = st.button(\"say hello\", on_click=say_hello)\n"
      ],
      "metadata": {
        "id": "v19LdzMpTeHs"
      },
      "execution_count": null,
      "outputs": []
    }
  ]
}