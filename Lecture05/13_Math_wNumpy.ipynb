{
 "cells": [
  {
   "cell_type": "markdown",
   "id": "b6502d03",
   "metadata": {},
   "source": [
    "<div class=\"alert alert-block alert-info\">\n",
    "Author:<br>Felix Gonzalez, P.E. <br> Adjunct Instructor, <br> Division of Professional Studies <br> Computer Science and Electrical Engineering <br> University of Maryland Baltimore County <br> fgonzale@umbc.edu\n",
    "</div>"
   ]
  },
  {
   "cell_type": "code",
   "execution_count": 1,
   "id": "9f255c40",
   "metadata": {},
   "outputs": [],
   "source": [
    "# In Jupyter Notebooks is best practice to load packages towards the beginning of the notebook \n",
    "import numpy as np # Numpy library\n",
    "import matplotlib.pyplot as plt # MatPlotLib Plotting library."
   ]
  },
  {
   "cell_type": "markdown",
   "id": "743544ac",
   "metadata": {},
   "source": [
    "This notebook provides an overview of the Numpy Package. NumPy provides Python with scientific computing capabilities including but not limited to math, shape manipulation, linear algebra, basic statistics, matrix operations, among other. Numpy is included as a package in the Anaconda Distribution. The notebook will highlight the principal functions that can be used for general mathematical calclations and data analysis.\n",
    "\n",
    "Full list of Numpy functionalities can be found at the routines documentation page (https://numpy.org/doc/stable/reference/routines.html). This includes from array creation, manipulation, binary operations, string operations, datetime support functions, linear lagebra, logic functions, mathematical operations, matrix operations, polynomials, sorting, searching and counting, and statistics. Numpy also has defined constants such as infinity, nan (Not a Number or null value) and pi (https://numpy.org/doc/stable/reference/constants.html).\n",
    "\n",
    "Other mathematical and scientific computing Python pacakges that may be alternative to Numpy include Pandas, SciPy, TensorFlow, PyTorch. Other programing langauges that have similar capabilities include R, and MatLab.\n",
    "\n",
    "Documentation Reference:\n",
    "- https://numpy.org/doc/stable/\n",
    "- https://numpy.org/doc/stable/reference/index.html"
   ]
  },
  {
   "cell_type": "markdown",
   "id": "91bcf569",
   "metadata": {},
   "source": [
    "# Table of Contents\n",
    "[Numpy Arrays](#Numpy-Arrays)\n",
    "\n",
    "[Multidimensional Arrays](#Multidimensional-Arrays)\n",
    "\n",
    "[Array Creation Functions](#Array-Creation-Functions)\n",
    "\n",
    "[Math Functions](#Math-Functions)\n",
    "\n",
    "[Searching](#Searching)\n",
    "\n",
    "[Vectorization](#Vectorization)\n",
    "\n",
    "[Distributions](#Distributions)\n",
    "\n",
    "[Linear Regression](#Linear-Regression)"
   ]
  },
  {
   "cell_type": "markdown",
   "id": "64a26544",
   "metadata": {},
   "source": [
    "# Numpy Arrays\n",
    "[Return to Table of Contents](#Table-of-Contents)\n",
    "\n",
    "Arrays are the base object and data collection within Numpy. All data in a Numpy array must be of a single data type (dtype). Numpy has a large number of possible data types including but not limited to those in base Python:\n",
    "- np.str ==> string\n",
    "- np.bool ==> boolean (i.e., True|False)\n",
    "- np.int ==> integer\n",
    "- np.float ==> floating point\n",
    "- np.complex ==> complex (i.e., 1+1j)\n",
    "\n",
    "Other datatypes include timedelta and datetime which we will discuss in a future notebook. \n",
    "\n",
    "One advantage of using arrays is that calculations tend to be faster when compared to other methods that can have multiple data types."
   ]
  },
  {
   "cell_type": "code",
   "execution_count": 2,
   "id": "09359dd8",
   "metadata": {},
   "outputs": [
    {
     "data": {
      "text/plain": [
       "array([1, 2, 3, 7, 8, 9])"
      ]
     },
     "execution_count": 2,
     "metadata": {},
     "output_type": "execute_result"
    }
   ],
   "source": [
    "# Construction of an array.\n",
    "array1 = np.array(object = [1,2,3,7,8,9]) # Note that user can specify the dtype. Alternatively is detected by Np.\n",
    "# Alternatively can also be written as np.array([1,2,3]), note parenthesis and square brackets.\n",
    "array1"
   ]
  },
  {
   "cell_type": "code",
   "execution_count": 3,
   "id": "fe5ca8f7",
   "metadata": {},
   "outputs": [
    {
     "name": "stdout",
     "output_type": "stream",
     "text": [
      "[1 2 3 7 8 9]\n"
     ]
    }
   ],
   "source": [
    "# Note the difference between the output of an array1 variable vs using the print function.\n",
    "print(array1)"
   ]
  },
  {
   "cell_type": "code",
   "execution_count": 4,
   "id": "d586c5bd",
   "metadata": {},
   "outputs": [
    {
     "data": {
      "text/plain": [
       "numpy.ndarray"
      ]
     },
     "execution_count": 4,
     "metadata": {},
     "output_type": "execute_result"
    }
   ],
   "source": [
    "type(array1)"
   ]
  },
  {
   "cell_type": "code",
   "execution_count": 5,
   "id": "383d9761",
   "metadata": {},
   "outputs": [],
   "source": [
    "# You can convert Lists to NP Arrays\n",
    "# and believe me, you will convert lots of lists to NP arrays\n",
    "list1 = [1.0, 2.0, 3.0]\n",
    "array2 = np.array(list1)"
   ]
  },
  {
   "cell_type": "code",
   "execution_count": 6,
   "id": "8522adae",
   "metadata": {},
   "outputs": [
    {
     "data": {
      "text/plain": [
       "list"
      ]
     },
     "execution_count": 6,
     "metadata": {},
     "output_type": "execute_result"
    }
   ],
   "source": [
    "type(list1)"
   ]
  },
  {
   "cell_type": "code",
   "execution_count": 7,
   "id": "48605cff",
   "metadata": {},
   "outputs": [
    {
     "data": {
      "text/plain": [
       "numpy.ndarray"
      ]
     },
     "execution_count": 7,
     "metadata": {},
     "output_type": "execute_result"
    }
   ],
   "source": [
    "type(array2)"
   ]
  },
  {
   "cell_type": "code",
   "execution_count": 8,
   "id": "44fdc6bb",
   "metadata": {},
   "outputs": [],
   "source": [
    "# Currently, array1 is an integer array\n",
    "# If we want to convert that integer array into a float array, \n",
    "# we need to use an associated function (with an underscore). For example:\n",
    "array3 = np.float_(array1)"
   ]
  },
  {
   "cell_type": "code",
   "execution_count": 9,
   "id": "726885ad",
   "metadata": {},
   "outputs": [
    {
     "name": "stdout",
     "output_type": "stream",
     "text": [
      "[1 2 3 7 8 9]\n",
      "[1. 2. 3. 7. 8. 9.]\n"
     ]
    }
   ],
   "source": [
    "# By now you may have noticed that to show the output of two objects in one cell I need to use the print function.\n",
    "# This uses the space within the notebook a little more efficiently.\n",
    "print(array1)\n",
    "print(array3)"
   ]
  },
  {
   "cell_type": "code",
   "execution_count": 10,
   "id": "7a6405ae",
   "metadata": {},
   "outputs": [
    {
     "data": {
      "text/plain": [
       "array([1., 2., 3., 7., 8., 9.])"
      ]
     },
     "execution_count": 10,
     "metadata": {},
     "output_type": "execute_result"
    }
   ],
   "source": [
    "# If only the objects are written the output shown is that of the last object.\n",
    "array1\n",
    "array3"
   ]
  },
  {
   "cell_type": "code",
   "execution_count": 11,
   "id": "3c065037",
   "metadata": {},
   "outputs": [
    {
     "data": {
      "text/plain": [
       "2"
      ]
     },
     "execution_count": 11,
     "metadata": {},
     "output_type": "execute_result"
    }
   ],
   "source": [
    "# Data selection occurs in a similar way to the list indexing or slicing method. \n",
    "# Note that in this case I have a further list within the array.\n",
    "array1[1]"
   ]
  },
  {
   "cell_type": "code",
   "execution_count": 12,
   "id": "04ef9ee4",
   "metadata": {},
   "outputs": [
    {
     "data": {
      "text/plain": [
       "2"
      ]
     },
     "execution_count": 12,
     "metadata": {},
     "output_type": "execute_result"
    }
   ],
   "source": [
    "# Data selection occurs in a similar way to the list indexing or slicing methods.\n",
    "# Output being with the output being the value for indexing and a smaller array for slicing. \n",
    "array1[1]"
   ]
  },
  {
   "cell_type": "code",
   "execution_count": 13,
   "id": "a9cb506b",
   "metadata": {},
   "outputs": [
    {
     "data": {
      "text/plain": [
       "array([3, 7, 8, 9])"
      ]
     },
     "execution_count": 13,
     "metadata": {},
     "output_type": "execute_result"
    }
   ],
   "source": [
    "array1[2:]"
   ]
  },
  {
   "cell_type": "code",
   "execution_count": 14,
   "id": "bcc554f0",
   "metadata": {},
   "outputs": [
    {
     "name": "stdout",
     "output_type": "stream",
     "text": [
      "Before______\n",
      "[1 2 3]\n",
      "[1 2 3]\n",
      "After_______\n",
      "[5 2 3]\n",
      "[5 2 3]\n"
     ]
    }
   ],
   "source": [
    "# Copying arrays.\n",
    "\n",
    "array1 = np.array([1, 2, 3]) \n",
    "array2 = array1\n",
    "\n",
    "print('Before______')\n",
    "print(array1)\n",
    "print(array2)\n",
    "\n",
    "array1[0] = 5 # By changing array1 element 0 we also make the change in array2.\n",
    "\n",
    "print('After_______')\n",
    "print(array1)\n",
    "print(array2)"
   ]
  },
  {
   "cell_type": "code",
   "execution_count": 15,
   "id": "bb67d484",
   "metadata": {},
   "outputs": [
    {
     "name": "stdout",
     "output_type": "stream",
     "text": [
      "Before______\n",
      "[1 2 3]\n",
      "[1 2 3]\n",
      "After_______\n",
      "[5 2 3]\n",
      "[1 2 3]\n"
     ]
    }
   ],
   "source": [
    "# Same as other objects in Python, Numpy arrays are passed by reference (to minimize space used in memory)\n",
    "# This is why when we made a change in array1 above, we also changed array2\n",
    "# To ensure that values are independent, use the copy function.\n",
    "\n",
    "array1 = np.array([1, 2, 3]) \n",
    "array2 = np.copy(array1)\n",
    "\n",
    "print('Before______')\n",
    "print(array1)\n",
    "print(array2)\n",
    "\n",
    "array1[0] = 5 # Because we used the copy function, by changing array1 element 0 we DO NOT make the change in array2.\n",
    "\n",
    "print('After_______')\n",
    "print(array1)\n",
    "print(array2)"
   ]
  },
  {
   "cell_type": "markdown",
   "id": "6aba7483",
   "metadata": {},
   "source": [
    "# Multidimensional Arrays\n",
    "[Return to Table of Contents](#Table-of-Contents)\n",
    "\n",
    "Numpy arrays can be N-dimensional, which is of particular use with tables of data (i.e. 2-D). Depending on the dataset, various functions can be used to shape the data into a form that you may need. Arrays also work faster than other data collections making it useful to manipulate data in an efficient way. This section also discusses methods and functions to transform multidimensional arrays."
   ]
  },
  {
   "cell_type": "code",
   "execution_count": 16,
   "id": "40446378",
   "metadata": {},
   "outputs": [
    {
     "name": "stdout",
     "output_type": "stream",
     "text": [
      "[[1 2 3]\n",
      " [3 4 5]\n",
      " [5 6 7]\n",
      " [7 8 9]]\n"
     ]
    }
   ],
   "source": [
    "# Creating a 4x3 Array:\n",
    "array4 = np.array( [[1, 2, 3], [3, 4, 5], [5, 6, 7], [7, 8, 9]])\n",
    "print(array4)"
   ]
  },
  {
   "cell_type": "code",
   "execution_count": 17,
   "id": "6f20d54b",
   "metadata": {},
   "outputs": [
    {
     "data": {
      "text/plain": [
       "(4, 3)"
      ]
     },
     "execution_count": 17,
     "metadata": {},
     "output_type": "execute_result"
    }
   ],
   "source": [
    "# Shape function gives me the number of elements iin columns and rows.\n",
    "array4.shape"
   ]
  },
  {
   "cell_type": "code",
   "execution_count": 18,
   "id": "fa66cccc",
   "metadata": {},
   "outputs": [
    {
     "data": {
      "text/plain": [
       "12"
      ]
     },
     "execution_count": 18,
     "metadata": {},
     "output_type": "execute_result"
    }
   ],
   "source": [
    "# Size function gives me the number of items or values.\n",
    "array4.size"
   ]
  },
  {
   "cell_type": "code",
   "execution_count": 19,
   "id": "cb634479",
   "metadata": {},
   "outputs": [
    {
     "data": {
      "text/plain": [
       "array([3, 4, 5])"
      ]
     },
     "execution_count": 19,
     "metadata": {},
     "output_type": "execute_result"
    }
   ],
   "source": [
    "# Data selection occurs in a similar way to the list indexing or slicing method. \n",
    "# Note that in this case I have a further array within the array.\n",
    "# The coma determines the location within the row or column.\n",
    "array4[1]"
   ]
  },
  {
   "cell_type": "code",
   "execution_count": 20,
   "id": "bf01ce5c",
   "metadata": {},
   "outputs": [
    {
     "data": {
      "text/plain": [
       "array([2, 4, 6, 8])"
      ]
     },
     "execution_count": 20,
     "metadata": {},
     "output_type": "execute_result"
    }
   ],
   "source": [
    "# Selects the data in the second column.\n",
    "array4[:,1]"
   ]
  },
  {
   "cell_type": "code",
   "execution_count": 21,
   "id": "6855962c",
   "metadata": {},
   "outputs": [
    {
     "data": {
      "text/plain": [
       "array([3, 4, 5])"
      ]
     },
     "execution_count": 21,
     "metadata": {},
     "output_type": "execute_result"
    }
   ],
   "source": [
    "# Selects values in the second array element.\n",
    "array4[1,:]"
   ]
  },
  {
   "cell_type": "code",
   "execution_count": 22,
   "id": "9f5a96a4",
   "metadata": {},
   "outputs": [
    {
     "data": {
      "text/plain": [
       "5"
      ]
     },
     "execution_count": 22,
     "metadata": {},
     "output_type": "execute_result"
    }
   ],
   "source": [
    "# Selects value in the second row and third column.\n",
    "array4[1,2]"
   ]
  },
  {
   "cell_type": "code",
   "execution_count": 23,
   "id": "087caaa4",
   "metadata": {},
   "outputs": [
    {
     "data": {
      "text/plain": [
       "array([[1, 2, 3],\n",
       "       [5, 6, 7]])"
      ]
     },
     "execution_count": 23,
     "metadata": {},
     "output_type": "execute_result"
    }
   ],
   "source": [
    "# Starting at array element 0 jumps one.\n",
    "array4[0::2]"
   ]
  },
  {
   "cell_type": "code",
   "execution_count": 24,
   "id": "9be4a9f8",
   "metadata": {},
   "outputs": [
    {
     "data": {
      "text/plain": [
       "array([1, 2, 3, 3, 4, 5, 5, 6, 7, 7, 8, 9])"
      ]
     },
     "execution_count": 24,
     "metadata": {},
     "output_type": "execute_result"
    }
   ],
   "source": [
    "# Makes converts the multidimensional array into a 1-dimension array.\n",
    "array4.flatten()"
   ]
  },
  {
   "cell_type": "code",
   "execution_count": 25,
   "id": "c2f6dc3c",
   "metadata": {},
   "outputs": [
    {
     "data": {
      "text/plain": [
       "array([[1, 2, 3, 3],\n",
       "       [4, 5, 5, 6],\n",
       "       [7, 7, 8, 9]])"
      ]
     },
     "execution_count": 25,
     "metadata": {},
     "output_type": "execute_result"
    }
   ],
   "source": [
    "# Reshapes the array into a 2 by 3.\n",
    "array4.reshape((3,4))"
   ]
  },
  {
   "cell_type": "code",
   "execution_count": 26,
   "id": "99722579",
   "metadata": {},
   "outputs": [
    {
     "data": {
      "text/plain": [
       "array([[1, 2, 3],\n",
       "       [3, 4, 5],\n",
       "       [5, 6, 7],\n",
       "       [7, 8, 9]])"
      ]
     },
     "execution_count": 26,
     "metadata": {},
     "output_type": "execute_result"
    }
   ],
   "source": [
    "# The original shape of the array.\n",
    "array4.reshape((4,3))"
   ]
  },
  {
   "cell_type": "code",
   "execution_count": 27,
   "id": "8949dac6",
   "metadata": {},
   "outputs": [
    {
     "data": {
      "text/plain": [
       "array([[1],\n",
       "       [2],\n",
       "       [3],\n",
       "       [3],\n",
       "       [4],\n",
       "       [5],\n",
       "       [5],\n",
       "       [6],\n",
       "       [7],\n",
       "       [7],\n",
       "       [8],\n",
       "       [9]])"
      ]
     },
     "execution_count": 27,
     "metadata": {},
     "output_type": "execute_result"
    }
   ],
   "source": [
    "# Returns a 1-dimension over the column axis.\n",
    "array4.reshape((-1,1))"
   ]
  },
  {
   "cell_type": "code",
   "execution_count": 28,
   "id": "92285fa7",
   "metadata": {},
   "outputs": [
    {
     "data": {
      "text/plain": [
       "array([[1, 2, 3, 3, 4, 5],\n",
       "       [5, 6, 7, 7, 8, 9]])"
      ]
     },
     "execution_count": 28,
     "metadata": {},
     "output_type": "execute_result"
    }
   ],
   "source": [
    "# Here the -1 means \"hey python, you determine the length along this axis\"\n",
    "# We specify the number of columns (e.g., 6) , NP determines the number of rows.\n",
    "array4.reshape((-1, 6))"
   ]
  },
  {
   "cell_type": "code",
   "execution_count": 29,
   "id": "b1c3f27e",
   "metadata": {},
   "outputs": [
    {
     "data": {
      "text/plain": [
       "array([[1, 2, 3],\n",
       "       [3, 4, 5],\n",
       "       [5, 6, 7],\n",
       "       [7, 8, 9]])"
      ]
     },
     "execution_count": 29,
     "metadata": {},
     "output_type": "execute_result"
    }
   ],
   "source": [
    "array4"
   ]
  },
  {
   "cell_type": "code",
   "execution_count": 30,
   "id": "19135994",
   "metadata": {},
   "outputs": [
    {
     "data": {
      "text/plain": [
       "array([[1, 3, 5, 7],\n",
       "       [2, 4, 6, 8],\n",
       "       [3, 5, 7, 9]])"
      ]
     },
     "execution_count": 30,
     "metadata": {},
     "output_type": "execute_result"
    }
   ],
   "source": [
    "# Changes transposes the values and dimensions of the array.\n",
    "array4.transpose()"
   ]
  },
  {
   "cell_type": "code",
   "execution_count": 31,
   "id": "47174c7c",
   "metadata": {},
   "outputs": [
    {
     "data": {
      "text/plain": [
       "array([[1, 3, 5, 7],\n",
       "       [2, 4, 6, 8],\n",
       "       [3, 5, 7, 9]])"
      ]
     },
     "execution_count": 31,
     "metadata": {},
     "output_type": "execute_result"
    }
   ],
   "source": [
    "# Another method of transposing\n",
    "array4.T"
   ]
  },
  {
   "cell_type": "code",
   "execution_count": 32,
   "id": "ef75c3a8",
   "metadata": {},
   "outputs": [
    {
     "data": {
      "text/plain": [
       "array([[1, 3, 5, 7],\n",
       "       [2, 4, 6, 8],\n",
       "       [3, 5, 7, 9]])"
      ]
     },
     "execution_count": 32,
     "metadata": {},
     "output_type": "execute_result"
    }
   ],
   "source": [
    "# and yet another method of transposing\n",
    "array4.swapaxes(0, 1)"
   ]
  },
  {
   "cell_type": "markdown",
   "id": "19518ca7",
   "metadata": {},
   "source": [
    "# Array Creation Functions\n",
    "[Return to Table of Contents](#Table-of-Contents)"
   ]
  },
  {
   "cell_type": "code",
   "execution_count": 33,
   "id": "3d1cfa4d",
   "metadata": {},
   "outputs": [
    {
     "data": {
      "text/plain": [
       "array([3, 5, 7, 9])"
      ]
     },
     "execution_count": 33,
     "metadata": {},
     "output_type": "execute_result"
    }
   ],
   "source": [
    "# Arange function is similar to Python's range function.\n",
    "array5 = np.arange(start = 3, stop = 10, step = 2)\n",
    "array5"
   ]
  },
  {
   "cell_type": "code",
   "execution_count": 34,
   "id": "23cc8037",
   "metadata": {},
   "outputs": [
    {
     "data": {
      "text/plain": [
       "array([3., 5., 7., 9.])"
      ]
     },
     "execution_count": 34,
     "metadata": {},
     "output_type": "execute_result"
    }
   ],
   "source": [
    "# Similar to above but specifies the number of elements instead of the steps. Note result is a float. \n",
    "array5 = np.linspace(start = 3, stop = 9, num = 4)\n",
    "array5"
   ]
  },
  {
   "cell_type": "code",
   "execution_count": 35,
   "id": "aa5635be",
   "metadata": {},
   "outputs": [
    {
     "data": {
      "text/plain": [
       "array([ 0,  5, 10, 15, 20, 25, 30, 35, 40, 45, 50])"
      ]
     },
     "execution_count": 35,
     "metadata": {},
     "output_type": "execute_result"
    }
   ],
   "source": [
    "array6 = np.arange(0,51,5)\n",
    "array6"
   ]
  },
  {
   "cell_type": "code",
   "execution_count": 36,
   "id": "2c2b523e",
   "metadata": {},
   "outputs": [
    {
     "data": {
      "text/plain": [
       "array([1., 1., 1., 1., 1., 1., 1., 1., 1., 1.])"
      ]
     },
     "execution_count": 36,
     "metadata": {},
     "output_type": "execute_result"
    }
   ],
   "source": [
    "# Array of values of 1. For np.ones, shape can be changed like the example in the next cell. \n",
    "array7 = np.ones(10)\n",
    "array7"
   ]
  },
  {
   "cell_type": "code",
   "execution_count": 37,
   "id": "76e0d679",
   "metadata": {},
   "outputs": [
    {
     "name": "stdout",
     "output_type": "stream",
     "text": [
      "[[0. 0. 0. 0. 0.]\n",
      " [0. 0. 0. 0. 0.]\n",
      " [0. 0. 0. 0. 0.]]\n"
     ]
    }
   ],
   "source": [
    "# Array of values of zeros with shape of 3x5.\n",
    "array8 = np.zeros((3,5))\n",
    "print(array8)"
   ]
  },
  {
   "cell_type": "code",
   "execution_count": 38,
   "id": "d118488e",
   "metadata": {},
   "outputs": [
    {
     "data": {
      "text/plain": [
       "array([[1., 0., 0., 0., 0., 0.],\n",
       "       [0., 1., 0., 0., 0., 0.],\n",
       "       [0., 0., 1., 0., 0., 0.],\n",
       "       [0., 0., 0., 1., 0., 0.],\n",
       "       [0., 0., 0., 0., 1., 0.],\n",
       "       [0., 0., 0., 0., 0., 1.]])"
      ]
     },
     "execution_count": 38,
     "metadata": {},
     "output_type": "execute_result"
    }
   ],
   "source": [
    "# The identity array is a square array with ones on the main diagonal.\n",
    "array9 = np.identity(6)\n",
    "array9"
   ]
  },
  {
   "cell_type": "code",
   "execution_count": 39,
   "id": "7de8c567",
   "metadata": {},
   "outputs": [
    {
     "data": {
      "text/plain": [
       "array([[1, 3, 9],\n",
       "       [9, 3, 1],\n",
       "       [1, 9, 7],\n",
       "       [2, 8, 7]])"
      ]
     },
     "execution_count": 39,
     "metadata": {},
     "output_type": "execute_result"
    }
   ],
   "source": [
    "array10 = np.random.randint(1,10,12).reshape((4,3))\n",
    "array10"
   ]
  },
  {
   "cell_type": "markdown",
   "id": "765e8291",
   "metadata": {},
   "source": [
    "# Math Functions\n",
    "[Return to Table of Contents](#Table-of-Contents)\n",
    "\n",
    "Example of math functions include mean, sum, product, min and max functions. This section also include examples on multidimensional arrays inverse, determinant, multiplication, and dot product. \n",
    "\n",
    "Documentation References:\n",
    "- https://numpy.org/doc/stable/reference/routines.math.html"
   ]
  },
  {
   "cell_type": "code",
   "execution_count": 40,
   "id": "241738f0",
   "metadata": {},
   "outputs": [
    {
     "data": {
      "text/plain": [
       "array([[ 1,  3,  5],\n",
       "       [ 7,  9, 11],\n",
       "       [13, 15, 17]])"
      ]
     },
     "execution_count": 40,
     "metadata": {},
     "output_type": "execute_result"
    }
   ],
   "source": [
    "array11 = np.arange(1, 18, 2).reshape((3,3))\n",
    "array11"
   ]
  },
  {
   "cell_type": "code",
   "execution_count": 41,
   "id": "c8fabfed",
   "metadata": {},
   "outputs": [
    {
     "data": {
      "text/plain": [
       "(1, 17)"
      ]
     },
     "execution_count": 41,
     "metadata": {},
     "output_type": "execute_result"
    }
   ],
   "source": [
    "# Min and Max within the array.\n",
    "array11.min(), array11.max()"
   ]
  },
  {
   "cell_type": "code",
   "execution_count": 42,
   "id": "e7b2c9cd",
   "metadata": {},
   "outputs": [
    {
     "data": {
      "text/plain": [
       "(9.0, 81, 34459425, 1, 17)"
      ]
     },
     "execution_count": 42,
     "metadata": {},
     "output_type": "execute_result"
    }
   ],
   "source": [
    "# Mean, sum, product, min and max functions.\n",
    "array11.mean(), array11.sum(), array11.prod(), array11.min(), array11.max()"
   ]
  },
  {
   "cell_type": "code",
   "execution_count": 43,
   "id": "4db2a97b",
   "metadata": {},
   "outputs": [
    {
     "data": {
      "text/plain": [
       "array([ 7.,  9., 11.])"
      ]
     },
     "execution_count": 43,
     "metadata": {},
     "output_type": "execute_result"
    }
   ],
   "source": [
    "# Average of each column\n",
    "array11.mean(axis=0)"
   ]
  },
  {
   "cell_type": "code",
   "execution_count": 44,
   "id": "ee13d90d",
   "metadata": {},
   "outputs": [
    {
     "data": {
      "text/plain": [
       "array([ 3.,  9., 15.])"
      ]
     },
     "execution_count": 44,
     "metadata": {},
     "output_type": "execute_result"
    }
   ],
   "source": [
    "# Average of each row\n",
    "array11.mean(axis=1)"
   ]
  },
  {
   "cell_type": "code",
   "execution_count": 45,
   "id": "ea64fd02",
   "metadata": {},
   "outputs": [
    {
     "data": {
      "text/plain": [
       "9.0"
      ]
     },
     "execution_count": 45,
     "metadata": {},
     "output_type": "execute_result"
    }
   ],
   "source": [
    "# Average of columns and rows.\n",
    "array11.mean(axis=(0,1))"
   ]
  },
  {
   "cell_type": "code",
   "execution_count": 46,
   "id": "9f154952",
   "metadata": {},
   "outputs": [
    {
     "data": {
      "text/plain": [
       "array([21, 27, 33])"
      ]
     },
     "execution_count": 46,
     "metadata": {},
     "output_type": "execute_result"
    }
   ],
   "source": [
    "# Sum of columns\n",
    "array11.sum(axis=0)"
   ]
  },
  {
   "cell_type": "code",
   "execution_count": 47,
   "id": "6f72f8e1",
   "metadata": {},
   "outputs": [
    {
     "data": {
      "text/plain": [
       "array([ 9, 27, 45])"
      ]
     },
     "execution_count": 47,
     "metadata": {},
     "output_type": "execute_result"
    }
   ],
   "source": [
    "# Sum of rows\n",
    "array11.sum(axis=1)"
   ]
  },
  {
   "cell_type": "code",
   "execution_count": 48,
   "id": "a31e7263",
   "metadata": {},
   "outputs": [
    {
     "data": {
      "text/plain": [
       "array([[ 1,  3,  5],\n",
       "       [ 7,  9, 11],\n",
       "       [13, 15, 17]])"
      ]
     },
     "execution_count": 48,
     "metadata": {},
     "output_type": "execute_result"
    }
   ],
   "source": [
    "array11"
   ]
  },
  {
   "cell_type": "code",
   "execution_count": 49,
   "id": "362bb2a0",
   "metadata": {},
   "outputs": [
    {
     "data": {
      "text/plain": [
       "array([[ 6,  8, 10],\n",
       "       [12, 14, 16],\n",
       "       [18, 20, 22]])"
      ]
     },
     "execution_count": 49,
     "metadata": {},
     "output_type": "execute_result"
    }
   ],
   "source": [
    "array11 + 5 # Adds 5 to all numbers in the array."
   ]
  },
  {
   "cell_type": "code",
   "execution_count": 50,
   "id": "aa57de0d",
   "metadata": {},
   "outputs": [
    {
     "data": {
      "text/plain": [
       "array([[ 2,  6, 10],\n",
       "       [14, 18, 22],\n",
       "       [26, 30, 34]])"
      ]
     },
     "execution_count": 50,
     "metadata": {},
     "output_type": "execute_result"
    }
   ],
   "source": [
    "array11 * 2 # Multiplies each number in the array by 2."
   ]
  },
  {
   "cell_type": "code",
   "execution_count": 51,
   "id": "b2a9eb4c",
   "metadata": {},
   "outputs": [
    {
     "data": {
      "text/plain": [
       "array([[  1,   9,  25],\n",
       "       [ 49,  81, 121],\n",
       "       [169, 225, 289]])"
      ]
     },
     "execution_count": 51,
     "metadata": {},
     "output_type": "execute_result"
    }
   ],
   "source": [
    "array11 ** 2 # Numbers in the array by the exponent 2. "
   ]
  },
  {
   "cell_type": "code",
   "execution_count": 52,
   "id": "824e528f",
   "metadata": {},
   "outputs": [
    {
     "data": {
      "text/plain": [
       "array([[0.        , 0.47712125, 0.69897   ],\n",
       "       [0.84509804, 0.95424251, 1.04139269],\n",
       "       [1.11394335, 1.17609126, 1.23044892]])"
      ]
     },
     "execution_count": 52,
     "metadata": {},
     "output_type": "execute_result"
    }
   ],
   "source": [
    "np.log10(array11) # Note warning when encountered by a division by zero."
   ]
  },
  {
   "cell_type": "code",
   "execution_count": 53,
   "id": "9e12641a",
   "metadata": {},
   "outputs": [
    {
     "data": {
      "text/plain": [
       "array([[2.71828183e+00, 2.00855369e+01, 1.48413159e+02],\n",
       "       [1.09663316e+03, 8.10308393e+03, 5.98741417e+04],\n",
       "       [4.42413392e+05, 3.26901737e+06, 2.41549528e+07]])"
      ]
     },
     "execution_count": 53,
     "metadata": {},
     "output_type": "execute_result"
    }
   ],
   "source": [
    "np.exp(array11) # Exponent of the array value."
   ]
  },
  {
   "cell_type": "code",
   "execution_count": 54,
   "id": "8e9a2753",
   "metadata": {},
   "outputs": [
    {
     "data": {
      "text/plain": [
       "array([[ 0.84147098,  0.14112001, -0.95892427],\n",
       "       [ 0.6569866 ,  0.41211849, -0.99999021],\n",
       "       [ 0.42016704,  0.65028784, -0.96139749]])"
      ]
     },
     "execution_count": 54,
     "metadata": {},
     "output_type": "execute_result"
    }
   ],
   "source": [
    "np.sin(array11) # Cosine"
   ]
  },
  {
   "cell_type": "code",
   "execution_count": 55,
   "id": "db35ccd5",
   "metadata": {},
   "outputs": [
    {
     "data": {
      "text/plain": [
       "(array([ 2.94452187e+01, -2.44521872e+00,  1.22040551e-15]),\n",
       " array([[ 0.20079137,  0.79227344,  0.40824829],\n",
       "        [ 0.5165778 ,  0.09475476, -0.81649658],\n",
       "        [ 0.83236422, -0.60276391,  0.40824829]]))"
      ]
     },
     "execution_count": 55,
     "metadata": {},
     "output_type": "execute_result"
    }
   ],
   "source": [
    "# Eigenvalues and eigenvectors\n",
    "np.linalg.eig(array11)"
   ]
  },
  {
   "cell_type": "code",
   "execution_count": 56,
   "id": "56bdc746",
   "metadata": {},
   "outputs": [
    {
     "data": {
      "text/plain": [
       "array([[-3.75299969e+14,  7.50599938e+14, -3.75299969e+14],\n",
       "       [ 7.50599938e+14, -1.50119988e+15,  7.50599938e+14],\n",
       "       [-3.75299969e+14,  7.50599938e+14, -3.75299969e+14]])"
      ]
     },
     "execution_count": 56,
     "metadata": {},
     "output_type": "execute_result"
    }
   ],
   "source": [
    "# Calculating inverses\n",
    "np.linalg.inv(array11)"
   ]
  },
  {
   "cell_type": "code",
   "execution_count": 57,
   "id": "1369c995",
   "metadata": {},
   "outputs": [
    {
     "data": {
      "text/plain": [
       "3.1974423109204565e-14"
      ]
     },
     "execution_count": 57,
     "metadata": {},
     "output_type": "execute_result"
    }
   ],
   "source": [
    "# Determinant\n",
    "np.linalg.det(array11)"
   ]
  },
  {
   "cell_type": "code",
   "execution_count": 58,
   "id": "0d6eab6c",
   "metadata": {},
   "outputs": [
    {
     "data": {
      "text/plain": [
       "2"
      ]
     },
     "execution_count": 58,
     "metadata": {},
     "output_type": "execute_result"
    }
   ],
   "source": [
    "# Rank of a matrix\n",
    "np.linalg.matrix_rank(array11)"
   ]
  },
  {
   "cell_type": "code",
   "execution_count": 59,
   "id": "8a61922f",
   "metadata": {},
   "outputs": [
    {
     "data": {
      "text/plain": [
       "27"
      ]
     },
     "execution_count": 59,
     "metadata": {},
     "output_type": "execute_result"
    }
   ],
   "source": [
    "# Trace (i.e., sum of diagonal elements in the matrix)\n",
    "np.trace(array11)"
   ]
  },
  {
   "cell_type": "code",
   "execution_count": 60,
   "id": "3fe79208",
   "metadata": {},
   "outputs": [
    {
     "name": "stdout",
     "output_type": "stream",
     "text": [
      "[1 2 3]\n",
      "\n",
      "\n",
      "[[ 1  3  5]\n",
      " [ 7  9 11]\n",
      " [13 15 17]]\n"
     ]
    }
   ],
   "source": [
    "# Recall array2 (shape 1x3) and array11 (shape 3x3)\n",
    "print(array2)\n",
    "print('\\n')\n",
    "print(array11)"
   ]
  },
  {
   "cell_type": "code",
   "execution_count": 61,
   "id": "9bde4805",
   "metadata": {},
   "outputs": [
    {
     "data": {
      "text/plain": [
       "array([[ 1,  6, 15],\n",
       "       [ 7, 18, 33],\n",
       "       [13, 30, 51]])"
      ]
     },
     "execution_count": 61,
     "metadata": {},
     "output_type": "execute_result"
    }
   ],
   "source": [
    "array11 * array2 # Multiplies arrays as long as the shape allows multiplication of the matrixes."
   ]
  },
  {
   "cell_type": "code",
   "execution_count": 62,
   "id": "f4b6cc6b",
   "metadata": {},
   "outputs": [
    {
     "data": {
      "text/plain": [
       "array([[ -1,   2,  -1],\n",
       "       [  5, -10,   5],\n",
       "       [ 11, -22,  11]])"
      ]
     },
     "execution_count": 62,
     "metadata": {},
     "output_type": "execute_result"
    }
   ],
   "source": [
    "np.cross(array11, array2) # Cross product as long as the array shapes allows multiplicatio f matrixes."
   ]
  },
  {
   "cell_type": "markdown",
   "id": "ba792b2e",
   "metadata": {},
   "source": [
    "# Searching\n",
    "[Return to Table of Contents](#Table-of-Contents)"
   ]
  },
  {
   "cell_type": "code",
   "execution_count": 63,
   "id": "04ce24d9",
   "metadata": {},
   "outputs": [
    {
     "name": "stdout",
     "output_type": "stream",
     "text": [
      "[[ 1  3  5]\n",
      " [ 7  9 11]\n",
      " [13 15 17]]\n"
     ]
    }
   ],
   "source": [
    "print(array11)"
   ]
  },
  {
   "cell_type": "code",
   "execution_count": 64,
   "id": "659764f3",
   "metadata": {},
   "outputs": [
    {
     "name": "stdout",
     "output_type": "stream",
     "text": [
      "Indices of elements > 11\n"
     ]
    },
    {
     "data": {
      "text/plain": [
       "(array([2, 2, 2], dtype=int64), array([0, 1, 2], dtype=int64))"
      ]
     },
     "execution_count": 64,
     "metadata": {},
     "output_type": "execute_result"
    }
   ],
   "source": [
    "print ('Indices of elements > 11')\n",
    "indices_arr = np.where(array11 > 11)\n",
    "indices_arr\n",
    "# Returns two arrays where array 0 is the index location element on the row and array 1 is the index location on the column."
   ]
  },
  {
   "cell_type": "code",
   "execution_count": 65,
   "id": "f01836bd",
   "metadata": {},
   "outputs": [
    {
     "data": {
      "text/plain": [
       "2"
      ]
     },
     "execution_count": 65,
     "metadata": {},
     "output_type": "execute_result"
    }
   ],
   "source": [
    "indices_arr[0][2]"
   ]
  },
  {
   "cell_type": "code",
   "execution_count": 66,
   "id": "bdb5808e",
   "metadata": {},
   "outputs": [
    {
     "data": {
      "text/plain": [
       "2"
      ]
     },
     "execution_count": 66,
     "metadata": {},
     "output_type": "execute_result"
    }
   ],
   "source": [
    "indices_arr[1][2]"
   ]
  },
  {
   "cell_type": "code",
   "execution_count": 67,
   "id": "9b80bd6e",
   "metadata": {},
   "outputs": [
    {
     "data": {
      "text/plain": [
       "17"
      ]
     },
     "execution_count": 67,
     "metadata": {},
     "output_type": "execute_result"
    }
   ],
   "source": [
    "array11[2,2]"
   ]
  },
  {
   "cell_type": "code",
   "execution_count": 68,
   "id": "daa7ed9f",
   "metadata": {},
   "outputs": [
    {
     "data": {
      "text/plain": [
       "array([1, 1, 1, 2, 2, 2], dtype=int64)"
      ]
     },
     "execution_count": 68,
     "metadata": {},
     "output_type": "execute_result"
    }
   ],
   "source": [
    "# Each array can be called using the index selection.\n",
    "np.where(array11 > 5)[0]"
   ]
  },
  {
   "cell_type": "code",
   "execution_count": 69,
   "id": "b45c48d9",
   "metadata": {},
   "outputs": [
    {
     "data": {
      "text/plain": [
       "array([0, 1, 2, 0, 1, 2], dtype=int64)"
      ]
     },
     "execution_count": 69,
     "metadata": {},
     "output_type": "execute_result"
    }
   ],
   "source": [
    "np.where(array11 > 5)[1]"
   ]
  },
  {
   "cell_type": "code",
   "execution_count": 70,
   "id": "024d9a11",
   "metadata": {},
   "outputs": [
    {
     "data": {
      "text/plain": [
       "11"
      ]
     },
     "execution_count": 70,
     "metadata": {},
     "output_type": "execute_result"
    }
   ],
   "source": [
    "array11[1, 2] # A specific value within the array can be called giving the coordinates. "
   ]
  },
  {
   "cell_type": "code",
   "execution_count": 71,
   "id": "2cce549a",
   "metadata": {},
   "outputs": [
    {
     "data": {
      "text/plain": [
       "17"
      ]
     },
     "execution_count": 71,
     "metadata": {},
     "output_type": "execute_result"
    }
   ],
   "source": [
    "# Working with the indices I can make the following function to call elements.\n",
    "element_index = 2\n",
    "array11[indices_arr[0][element_index], indices_arr[1][element_index]]"
   ]
  },
  {
   "cell_type": "code",
   "execution_count": 72,
   "id": "de40db0a",
   "metadata": {},
   "outputs": [
    {
     "data": {
      "text/plain": [
       "(array([1, 1, 1, 2], dtype=int64), array([0, 1, 2, 0], dtype=int64))"
      ]
     },
     "execution_count": 72,
     "metadata": {},
     "output_type": "execute_result"
    }
   ],
   "source": [
    "# You can use more than one criteria but in that case we should use extra ()s as follows \n",
    "np.where((array11 > 5) & (array11 < 15))"
   ]
  },
  {
   "cell_type": "markdown",
   "id": "270ea3ba",
   "metadata": {},
   "source": [
    "# Vectorization\n",
    "[Return to Table of Contents](#Table-of-Contents)\n",
    "\n",
    "Sometimes, you’ll want to make complex functions that don’t necessarily automatically work with numpy arrays. The soLution is  vectorization. Vectorization may also improve the performance. Let's see how vectorization works with an example.\n",
    "\n",
    "References:\n",
    "- https://numpy.org/doc/stable/reference/generated/numpy.vectorize.html"
   ]
  },
  {
   "cell_type": "code",
   "execution_count": 73,
   "id": "27ac05f5",
   "metadata": {},
   "outputs": [],
   "source": [
    "def funct1(val): # Defined \"funct1\" accepts only one value.\n",
    "    if val < np.pi/2: # Doesn’t work with array\n",
    "        x = np.sin(val)\n",
    "    else:\n",
    "        x = np.cos(val)\n",
    "    return x"
   ]
  },
  {
   "cell_type": "code",
   "execution_count": 74,
   "id": "13b95a58",
   "metadata": {},
   "outputs": [
    {
     "data": {
      "text/plain": [
       "0.706825181105366"
      ]
     },
     "execution_count": 74,
     "metadata": {},
     "output_type": "execute_result"
    }
   ],
   "source": [
    "# This will work\n",
    "funct1(3.14/4)"
   ]
  },
  {
   "cell_type": "code",
   "execution_count": 75,
   "id": "fa8066a9",
   "metadata": {},
   "outputs": [],
   "source": [
    "# Let's create an array with 2 million values.\n",
    "z = np.linspace(start = 0, stop = np.pi, num = 2000000)"
   ]
  },
  {
   "cell_type": "code",
   "execution_count": 76,
   "id": "c15c2537",
   "metadata": {},
   "outputs": [
    {
     "name": "stdout",
     "output_type": "stream",
     "text": [
      "Number of elements in z <class 'numpy.ndarray'> is: 2,000,000\n"
     ]
    },
    {
     "data": {
      "text/plain": [
       "array([0.00000000e+00, 1.57079711e-06, 3.14159422e-06, ...,\n",
       "       3.14158951e+00, 3.14159108e+00, 3.14159265e+00])"
      ]
     },
     "execution_count": 76,
     "metadata": {},
     "output_type": "execute_result"
    }
   ],
   "source": [
    "# Do not print a variable with 2,000,000 values. Will most probably crash the Notebook.\n",
    "print(f'Number of elements in z {type(z)} is: {len(z):,}')\n",
    "z # Because there are so many values it only provides the first three and last three numbers in the array."
   ]
  },
  {
   "cell_type": "code",
   "execution_count": 77,
   "id": "6919757e",
   "metadata": {},
   "outputs": [],
   "source": [
    "# Calling funct1 with the \"z\" array will fail.\n",
    "# Error provides details on the array having more than one element.\n",
    "#funct1(z)"
   ]
  },
  {
   "cell_type": "code",
   "execution_count": 78,
   "id": "79ae56ac",
   "metadata": {},
   "outputs": [],
   "source": [
    "# By using the vectorize function on the funct1 will work.\n",
    "vfunct1 = np.vectorize(funct1)\n",
    "# Because the vectorize function makes functions like this work for arrays"
   ]
  },
  {
   "cell_type": "code",
   "execution_count": 79,
   "id": "cfabb3ed",
   "metadata": {},
   "outputs": [
    {
     "name": "stdout",
     "output_type": "stream",
     "text": [
      "CPU times: total: 1.53 s\n",
      "Wall time: 1.58 s\n"
     ]
    },
    {
     "data": {
      "text/plain": [
       "array([ 0.00000000e+00,  1.57079711e-06,  3.14159422e-06, ...,\n",
       "       -1.00000000e+00, -1.00000000e+00, -1.00000000e+00])"
      ]
     },
     "execution_count": 79,
     "metadata": {},
     "output_type": "execute_result"
    }
   ],
   "source": [
    "%%time\n",
    "# Now that we have the vectorized function we can proceed to use it with z array.\n",
    "vfunct1(z)"
   ]
  },
  {
   "cell_type": "code",
   "execution_count": 80,
   "id": "2f295e47",
   "metadata": {},
   "outputs": [
    {
     "name": "stdout",
     "output_type": "stream",
     "text": [
      "CPU times: total: 1.95 s\n",
      "Wall time: 2.03 s\n"
     ]
    },
    {
     "data": {
      "text/plain": [
       "array([0.00000000e+00, 1.57079711e-06, 3.14159422e-06, 4.71239134e-06])"
      ]
     },
     "execution_count": 80,
     "metadata": {},
     "output_type": "execute_result"
    }
   ],
   "source": [
    "%%time\n",
    "# Option 2 would be to iterate thru each element in the array and use the non-vectorized function\n",
    "for element in range(len(z)):\n",
    "    z[element] = funct1(z[element])\n",
    "z[:4]"
   ]
  },
  {
   "cell_type": "markdown",
   "id": "b9bb8015",
   "metadata": {},
   "source": [
    "While this is fine to do for functions you don’t need high performance on, it is slow(ish). Consider writing the function better for speed. \n",
    "\n",
    "Using the magic %%time in the above cells we can benchmark the two code cells. In the above example the vectorized function ran in 0ns while the loop ran in 2.4 seconds."
   ]
  },
  {
   "cell_type": "markdown",
   "id": "2d68dd5f",
   "metadata": {},
   "source": [
    "# Distributions\n",
    "[Return to Table of Contents](#Table-of-Contents)\n",
    "\n",
    "Numpy has the capability to create random sample for multiple types of distributions including but not limited to normal, binomial, lognormal, gamma, poisson, power, etc. Below is an example using the normal distribution.\n",
    "\n",
    "Documentation References:\n",
    "- https://numpy.org/doc/stable/reference/random/generator.html#distributions\n",
    "- https://www.w3schools.com/python/numpy/numpy_random_binomial.asp"
   ]
  },
  {
   "cell_type": "code",
   "execution_count": 81,
   "id": "0c58d4df",
   "metadata": {},
   "outputs": [],
   "source": [
    "mu, sigma = 0, 0.1 # Parameters for the normal distribution: Mean and Standard deviation\n",
    "s = np.random.default_rng().normal(mu, sigma, 1000) # Calling the Normal distribution function"
   ]
  },
  {
   "cell_type": "code",
   "execution_count": 82,
   "id": "42093d63",
   "metadata": {},
   "outputs": [
    {
     "data": {
      "image/png": "[encoded data removed]",
      "text/plain": [
       "<Figure size 640x480 with 1 Axes>"
      ]
     },
     "metadata": {},
     "output_type": "display_data"
    }
   ],
   "source": [
    "count, bins, ignored = plt.hist(s, 30, density=True)"
   ]
  },
  {
   "cell_type": "code",
   "execution_count": 83,
   "id": "8213455a",
   "metadata": {},
   "outputs": [
    {
     "data": {
      "image/png": "[encoded data removed]",
      "text/plain": [
       "<Figure size 640x480 with 1 Axes>"
      ]
     },
     "metadata": {},
     "output_type": "display_data"
    }
   ],
   "source": [
    "plt.plot(bins, 1/(sigma * np.sqrt(2 * np.pi)) *\n",
    "               np.exp( - (bins - mu)**2 / (2 * sigma**2) ),\n",
    "         linewidth=2, color='r')\n",
    "plt.show()"
   ]
  },
  {
   "cell_type": "markdown",
   "id": "7bf5b491",
   "metadata": {},
   "source": [
    "# Linear Regression\n",
    "[Return to Table of Contents](#Table-of-Contents)\n",
    "\n",
    "`numpy.linalg.lstsq()`: Return the least-squares solution to a linear matrix equation.Solves the equation ${\\bf A x} = {\\bf b}$ by computing a vector x that minimizes the Euclidean 2-norm $||{\\bf b} - {\\bf A x} ||^2$. \n",
    "\n",
    "The equation may be under-, well-, or over- determined (i.e., the number of linearly independent rows of a can be less than, equal to, or greater than its number of linearly independent columns). If a is square and of full rank, then x (but for round-off error) is the “exact” solution of the equation."
   ]
  },
  {
   "cell_type": "code",
   "execution_count": 84,
   "id": "dcf7b825",
   "metadata": {},
   "outputs": [
    {
     "data": {
      "image/png": "[encoded data removed]",
      "text/plain": [
       "<Figure size 640x480 with 1 Axes>"
      ]
     },
     "metadata": {},
     "output_type": "display_data"
    }
   ],
   "source": [
    "x = np.arange(0, 9) # coordinates\n",
    "A = np.array([x, np.ones(9)])\n",
    "\n",
    "# linearly generated sequence\n",
    "y = [19, 21, 20.5, 21.5, 21.2, 23, 23, 25.5, 24]\n",
    "# obtaining the parameters of regression line\n",
    "w = np.linalg.lstsq(A.T, y, rcond = -1)[0] \n",
    "\n",
    "# plotting the line\n",
    "line = w[0]*x + w[1] # regression line\n",
    "plt.plot(x, line, 'r-')\n",
    "plt.plot(x, y, 'o')\n",
    "plt.show()"
   ]
  },
  {
   "cell_type": "code",
   "execution_count": 85,
   "id": "dad948b2",
   "metadata": {},
   "outputs": [
    {
     "name": "stdout",
     "output_type": "stream",
     "text": [
      "[ 39.31258353 -33.12589493  -9.11237133 -20.7645333   20.75024015]\n",
      "[]\n",
      "5\n",
      "[3.31789174 0.82589011 0.63480384 0.36466591 0.03327901]\n"
     ]
    }
   ],
   "source": [
    "# Let solve A*solutions = y\n",
    "A = np.random.rand(5,5)\n",
    "y = [1,2,3,4,5]\n",
    "solution, residuals, rank, singular = np.linalg.lstsq(A, y, rcond = -1)\n",
    "print(solution)\n",
    "print(residuals)\n",
    "print(rank)\n",
    "print(singular)"
   ]
  },
  {
   "cell_type": "code",
   "execution_count": 86,
   "id": "199c4103",
   "metadata": {},
   "outputs": [
    {
     "data": {
      "text/plain": [
       "array([1., 2., 3., 4., 5.])"
      ]
     },
     "execution_count": 86,
     "metadata": {},
     "output_type": "execute_result"
    }
   ],
   "source": [
    "np.dot(A,solution)"
   ]
  },
  {
   "cell_type": "markdown",
   "id": "f1447cc9",
   "metadata": {},
   "source": [
    "# NOTEBOOK END"
   ]
  },
  {
   "cell_type": "code",
   "execution_count": null,
   "id": "67df81aa",
   "metadata": {},
   "outputs": [],
   "source": []
  },
  {
   "cell_type": "code",
   "execution_count": null,
   "id": "ef5873a8",
   "metadata": {},
   "outputs": [],
   "source": []
  },
  {
   "cell_type": "code",
   "execution_count": null,
   "id": "cb8105f4",
   "metadata": {},
   "outputs": [],
   "source": []
  }
 ],
 "metadata": {
  "kernelspec": {
   "display_name": "Python 3 (ipykernel)",
   "language": "python",
   "name": "python3"
  },
  "language_info": {
   "codemirror_mode": {
    "name": "ipython",
    "version": 3
   },
   "file_extension": ".py",
   "mimetype": "text/x-python",
   "name": "python",
   "nbconvert_exporter": "python",
   "pygments_lexer": "ipython3",
   "version": "3.11.4"
  }
 },
 "nbformat": 4,
 "nbformat_minor": 5
}
