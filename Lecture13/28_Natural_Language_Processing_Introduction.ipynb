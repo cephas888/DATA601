{
 "cells": [
  {
   "cell_type": "markdown",
   "id": "a5286a83",
   "metadata": {},
   "source": [
    "<div class=\"alert alert-block alert-info\">\n",
    "Author:<br>Felix Gonzalez, P.E. <br> Adjunct Instructor, <br> Division of Professional Studies <br> Computer Science and Electrical Engineering <br> University of Maryland Baltimore County <br> fgonzale@umbc.edu\n",
    "</div>"
   ]
  },
  {
   "cell_type": "markdown",
   "id": "0cffac70",
   "metadata": {},
   "source": [
    "The objective of this Jupyter Notebook is to introduce the topic of Natural Language Processing, discuss various libraries and models available and tasks that can be performed in NLP."
   ]
  },
  {
   "cell_type": "code",
   "execution_count": 1,
   "id": "cbc69971",
   "metadata": {},
   "outputs": [],
   "source": [
    "import pandas as pd\n",
    "import numpy as np\n",
    "import matplotlib.pyplot as plt\n",
    "import os \n",
    "\n",
    "import nltk # Natural Langage Toolkit\n",
    "from nltk import word_tokenize, pos_tag # Tokenizer and Parts of Speech Tags\n",
    "from nltk.tokenize import RegexpTokenizer # Tokenizer\n",
    "from nltk.stem import WordNetLemmatizer, PorterStemmer # Lemmitization and Stemming\n",
    "from nltk.corpus import stopwords, wordnet # Stopwords and POS tags\n",
    "#nltk.download #(One time to download 'stopwords')\n",
    "#nltk.download # (One time to download 'punkt')\n",
    "#nltk.download #(One time to download 'averaged_perceptron_tagger')\n",
    "\n",
    "from sklearn.feature_extraction.text import TfidfVectorizer # Vectorization Functions\n",
    "from sklearn.metrics import pairwise_distances # Cosine similarity\n",
    "\n",
    "from IPython.display import Image, display, HTML, clear_output"
   ]
  },
  {
   "cell_type": "code",
   "execution_count": 2,
   "id": "ee47ad02",
   "metadata": {},
   "outputs": [],
   "source": [
    "pd.set_option('display.max_colwidth', None) # Allows to show all the column information in a DF."
   ]
  },
  {
   "cell_type": "markdown",
   "id": "c0bc15fb",
   "metadata": {},
   "source": [
    "# Table of Contents\n",
    "\n",
    "[Natural Language Processing (NLP)](#Natural-Language-Processing-(NLP))\n",
    "\n",
    "[Data](#Data)\n",
    "\n",
    "- [Data Loading](#Data-Loading)\n",
    "\n",
    "[Stopwords](#Stopwords)\n",
    "\n",
    "- [SciKit-Learn Stopwords](#SciKit-Learn-Stopwords)\n",
    "\n",
    "- [NLTK Stopwords](#NLTK-Stopwords)\n",
    "\n",
    "- [Custom Stopwords](#Custom-Stopwords)\n",
    "\n",
    "[Text Normalization Functions](#Text-Normalization-Functions)\n",
    "\n",
    "[Bag of Words (BoW) Model](#Bag-of-Words-(BoW)-Model)\n",
    "\n",
    "[References](#References)"
   ]
  },
  {
   "cell_type": "markdown",
   "id": "8edad652",
   "metadata": {},
   "source": [
    "# Natural Language Processing (NLP)\n",
    "[Return to Table of Contents](#Table-of-Contents)\n",
    "\n",
    "Natural Language Processing (NLP) refers to the process and data transformation that a system and algorithms performs to understand and extract meaning and insights from unstructured data (e.g., text, language, etc.). In data science and artificial intelligence, NLP can be used for various tasks including but not limited classification, clustering, recommendation, ranking, question answering, text summarization, and generative (e.g., given a prompt generate text, image, sound, and video). Note that in large language model (LLM) space, these tasks are called fine-tunning.\n",
    "\n",
    "There are various methods and models that can be applied given the task. Some methods and models from simple to complex include:\n",
    "- Bag of Words (BoW) model\n",
    "- Word and Sentence Embeddings (e.g., word2Vec)\n",
    "- Transformers (e.g., Google BERT, Hugging Face T5)\n",
    "- Large Language Models (e.g., OpenAI ChatGPT)\n",
    "\n",
    "The amount of data needed is highly variable and dependent on the task and method used. For example, the objective of similarity ranking is to compare the similarity between two bodies of text (e.g., two paragraphs) or perhaps a query. Similarity ranking can be used with as little as two records. \n",
    "\n",
    "Classification tasks (i.e., sentiment analysis, predicting text category such as email category) you will need enough records for each category (e.g., SPAM and HAM emails or positive/negative sentiment) for the model to be able to predict each category.\n",
    "\n",
    "In generative-AI and LLMs the data requirements are so large that takes a extremely large processing capacity and millions of dollars just to train a model.\n",
    "\n",
    "Porcessing of the data and implementation of the model also varies significantly based on the methods and model used and each has its own learning curve. There are various libraries available that can be used for NLP or various steps within NLP. Anaconda includes the following libraries that have NLP components:\n",
    "- NLTK\n",
    "- SciKit-Learn\n",
    "- Gensim\n",
    "\n",
    "The following NLP libraries, methods, and models that currently, as of December 2023, are not included in the Anaconda Distribution and have to be installed separately.\n",
    "- spaCy\n",
    "- TextBlob\n",
    "- ScatterText\n",
    "- Bert\n",
    "- Hugging Face\n",
    "- OpenAI ChatGPT\n",
    "\n",
    "This notebook discusses the BoW model which is one of the simplest models used in NLP as well as othe processing steps such as normalization. Later notebooks will cover how to use the BoW model to calculate similarity to perform a query. Similarity ranking can be used for many things including modifying the code to calculate similarity between every other question or other types of text."
   ]
  },
  {
   "cell_type": "markdown",
   "id": "f03b7ff3",
   "metadata": {},
   "source": [
    "# Data\n",
    "[Return to Table of Contents](#Table-of-Contents)\n",
    "\n",
    "The example dataset is a helthcare related question and anser sets. The dataset has four columns: question, answer, source and focus_area. The question and/or answer columns can be processed and the text normalized.\n",
    "\n",
    "The question or answer columns could be used for performing similarity ranking queries or calculations. The focus_area column could be used to classify new symptoms or qeustion into its corresponding area given the qeustion or answer.\n",
    "\n",
    "This notebook will discuss how to perform natural language processing, text normalization, develop the bag of words (BoW) model token matrix. Further notebook will provide an example of how a similarity ranking query works. Note that the same BoW matrix can also be used to perform other types of tasks like classification and clustering.   \n",
    "\n",
    "Source of dataset: https://www.kaggle.com/datasets/asad1m9a9h6mood/news-articles"
   ]
  },
  {
   "cell_type": "markdown",
   "id": "48968977",
   "metadata": {},
   "source": [
    "### Data Loading"
   ]
  },
  {
   "cell_type": "code",
   "execution_count": 3,
   "id": "827883a7",
   "metadata": {},
   "outputs": [],
   "source": [
    "# Read dataframe.\n",
    "df = pd.read_csv('./input_data/Articles.csv', \n",
    "                 encoding_errors= 'replace', # Resolves issues with encoding not allowing the file to be loaded.  \n",
    "              encoding='latin1') # Resolves issues with encoding showing special characters.\n",
    "\n",
    "# https://docs.python.org/3/library/codecs.html\n",
    "# https://stackoverflow.com/questions/55563399/how-to-solve-unicodedecodeerror-utf-8-codec-cant-decode-byte-0xff-in-positio"
   ]
  },
  {
   "cell_type": "code",
   "execution_count": 4,
   "id": "2df6f71a",
   "metadata": {
    "scrolled": true
   },
   "outputs": [
    {
     "data": {
      "text/html": [
       "<div>\n",
       "<style scoped>\n",
       "    .dataframe tbody tr th:only-of-type {\n",
       "        vertical-align: middle;\n",
       "    }\n",
       "\n",
       "    .dataframe tbody tr th {\n",
       "        vertical-align: top;\n",
       "    }\n",
       "\n",
       "    .dataframe thead th {\n",
       "        text-align: right;\n",
       "    }\n",
       "</style>\n",
       "<table border=\"1\" class=\"dataframe\">\n",
       "  <thead>\n",
       "    <tr style=\"text-align: right;\">\n",
       "      <th></th>\n",
       "      <th>Article</th>\n",
       "      <th>Date</th>\n",
       "      <th>Heading</th>\n",
       "      <th>NewsType</th>\n",
       "    </tr>\n",
       "  </thead>\n",
       "  <tbody>\n",
       "    <tr>\n",
       "      <th>0</th>\n",
       "      <td>KARACHI: The Sindh government has decided to bring down public transport fares by 7 per cent due to massive reduction in petroleum product prices by the federal government, Geo News reported.Sources said reduction in fares will be applicable on public transport, rickshaw, taxi and other means of traveling.Meanwhile, Karachi Transport Ittehad (KTI) has refused to abide by the government decision.KTI President Irshad Bukhari said the commuters are charged the lowest fares in Karachi as compare to other parts of the country, adding that 80pc vehicles run on Compressed Natural Gas (CNG). Bukhari said Karachi transporters will cut fares when decrease in CNG prices will be made.                        \\r\\n\\r\\n\\r\\n\\r\\n\\r\\n\\r\\n\\r\\n\\r\\n\\r\\n\\r\\n\\r\\n</td>\n",
       "      <td>1/1/2015</td>\n",
       "      <td>sindh govt decides to cut public transport fares by 7pc kti rej</td>\n",
       "      <td>business</td>\n",
       "    </tr>\n",
       "    <tr>\n",
       "      <th>1</th>\n",
       "      <td>HONG KONG: Asian markets started 2015 on an upswing in limited trading on Friday, with mainland Chinese stocks surging in Hong Kong on speculation Beijing may ease monetary policy to boost slowing growth.Hong Kong rose 1.07 percent, closing 252.78 points higher at 23857.82.Seoul closed up 0.57 percent, rising 10.85 points to 1,926.44, while Sydney gained 0.46 percent, or 24.89 points, to close at 5,435.9.Singapore edged up 0.19 percent, gaining 6.39 points to 3,371.54.Markets in mainland China, Japan, Taiwan, New Zealand, the Philippines, and Thailand remained closed for holidays.With mainland bourses shut until January 5, shares in Chinese developers and financial companies surged in Hong Kong, stoked by hopes that Beijing could ease monetary policy to support lagging growth in the world´s second-largest economy.China Vanke, the country´s biggest developer by sales, leapt 10.8 percent and the People´s Insurance Company (Group) of China Ltd. was up 5.51 percent in afternoon trading.Train-builders CSR Corp. and China CNR Corp. soared -- CSR by 16.5 percent and China CNR by 16.0 percent -- extending gains on December 31 after they announced a merger agreement.China´s manufacturing growth dropped in December to its lowest level of 2014, an official survey showed Thursday, as the sector struggles with weak domestic demand.China´s official Purchasing Managers´ Index (PMI) released by the National Bureau of Statistics (NBS) came in at 50.1 last month, down from 50.3 recorded in November.The index, which tracks activity in factories and workshops, is considered a key indicator of the health of China´s economy, a major driver of global growth. A figure above 50 signals expansion, while anything below indicates contraction.\"Growth momentum is still insufficient,\" NBS said in a statement. - Investors eye US factory data -On forex markets the dollar extended gains ahead of the release of American factory data due later on Friday and following a steady stream of good news from the world´s biggest economy.The dollar bought 120.44 yen, compared to 119.44 yen in final 2014 trading on Wednesday.Wall Street toasted a banner year in 2014, with US equity markets finishing near all-time highs.The euro meanwhile slipped amid growing expectations that the European Central Bank, which meets on January 22, will start buying sovereign bonds. The single currency bought $1.2061 compared to $1.2160 in pre-holiday trade.The ECB has already used several tools to push inflation in member nations back up to the 2.0 percent annual rate it regards as healthy, including asset purchases and making cheap loans available to banks.It is also examining the possibility of large-scale purchases of sovereign debt -- so-called quantitative easing (QE) -- to help jump-start the European Union´s moribund economy.Oil prices rose on Friday, with US benchmark West Texas Intermediate for February delivery rising 44 cents to $54.07 and Brent crude for February gaining 18 cents to $57.51.\"The gains in Asian trading are likely because of the positive US crude stockpiles data released on Wednesday,\" Daniel Ang, investment analyst at Phillip Futures in Singapore, told AFP.US crude reserves fell by 1.8 million barrels in the week to December 26, the US Energy Information Administration said in its last petroleum report for 2014 released on Wednesday, boosting prices that lost nearly half their value in the second half of the year.There is growing speculation that the slide in global oil prices -- the biggest since the financial crisis in 2008 -- may have been excessive.\"If we do see some supply-side responses, or even if they´re anticipated over the course of this first quarter of the year, we might find that oil has in fact bottomed,\" Michael McCarthy, a chief strategist at CMC Markets in Sydney, told Bloomberg.Gold was at $1,182.36 an ounce, compared with $1,199.00 in end-of-year trading on Wednesday.In other markets:-- Jakarta ended up 0.30 percent, or 15.82 points, at 5,242.77.Coal firm Indo Tambangraya Megah gained 3.41 percent to 15,900 rupiah, while miner Aneka Tambang slipped 1.88 percent to 1,045 rupiah.-- Malaysia´s main stock index shed 0.48 percent, or 8.48 points, to close at 1,752.77.Malayan Banking lost 0.55 percent to 9.12 ringgit, Public Bank slipped 0.44 percent to 18.22 while Top Globe added 1.77 percent 4.60 ringgit.-- Singapore rose 0.16 percent, or 5.44 points, to 3,370.59.Agribusiness company Wilmar International gained 0.93 percent to Sg$3.27 while real estate developer Capitaland dipped 0.30 percent to Sg$3.30.-- Mumbai gained 1.38 percent, or 380.36 points, to end at 27,887.90.Housing Development Finance Corp rose 4.30 percent to 1,171.80 rupees, while Mahindra &amp; Mahindra fell 0.92 percent to 1,224.80 rupees. (AFP)                        \\r\\n\\r\\n\\r\\n\\r\\n\\r\\n\\r\\n\\r\\n\\r\\n\\r\\n\\r\\n\\r\\n</td>\n",
       "      <td>1/2/2015</td>\n",
       "      <td>asia stocks up in new year trad</td>\n",
       "      <td>business</td>\n",
       "    </tr>\n",
       "    <tr>\n",
       "      <th>2</th>\n",
       "      <td>HONG KONG:  Hong Kong shares opened 0.66 percent lower Monday following a tepid lead from Wall Street, as the first full week of the new year kicked off.The benchmark Hang Seng Index dipped 158.63 points to 23,699.19. \\r\\n\\r\\n\\r\\n\\r\\n\\r\\n\\r\\n\\r\\n\\r\\n\\r\\n\\r\\n\\r\\n</td>\n",
       "      <td>1/5/2015</td>\n",
       "      <td>hong kong stocks open 0.66 percent lower</td>\n",
       "      <td>business</td>\n",
       "    </tr>\n",
       "  </tbody>\n",
       "</table>\n",
       "</div>"
      ],
      "text/plain": [
       "                                                                                                                                                                                                                                                                                                                                                                                                                                                                                                                                                                                                                                                                                                                                                                                                                                                                                                                                                                                                                                                                                                                                                                                                                                                                                                                                                                                                                                                                                                                                                                                                                                                                                                                                                                                                                                                                                                                                                                                                                                                                                                                                                                                                                                                                                                                                                                                                                                                                                                                                                                                                                                                                                                                                                                                                                                                                                                                                                                                                                                                                                                                                                                                                                                                                                                                                                                                                                                                                                                                                                                                                                                                                                                                                                                                                                                                                                                                                                                                                                                                                                                                                                                                                                                                                                                                                                                                                                                                                                                                                                                                                                                                                                                                                                                                                                                                                                                                                                                                                                                      Article  \\\n",
       "0                                                                                                                                                                                                                                                                                                                                                                                                                                                                                                                                                                                                                                                                                                                                                                                                                                                                                                                                                                                                                                                                                                                                                                                                                                                                                                                                                                                                                                                                                                                                                                                                                                                                                                                                                                                                                                                                                                                                                                                                                                                                                                                                                                                                                                                                                                                                                                                                                                                                                                                                                                                                                                                                                                                                                                                                                                                                                                                                                                                                                                                                                                                                                                                                                                                                                                                                                                                                                                                                                                                                                                                                                                                                                                                                                                                                                                                                                                                                                                                                                                                                                                                                                                                                                                                               KARACHI: The Sindh government has decided to bring down public transport fares by 7 per cent due to massive reduction in petroleum product prices by the federal government, Geo News reported.Sources said reduction in fares will be applicable on public transport, rickshaw, taxi and other means of traveling.Meanwhile, Karachi Transport Ittehad (KTI) has refused to abide by the government decision.KTI President Irshad Bukhari said the commuters are charged the lowest fares in Karachi as compare to other parts of the country, adding that 80pc vehicles run on Compressed Natural Gas (CNG). Bukhari said Karachi transporters will cut fares when decrease in CNG prices will be made.                        \\r\\n\\r\\n\\r\\n\\r\\n\\r\\n\\r\\n\\r\\n\\r\\n\\r\\n\\r\\n\\r\\n   \n",
       "1  HONG KONG: Asian markets started 2015 on an upswing in limited trading on Friday, with mainland Chinese stocks surging in Hong Kong on speculation Beijing may ease monetary policy to boost slowing growth.Hong Kong rose 1.07 percent, closing 252.78 points higher at 23857.82.Seoul closed up 0.57 percent, rising 10.85 points to 1,926.44, while Sydney gained 0.46 percent, or 24.89 points, to close at 5,435.9.Singapore edged up 0.19 percent, gaining 6.39 points to 3,371.54.Markets in mainland China, Japan, Taiwan, New Zealand, the Philippines, and Thailand remained closed for holidays.With mainland bourses shut until January 5, shares in Chinese developers and financial companies surged in Hong Kong, stoked by hopes that Beijing could ease monetary policy to support lagging growth in the world´s second-largest economy.China Vanke, the country´s biggest developer by sales, leapt 10.8 percent and the People´s Insurance Company (Group) of China Ltd. was up 5.51 percent in afternoon trading.Train-builders CSR Corp. and China CNR Corp. soared -- CSR by 16.5 percent and China CNR by 16.0 percent -- extending gains on December 31 after they announced a merger agreement.China´s manufacturing growth dropped in December to its lowest level of 2014, an official survey showed Thursday, as the sector struggles with weak domestic demand.China´s official Purchasing Managers´ Index (PMI) released by the National Bureau of Statistics (NBS) came in at 50.1 last month, down from 50.3 recorded in November.The index, which tracks activity in factories and workshops, is considered a key indicator of the health of China´s economy, a major driver of global growth. A figure above 50 signals expansion, while anything below indicates contraction.\"Growth momentum is still insufficient,\" NBS said in a statement. - Investors eye US factory data -On forex markets the dollar extended gains ahead of the release of American factory data due later on Friday and following a steady stream of good news from the world´s biggest economy.The dollar bought 120.44 yen, compared to 119.44 yen in final 2014 trading on Wednesday.Wall Street toasted a banner year in 2014, with US equity markets finishing near all-time highs.The euro meanwhile slipped amid growing expectations that the European Central Bank, which meets on January 22, will start buying sovereign bonds. The single currency bought $1.2061 compared to $1.2160 in pre-holiday trade.The ECB has already used several tools to push inflation in member nations back up to the 2.0 percent annual rate it regards as healthy, including asset purchases and making cheap loans available to banks.It is also examining the possibility of large-scale purchases of sovereign debt -- so-called quantitative easing (QE) -- to help jump-start the European Union´s moribund economy.Oil prices rose on Friday, with US benchmark West Texas Intermediate for February delivery rising 44 cents to $54.07 and Brent crude for February gaining 18 cents to $57.51.\"The gains in Asian trading are likely because of the positive US crude stockpiles data released on Wednesday,\" Daniel Ang, investment analyst at Phillip Futures in Singapore, told AFP.US crude reserves fell by 1.8 million barrels in the week to December 26, the US Energy Information Administration said in its last petroleum report for 2014 released on Wednesday, boosting prices that lost nearly half their value in the second half of the year.There is growing speculation that the slide in global oil prices -- the biggest since the financial crisis in 2008 -- may have been excessive.\"If we do see some supply-side responses, or even if they´re anticipated over the course of this first quarter of the year, we might find that oil has in fact bottomed,\" Michael McCarthy, a chief strategist at CMC Markets in Sydney, told Bloomberg.Gold was at $1,182.36 an ounce, compared with $1,199.00 in end-of-year trading on Wednesday.In other markets:-- Jakarta ended up 0.30 percent, or 15.82 points, at 5,242.77.Coal firm Indo Tambangraya Megah gained 3.41 percent to 15,900 rupiah, while miner Aneka Tambang slipped 1.88 percent to 1,045 rupiah.-- Malaysia´s main stock index shed 0.48 percent, or 8.48 points, to close at 1,752.77.Malayan Banking lost 0.55 percent to 9.12 ringgit, Public Bank slipped 0.44 percent to 18.22 while Top Globe added 1.77 percent 4.60 ringgit.-- Singapore rose 0.16 percent, or 5.44 points, to 3,370.59.Agribusiness company Wilmar International gained 0.93 percent to Sg$3.27 while real estate developer Capitaland dipped 0.30 percent to Sg$3.30.-- Mumbai gained 1.38 percent, or 380.36 points, to end at 27,887.90.Housing Development Finance Corp rose 4.30 percent to 1,171.80 rupees, while Mahindra & Mahindra fell 0.92 percent to 1,224.80 rupees. (AFP)                        \\r\\n\\r\\n\\r\\n\\r\\n\\r\\n\\r\\n\\r\\n\\r\\n\\r\\n\\r\\n\\r\\n   \n",
       "2                                                                                                                                                                                                                                                                                                                                                                                                                                                                                                                                                                                                                                                                                                                                                                                                                                                                                                                                                                                                                                                                                                                                                                                                                                                                                                                                                                                                                                                                                                                                                                                                                                                                                                                                                                                                                                                                                                                                                                                                                                                                                                                                                                                                                                                                                                                                                                                                                                                                                                                                                                                                                                                                                                                                                                                                                                                                                                                                                                                                                                                                                                                                                                                                                                                                                                                                                                                                                                                                                                                                                                                                                                                                                                                                                                                                                                                                                                                                                                                                                                                                                                                                                                                                                                                                                                                                                                                                                                                                                                                                                                                                                                                                                                                                                                      HONG KONG:  Hong Kong shares opened 0.66 percent lower Monday following a tepid lead from Wall Street, as the first full week of the new year kicked off.The benchmark Hang Seng Index dipped 158.63 points to 23,699.19. \\r\\n\\r\\n\\r\\n\\r\\n\\r\\n\\r\\n\\r\\n\\r\\n\\r\\n\\r\\n\\r\\n   \n",
       "\n",
       "       Date                                                          Heading  \\\n",
       "0  1/1/2015  sindh govt decides to cut public transport fares by 7pc kti rej   \n",
       "1  1/2/2015                                  asia stocks up in new year trad   \n",
       "2  1/5/2015                         hong kong stocks open 0.66 percent lower   \n",
       "\n",
       "   NewsType  \n",
       "0  business  \n",
       "1  business  \n",
       "2  business  "
      ]
     },
     "execution_count": 4,
     "metadata": {},
     "output_type": "execute_result"
    }
   ],
   "source": [
    "df.head(3) "
   ]
  },
  {
   "cell_type": "markdown",
   "id": "f0e9ece4-046e-475c-ae52-e9b3d8778422",
   "metadata": {},
   "source": [
    "Note that Article text in row index 1 has various words in itallics or other fonts. This is because Jupyter renders some special characteres (e.g., \\\\$) as itallics. Because of this the dollar sign, \\\\$  does not appears and may show the text rendered. To resolve there are a few options:\n",
    "- Use the replace function to replace the special characters like the dollar sign \\\\$ with with its latex escape character in front of the character (i.e., two double slashes)\n",
    "- Use the print function but will remove the Table formatting.\n",
    "- Change the following option to false: \"pd.options.display.html.use_mathjax = False\".\n",
    "\n",
    "However, note that even if this is not fixed, this only affects the rendering does not affect the actual text. If a column or feature had dollar values, an option could be to use the style with format and the formatter like this. Once more, this only changes the rendering in the Jupyter notebook."
   ]
  },
  {
   "cell_type": "code",
   "execution_count": null,
   "id": "2c1999f4-f394-482d-a4a3-be20e30ffc3f",
   "metadata": {},
   "outputs": [],
   "source": [
    "#format_dictionary = {'columnname1':'${:,.2f}'.format,\n",
    "#                     'columnname2':'${:,.0f}'.format}\n",
    "#df.head(3).style.format(formatter = format_dictionary).set_properties(**{'text-align':'center'})"
   ]
  },
  {
   "cell_type": "code",
   "execution_count": null,
   "id": "84951440-9872-435b-85e4-dafed323deb7",
   "metadata": {},
   "outputs": [],
   "source": [
    "# Option using the replace function\n",
    "#df['Article'] = df['Article'].str.replace('$','\\\\$')"
   ]
  },
  {
   "cell_type": "code",
   "execution_count": null,
   "id": "eb6338e7-3e41-4dec-8fe8-992129fec1f4",
   "metadata": {},
   "outputs": [],
   "source": [
    "# Print function option.\n",
    "#print(df.head(3))"
   ]
  },
  {
   "cell_type": "code",
   "execution_count": 9,
   "id": "cbd8ee5a-6634-42f1-9fdd-81510ffd7887",
   "metadata": {},
   "outputs": [],
   "source": [
    "# Option changing the Mathjax to False.\n",
    "pd.options.display.html.use_mathjax = False"
   ]
  },
  {
   "cell_type": "code",
   "execution_count": 10,
   "id": "2f17db86-e53d-493a-88ab-e5f523f182dd",
   "metadata": {},
   "outputs": [
    {
     "data": {
      "text/html": [
       "<style type=\"text/css\">\n",
       "#T_ffe90_row0_col0, #T_ffe90_row1_col0, #T_ffe90_row2_col0 {\n",
       "  text-align: left;\n",
       "}\n",
       "</style>\n",
       "<table id=\"T_ffe90\">\n",
       "  <thead>\n",
       "    <tr>\n",
       "      <th id=\"T_ffe90_level0_col0\" class=\"col_heading level0 col0\" >Article</th>\n",
       "      <th id=\"T_ffe90_level0_col1\" class=\"col_heading level0 col1\" >Date</th>\n",
       "      <th id=\"T_ffe90_level0_col3\" class=\"col_heading level0 col3\" >NewsType</th>\n",
       "    </tr>\n",
       "  </thead>\n",
       "  <tbody>\n",
       "    <tr>\n",
       "      <td id=\"T_ffe90_row0_col0\" class=\"data row0 col0\" >KARACHI: The Sindh government has decided to bring down public transport fares by 7 per cent due to massive reduction in petroleum product prices by the federal government, Geo News reported.Sources said reduction in fares will be applicable on public transport, rickshaw, taxi and other means of traveling.Meanwhile, Karachi Transport Ittehad (KTI) has refused to abide by the government decision.KTI President Irshad Bukhari said the commuters are charged the lowest fares in Karachi as compare to other parts of the country, adding that 80pc vehicles run on Compressed Natural Gas (CNG). Bukhari said Karachi transporters will cut fares when decrease in CNG prices will be made.                        \r\n",
       "\r\n",
       "\r\n",
       "\r\n",
       "\r\n",
       "\r\n",
       "\r\n",
       "\r\n",
       "\r\n",
       "\r\n",
       "\r\n",
       "</td>\n",
       "      <td id=\"T_ffe90_row0_col1\" class=\"data row0 col1\" >1/1/2015</td>\n",
       "      <td id=\"T_ffe90_row0_col3\" class=\"data row0 col3\" >business</td>\n",
       "    </tr>\n",
       "    <tr>\n",
       "      <td id=\"T_ffe90_row1_col0\" class=\"data row1 col0\" >HONG KONG: Asian markets started 2015 on an upswing in limited trading on Friday, with mainland Chinese stocks surging in Hong Kong on speculation Beijing may ease monetary policy to boost slowing growth.Hong Kong rose 1.07 percent, closing 252.78 points higher at 23857.82.Seoul closed up 0.57 percent, rising 10.85 points to 1,926.44, while Sydney gained 0.46 percent, or 24.89 points, to close at 5,435.9.Singapore edged up 0.19 percent, gaining 6.39 points to 3,371.54.Markets in mainland China, Japan, Taiwan, New Zealand, the Philippines, and Thailand remained closed for holidays.With mainland bourses shut until January 5, shares in Chinese developers and financial companies surged in Hong Kong, stoked by hopes that Beijing could ease monetary policy to support lagging growth in the world´s second-largest economy.China Vanke, the country´s biggest developer by sales, leapt 10.8 percent and the People´s Insurance Company (Group) of China Ltd. was up 5.51 percent in afternoon trading.Train-builders CSR Corp. and China CNR Corp. soared -- CSR by 16.5 percent and China CNR by 16.0 percent -- extending gains on December 31 after they announced a merger agreement.China´s manufacturing growth dropped in December to its lowest level of 2014, an official survey showed Thursday, as the sector struggles with weak domestic demand.China´s official Purchasing Managers´ Index (PMI) released by the National Bureau of Statistics (NBS) came in at 50.1 last month, down from 50.3 recorded in November.The index, which tracks activity in factories and workshops, is considered a key indicator of the health of China´s economy, a major driver of global growth. A figure above 50 signals expansion, while anything below indicates contraction.\"Growth momentum is still insufficient,\" NBS said in a statement. - Investors eye US factory data -On forex markets the dollar extended gains ahead of the release of American factory data due later on Friday and following a steady stream of good news from the world´s biggest economy.The dollar bought 120.44 yen, compared to 119.44 yen in final 2014 trading on Wednesday.Wall Street toasted a banner year in 2014, with US equity markets finishing near all-time highs.The euro meanwhile slipped amid growing expectations that the European Central Bank, which meets on January 22, will start buying sovereign bonds. The single currency bought $1.2061 compared to $1.2160 in pre-holiday trade.The ECB has already used several tools to push inflation in member nations back up to the 2.0 percent annual rate it regards as healthy, including asset purchases and making cheap loans available to banks.It is also examining the possibility of large-scale purchases of sovereign debt -- so-called quantitative easing (QE) -- to help jump-start the European Union´s moribund economy.Oil prices rose on Friday, with US benchmark West Texas Intermediate for February delivery rising 44 cents to $54.07 and Brent crude for February gaining 18 cents to $57.51.\"The gains in Asian trading are likely because of the positive US crude stockpiles data released on Wednesday,\" Daniel Ang, investment analyst at Phillip Futures in Singapore, told AFP.US crude reserves fell by 1.8 million barrels in the week to December 26, the US Energy Information Administration said in its last petroleum report for 2014 released on Wednesday, boosting prices that lost nearly half their value in the second half of the year.There is growing speculation that the slide in global oil prices -- the biggest since the financial crisis in 2008 -- may have been excessive.\"If we do see some supply-side responses, or even if they´re anticipated over the course of this first quarter of the year, we might find that oil has in fact bottomed,\" Michael McCarthy, a chief strategist at CMC Markets in Sydney, told Bloomberg.Gold was at $1,182.36 an ounce, compared with $1,199.00 in end-of-year trading on Wednesday.In other markets:-- Jakarta ended up 0.30 percent, or 15.82 points, at 5,242.77.Coal firm Indo Tambangraya Megah gained 3.41 percent to 15,900 rupiah, while miner Aneka Tambang slipped 1.88 percent to 1,045 rupiah.-- Malaysia´s main stock index shed 0.48 percent, or 8.48 points, to close at 1,752.77.Malayan Banking lost 0.55 percent to 9.12 ringgit, Public Bank slipped 0.44 percent to 18.22 while Top Globe added 1.77 percent 4.60 ringgit.-- Singapore rose 0.16 percent, or 5.44 points, to 3,370.59.Agribusiness company Wilmar International gained 0.93 percent to Sg$3.27 while real estate developer Capitaland dipped 0.30 percent to Sg$3.30.-- Mumbai gained 1.38 percent, or 380.36 points, to end at 27,887.90.Housing Development Finance Corp rose 4.30 percent to 1,171.80 rupees, while Mahindra & Mahindra fell 0.92 percent to 1,224.80 rupees. (AFP)                        \r\n",
       "\r\n",
       "\r\n",
       "\r\n",
       "\r\n",
       "\r\n",
       "\r\n",
       "\r\n",
       "\r\n",
       "\r\n",
       "\r\n",
       "</td>\n",
       "      <td id=\"T_ffe90_row1_col1\" class=\"data row1 col1\" >1/2/2015</td>\n",
       "      <td id=\"T_ffe90_row1_col3\" class=\"data row1 col3\" >business</td>\n",
       "    </tr>\n",
       "    <tr>\n",
       "      <td id=\"T_ffe90_row2_col0\" class=\"data row2 col0\" >HONG KONG:  Hong Kong shares opened 0.66 percent lower Monday following a tepid lead from Wall Street, as the first full week of the new year kicked off.The benchmark Hang Seng Index dipped 158.63 points to 23,699.19. \r\n",
       "\r\n",
       "\r\n",
       "\r\n",
       "\r\n",
       "\r\n",
       "\r\n",
       "\r\n",
       "\r\n",
       "\r\n",
       "\r\n",
       "</td>\n",
       "      <td id=\"T_ffe90_row2_col1\" class=\"data row2 col1\" >1/5/2015</td>\n",
       "      <td id=\"T_ffe90_row2_col3\" class=\"data row2 col3\" >business</td>\n",
       "    </tr>\n",
       "  </tbody>\n",
       "</table>\n"
      ],
      "text/plain": [
       "<pandas.io.formats.style.Styler at 0x1d03be23d10>"
      ]
     },
     "execution_count": 10,
     "metadata": {},
     "output_type": "execute_result"
    }
   ],
   "source": [
    "# Styling. This changes the dataframe to a Styler Object.\n",
    "# Makes it easier to read the rendering. \n",
    "\n",
    "df.head(3).style.set_properties(subset=['Article'], **{'text-align':'left',\n",
    "                                                       #'width': '800px', # If need to defin a width otherwise let it auto adjust.\n",
    "                                                      }\n",
    "                               ).hide(subset = ['Heading'], axis = 'columns').hide(axis = 'index') # Hides the column Heading and the index.\n",
    "\n",
    "# This helps us evaluate havey text columns easier."
   ]
  },
  {
   "cell_type": "code",
   "execution_count": 11,
   "id": "304e12fe",
   "metadata": {},
   "outputs": [
    {
     "data": {
      "text/html": [
       "<div>\n",
       "<style scoped>\n",
       "    .dataframe tbody tr th:only-of-type {\n",
       "        vertical-align: middle;\n",
       "    }\n",
       "\n",
       "    .dataframe tbody tr th {\n",
       "        vertical-align: top;\n",
       "    }\n",
       "\n",
       "    .dataframe thead th {\n",
       "        text-align: right;\n",
       "    }\n",
       "</style>\n",
       "<table border=\"1\" class=\"dataframe tex2jax_ignore\">\n",
       "  <thead>\n",
       "    <tr style=\"text-align: right;\">\n",
       "      <th></th>\n",
       "      <th>Article</th>\n",
       "      <th>Date</th>\n",
       "      <th>Heading</th>\n",
       "      <th>NewsType</th>\n",
       "    </tr>\n",
       "  </thead>\n",
       "  <tbody>\n",
       "    <tr>\n",
       "      <th>count</th>\n",
       "      <td>2692</td>\n",
       "      <td>2692</td>\n",
       "      <td>2692</td>\n",
       "      <td>2692</td>\n",
       "    </tr>\n",
       "    <tr>\n",
       "      <th>unique</th>\n",
       "      <td>2584</td>\n",
       "      <td>666</td>\n",
       "      <td>2581</td>\n",
       "      <td>2</td>\n",
       "    </tr>\n",
       "    <tr>\n",
       "      <th>top</th>\n",
       "      <td>strong&gt;TOKYO: Tokyo stocks climbed in early trading Friday as a weaker yen boosted exporters, while Toyota surged on forecast-beating quarterly net profits.&lt;/strongThe world´s biggest automaker said Thursday it posted a nearly 15 percent drop in its April-June net profit, citing a sharp rally in the yen and falling North American vehicle sales.Toyota, which also trimmed its full-year profit and sales forecast, soared 2.61 percent to 5,840 yen in early deals.The Bank of England Thursday announced its first interest rate cut in more than seven years and a fresh stimulus package to counter the fallout from Britain´s vote to quit the European Union.Those measures lifted the mood among Japanese investors, who are now focused on US monthly employment figures due later in the day, analysts said.\"The BoE (Bank of England) has taken the stance that they´ll do everything they can in terms of stimulus in the face of uncertainty,\" Juichi Wako, a senior strategist at Nomura Holdings, told Bloomberg News.\"An easing situation is more likely to continue across the globe, and this is positive for Japanese stocks.\"In early deals, the benchmark Nikkei 225 index gained 0.51 percent, or 82.73 points, to 16,337.62, building on a sharp gain of more than one percent the previous day.The broader Topix index of all first-section shares was up 0.42 percent, or 5.39 points, at 1,288.38.In forex markets, the dollar jumped to 101.33 yen from 101.22 yen Thursday in New York.&lt;br/&gt;In European stock trading, London, Frankfurt and Paris rose on Thursday on the news of the BoE measures.On Wall Street, the Dow closed down less than 0.1 percent, while the broad-based S&amp;amp;P 500 ticked less than 0.1 percent higher and the tech-rich Nasdaq advanced 0.1 percent.</td>\n",
       "      <td>8/1/2016</td>\n",
       "      <td>IMF release final instalment 66 bn loan Paki</td>\n",
       "      <td>sports</td>\n",
       "    </tr>\n",
       "    <tr>\n",
       "      <th>freq</th>\n",
       "      <td>5</td>\n",
       "      <td>27</td>\n",
       "      <td>5</td>\n",
       "      <td>1408</td>\n",
       "    </tr>\n",
       "  </tbody>\n",
       "</table>\n",
       "</div>"
      ],
      "text/plain": [
       "                                                                                                                                                                                                                                                                                                                                                                                                                                                                                                                                                                                                                                                                                                                                                                                                                                                                                                                                                                                                                                                                                                                                                                                                                                                                                                                                                                                                                                                                                                                                                                                                                                                                                                                                                                                                                         Article  \\\n",
       "count                                                                                                                                                                                                                                                                                                                                                                                                                                                                                                                                                                                                                                                                                                                                                                                                                                                                                                                                                                                                                                                                                                                                                                                                                                                                                                                                                                                                                                                                                                                                                                                                                                                                                                                                                                                                                       2692   \n",
       "unique                                                                                                                                                                                                                                                                                                                                                                                                                                                                                                                                                                                                                                                                                                                                                                                                                                                                                                                                                                                                                                                                                                                                                                                                                                                                                                                                                                                                                                                                                                                                                                                                                                                                                                                                                                                                                      2584   \n",
       "top     strong>TOKYO: Tokyo stocks climbed in early trading Friday as a weaker yen boosted exporters, while Toyota surged on forecast-beating quarterly net profits.</strongThe world´s biggest automaker said Thursday it posted a nearly 15 percent drop in its April-June net profit, citing a sharp rally in the yen and falling North American vehicle sales.Toyota, which also trimmed its full-year profit and sales forecast, soared 2.61 percent to 5,840 yen in early deals.The Bank of England Thursday announced its first interest rate cut in more than seven years and a fresh stimulus package to counter the fallout from Britain´s vote to quit the European Union.Those measures lifted the mood among Japanese investors, who are now focused on US monthly employment figures due later in the day, analysts said.\"The BoE (Bank of England) has taken the stance that they´ll do everything they can in terms of stimulus in the face of uncertainty,\" Juichi Wako, a senior strategist at Nomura Holdings, told Bloomberg News.\"An easing situation is more likely to continue across the globe, and this is positive for Japanese stocks.\"In early deals, the benchmark Nikkei 225 index gained 0.51 percent, or 82.73 points, to 16,337.62, building on a sharp gain of more than one percent the previous day.The broader Topix index of all first-section shares was up 0.42 percent, or 5.39 points, at 1,288.38.In forex markets, the dollar jumped to 101.33 yen from 101.22 yen Thursday in New York.<br/>In European stock trading, London, Frankfurt and Paris rose on Thursday on the news of the BoE measures.On Wall Street, the Dow closed down less than 0.1 percent, while the broad-based S&amp;P 500 ticked less than 0.1 percent higher and the tech-rich Nasdaq advanced 0.1 percent.   \n",
       "freq                                                                                                                                                                                                                                                                                                                                                                                                                                                                                                                                                                                                                                                                                                                                                                                                                                                                                                                                                                                                                                                                                                                                                                                                                                                                                                                                                                                                                                                                                                                                                                                                                                                                                                                                                                                                                           5   \n",
       "\n",
       "            Date                                       Heading NewsType  \n",
       "count       2692                                          2692     2692  \n",
       "unique       666                                          2581        2  \n",
       "top     8/1/2016  IMF release final instalment 66 bn loan Paki   sports  \n",
       "freq          27                                             5     1408  "
      ]
     },
     "execution_count": 11,
     "metadata": {},
     "output_type": "execute_result"
    }
   ],
   "source": [
    "df.describe()"
   ]
  },
  {
   "cell_type": "code",
   "execution_count": 12,
   "id": "c0f91dab",
   "metadata": {},
   "outputs": [
    {
     "data": {
      "text/plain": [
       "NewsType\n",
       "sports      1408\n",
       "business    1284\n",
       "Name: count, dtype: int64"
      ]
     },
     "execution_count": 12,
     "metadata": {},
     "output_type": "execute_result"
    }
   ],
   "source": [
    "df['NewsType'].value_counts()\n",
    "# Focus areas that have few counts will not be useful for classification.\n",
    "# Even the top categorical value only has 53 counts and may or may not be enough data to use in classification task."
   ]
  },
  {
   "cell_type": "code",
   "execution_count": 13,
   "id": "f46fe741",
   "metadata": {},
   "outputs": [
    {
     "name": "stdout",
     "output_type": "stream",
     "text": [
      "<class 'pandas.core.frame.DataFrame'>\n",
      "RangeIndex: 2692 entries, 0 to 2691\n",
      "Data columns (total 4 columns):\n",
      " #   Column    Non-Null Count  Dtype \n",
      "---  ------    --------------  ----- \n",
      " 0   Article   2692 non-null   object\n",
      " 1   Date      2692 non-null   object\n",
      " 2   Heading   2692 non-null   object\n",
      " 3   NewsType  2692 non-null   object\n",
      "dtypes: object(4)\n",
      "memory usage: 84.3+ KB\n"
     ]
    }
   ],
   "source": [
    "df.info()"
   ]
  },
  {
   "cell_type": "markdown",
   "id": "649a3786",
   "metadata": {},
   "source": [
    "# Stopwords\n",
    "[Return to Table of Contents](#Table-of-Contents)\n",
    "\n",
    "Stop words are defined as words that occur too often in the corpus and do not have significant contribution to the model, providing insights, or extracting meaning. In a language these can include words that occur too often. NLP libraries (e.g., NLTK, Scikit-learn) typically have a list of predefined stop words. NLP tools can use a list of global stop words applied during text cleaning tasks as well as could also allow users submit custom list of stop words that may be industry specific. The use of stop words (custom or otherwise) need to be documented as removing important words to the corpus may either introduce errors, biases, or give the appearance of bias."
   ]
  },
  {
   "cell_type": "markdown",
   "id": "a1830ef0",
   "metadata": {},
   "source": [
    "### SciKit-Learn Stopwords\n",
    "[Return to Table of Contents](#Table-of-Contents)\n",
    "\n",
    "The list below are the list of stopwords from SciKit-learn library. Note that some words here vary from the words in NLTK library. For example, the SKLearn stopwords list includes the word \"fire\" which may be important when trying to search topics related to word \"fire\". If that is the case you will need to remove the word fire from the stopwords list."
   ]
  },
  {
   "cell_type": "code",
   "execution_count": 14,
   "id": "207abdb2",
   "metadata": {},
   "outputs": [
    {
     "name": "stdout",
     "output_type": "stream",
     "text": [
      "['three', 'during', 'no', 'sometime', 'are', 'their', 'next', 'here', 'towards', 'latterly', 'whole', 'wherein', 'themselves', 'by', 'find', 'around', 'out', 'whenever', 'upon', 'put', 'eight', 'am', 'thereby', 'cry', 'on', 'someone', 'somewhere', 'get', 'for', 'is', 'together', 'always', 'any', 'within', 'as', 'forty', 'alone', 'else', 'ie', 'itself', 'them', 'although', 'herself', 'to', 'our', 'we', 'it', 'couldnt', 'please', 'everything', 'eg', 'beyond', 'well', 'can', 'whereby', 'whereupon', 'such', 'one', 'both', 'its', 'anywhere', 'except', 'they', 'neither', 'others', 'until', 'becoming', 'anything', 'eleven', 'third', 'latter', 'see', 'a', 'do', 'sometimes', 'bill', 'will', 'due', 'system', 'still', 'another', 'four', 'now', 'where', 'were', 'never', 'been', 'whither', 'herein', 'mill', 'twenty', 'sixty', 'but', 'hence', 'go', 'then', 'seem', 'whence', 'of', 'below', 'etc', 'there', 'cant', 'fire', 'this', 'everyone', 'before', 'thick', 'with', 'nobody', 'all', 'amount', 'could', 'and', 'at', 'often', 'nevertheless', 'whereafter', 'mostly', 'which', 'inc', 'beside', 'same', 'was', 'none', 'de', 'your', 'meanwhile', 'rather', 'few', 'toward', 'un', 'thence', 'hers', 'off', 'everywhere', 'amongst', 'why', 'these', 'between', 'sincere', 'detail', 'describe', 'thus', 're', 'most', 'front', 'anyhow', 'again', 'con', 'because', 'full', 'name', 'many', 'down', 'amoungst', 'more', 'she', 'every', 'take', 'has', 'thin', 'ltd', 'nor', 'thru', 'should', 'he', 'became', 'therein', 'noone', 'would', 'less', 'enough', 'besides', 'the', 'or', 'yet', 'other', 'over', 'only', 'give', 'seemed', 'afterwards', 'serious', 'whether', 'top', 'further', 'his', 'her', 'show', 'hereby', 'beforehand', 'under', 'that', 'ours', 'twelve', 'mine', 'once', 'anyway', 'while', 'above', 'even', 'you', 'if', 'whatever', 'through', 'than', 'made', 'being', 'seems', 'nowhere', 'anyone', 'almost', 'move', 'cannot', 'too', 'so', 'part', 'whoever', 'ever', 'also', 'becomes', 'into', 'elsewhere', 'bottom', 'us', 'nothing', 'along', 'those', 'hereupon', 'had', 'seeming', 'very', 'become', 'have', 'ourselves', 'least', 'co', 'who', 'somehow', 'first', 'against', 'fifteen', 'formerly', 'whereas', 'wherever', 'thereupon', 'whose', 'per', 'fill', 'up', 'however', 'back', 'him', 'own', 'moreover', 'onto', 'what', 'empty', 'how', 'whom', 'when', 'done', 'must', 'after', 'in', 'about', 'last', 'some', 'across', 'may', 'yourselves', 'nine', 'side', 'among', 'behind', 'though', 'thereafter', 'already', 'ten', 'me', 'hereafter', 'keep', 'from', 'not', 'hundred', 'several', 'might', 'five', 'since', 'myself', 'be', 'found', 'fifty', 'himself', 'i', 'six', 'interest', 'call', 'indeed', 'former', 'without', 'much', 'therefore', 'throughout', 'each', 'perhaps', 'hasnt', 'yours', 'via', 'an', 'either', 'namely', 'otherwise', 'my', 'something', 'yourself', 'two']\n"
     ]
    }
   ],
   "source": [
    "from sklearn.feature_extraction import text\n",
    "print(list(text.ENGLISH_STOP_WORDS))"
   ]
  },
  {
   "cell_type": "markdown",
   "id": "40f7805d",
   "metadata": {},
   "source": [
    "### NLTK Stopwords\n",
    "[Return to Table of Contents](#Table-of-Contents)\n",
    "\n",
    "The list below are the list of stopwords from NLTK library."
   ]
  },
  {
   "cell_type": "code",
   "execution_count": 15,
   "id": "a3cf41e1",
   "metadata": {},
   "outputs": [
    {
     "name": "stdout",
     "output_type": "stream",
     "text": [
      "['i', 'me', 'my', 'myself', 'we', 'our', 'ours', 'ourselves', 'you', \"you're\", \"you've\", \"you'll\", \"you'd\", 'your', 'yours', 'yourself', 'yourselves', 'he', 'him', 'his', 'himself', 'she', \"she's\", 'her', 'hers', 'herself', 'it', \"it's\", 'its', 'itself', 'they', 'them', 'their', 'theirs', 'themselves', 'what', 'which', 'who', 'whom', 'this', 'that', \"that'll\", 'these', 'those', 'am', 'is', 'are', 'was', 'were', 'be', 'been', 'being', 'have', 'has', 'had', 'having', 'do', 'does', 'did', 'doing', 'a', 'an', 'the', 'and', 'but', 'if', 'or', 'because', 'as', 'until', 'while', 'of', 'at', 'by', 'for', 'with', 'about', 'against', 'between', 'into', 'through', 'during', 'before', 'after', 'above', 'below', 'to', 'from', 'up', 'down', 'in', 'out', 'on', 'off', 'over', 'under', 'again', 'further', 'then', 'once', 'here', 'there', 'when', 'where', 'why', 'how', 'all', 'any', 'both', 'each', 'few', 'more', 'most', 'other', 'some', 'such', 'no', 'nor', 'not', 'only', 'own', 'same', 'so', 'than', 'too', 'very', 's', 't', 'can', 'will', 'just', 'don', \"don't\", 'should', \"should've\", 'now', 'd', 'll', 'm', 'o', 're', 've', 'y', 'ain', 'aren', \"aren't\", 'couldn', \"couldn't\", 'didn', \"didn't\", 'doesn', \"doesn't\", 'hadn', \"hadn't\", 'hasn', \"hasn't\", 'haven', \"haven't\", 'isn', \"isn't\", 'ma', 'mightn', \"mightn't\", 'mustn', \"mustn't\", 'needn', \"needn't\", 'shan', \"shan't\", 'shouldn', \"shouldn't\", 'wasn', \"wasn't\", 'weren', \"weren't\", 'won', \"won't\", 'wouldn', \"wouldn't\"]\n"
     ]
    }
   ],
   "source": [
    " print(stopwords.words('english'))"
   ]
  },
  {
   "cell_type": "markdown",
   "id": "65547f7e",
   "metadata": {},
   "source": [
    "### Custom Stopwords\n",
    "[Return to Table of Contents](#Table-of-Contents)\n",
    "\n",
    "In some cases you may want to add your own set of stopwords or remove some words from the standard list. Below is an example on adding new words and removing custom stopwords. The list below is what we will use going forward in the example."
   ]
  },
  {
   "cell_type": "code",
   "execution_count": 16,
   "id": "21149d5c",
   "metadata": {},
   "outputs": [
    {
     "name": "stdout",
     "output_type": "stream",
     "text": [
      "['i', 'me', 'my', 'myself', 'we', 'our', 'ours', 'ourselves', 'you', \"you're\", \"you've\", \"you'll\", \"you'd\", 'your', 'yours', 'yourself', 'yourselves', 'he', 'him', 'his', 'himself', 'she', \"she's\", 'her', 'hers', 'herself', 'it', \"it's\", 'its', 'itself', 'they', 'them', 'their', 'theirs', 'themselves', 'what', 'which', 'who', 'whom', 'this', 'that', \"that'll\", 'these', 'those', 'am', 'is', 'are', 'was', 'were', 'be', 'been', 'being', 'have', 'has', 'had', 'having', 'do', 'does', 'did', 'doing', 'a', 'an', 'the', 'and', 'but', 'if', 'or', 'because', 'as', 'until', 'while', 'of', 'at', 'by', 'for', 'with', 'about', 'against', 'between', 'into', 'through', 'during', 'before', 'after', 'above', 'below', 'to', 'from', 'up', 'down', 'in', 'out', 'on', 'off', 'over', 'under', 'again', 'further', 'then', 'once', 'here', 'there', 'when', 'where', 'why', 'how', 'all', 'any', 'both', 'each', 'few', 'more', 'most', 'other', 'some', 'such', 'nor', 'only', 'own', 'same', 'so', 'than', 'too', 'very', 's', 't', 'can', 'will', 'just', 'don', \"don't\", 'should', \"should've\", 'now', 'd', 'll', 'm', 'o', 're', 've', 'y', 'ain', 'aren', \"aren't\", 'couldn', \"couldn't\", 'didn', \"didn't\", 'doesn', \"doesn't\", 'hadn', \"hadn't\", 'hasn', \"hasn't\", 'haven', \"haven't\", 'isn', \"isn't\", 'ma', 'mightn', \"mightn't\", 'mustn', \"mustn't\", 'needn', \"needn't\", 'shan', \"shan't\", 'shouldn', \"shouldn't\", 'wasn', \"wasn't\", 'weren', \"weren't\", 'won', \"won't\", 'wouldn', \"wouldn't\", 'building', 'employee']\n"
     ]
    }
   ],
   "source": [
    "# STOPWORDS USED FOR SAFETY OCCURRENCE CORPUS.\n",
    "# Stopwords to add need to be evaluated by a SME familiar with the corpus.\n",
    "stopwords_to_add = ['building', 'employee'] # Example: ['building', 'employee','worker']\n",
    "\n",
    "stopwords_custom = stopwords.words('english') + [x.lower() for x in stopwords_to_add]\n",
    "#print(stopwords_custom) # Comment out to see list of stopwords_custom before removing the 'no'.\n",
    "\n",
    "# In some cases you want to consider 2-grams especially with the word no.\n",
    "# For example 'no fire'.  Removing the word no from the stopwords list allows this to occur.\n",
    "remove_as_stopword = ['no', 'not']\n",
    "stopwords_custom = list(filter(lambda w: w not in remove_as_stopword, stopwords_custom))\n",
    "print(stopwords_custom)"
   ]
  },
  {
   "cell_type": "code",
   "execution_count": null,
   "id": "0a4858b2",
   "metadata": {},
   "outputs": [],
   "source": [
    "# The stopword list for NLTK and SciKit learn vary.\n",
    "# Recommended to review them to make sure there are no unintended consequences.\n",
    "# Note that stopwords can also be called in the SciKit learn vectorization functions (e.g., TFIDFvectorizer)\n",
    "# This can cause to inadvertently apply stopwords there as well."
   ]
  },
  {
   "cell_type": "markdown",
   "id": "cbbe06be",
   "metadata": {},
   "source": [
    "# Text Normalization Functions\n",
    "[Return to Table of Contents](#Table-of-Contents)\n",
    "\n",
    "During text normalization various task can be performed which include but not limited to applying lower case, removing numbers and special characters, removing stop words, and applying lemmatization and/or stemming both which reduces words to their root. \n",
    "\n",
    "Documentation:\n",
    "- NLTK Library: https://www.nltk.org/\n",
    "- NLTK WordnetLemmatizer: https://www.nltk.org/_modules/nltk/stem/wordnet.html\n",
    "- NLTK Porterstemmer: https://www.nltk.org/howto/stem.html"
   ]
  },
  {
   "cell_type": "code",
   "execution_count": 17,
   "id": "52984879",
   "metadata": {},
   "outputs": [],
   "source": [
    "# Normalization of text. \n",
    "def text_normalization(text, word_reduction_method):\n",
    "    text = str(text) # Convert narrative to string.\n",
    "    df = pd.DataFrame({'': [text]}) # Converts narrative to a dataframe format use replace functions.\n",
    "    df[''] = df[''].str.lower() # Covert narrative to lower case.\n",
    "    df[''] = df[''].str.replace(r\"\\d+\", \" \", regex = True) # Remove numbers\n",
    "    df[''] = df[''].str.replace(r\"[^\\w\\s]\", \" \", regex = True) # Remove special characters\n",
    "    df[''] = df[''].str.replace(r\"_\", \" \", regex = True) # Remove underscores characters\n",
    "    df[''] = df[''].str.replace(r'\\s+', ' ', regex = True) # Replace multiple spaces with single\n",
    "    text = str(df[0:1]) # Extracts narrative from dataframe.\n",
    "    tokenizer = RegexpTokenizer(r'\\w+') # Tokenizer.\n",
    "    tokens = tokenizer.tokenize(text) # Tokenize words.\n",
    "    filtered_words = [w for w in tokens if len(w) > 1 if not w in stopwords_custom] # Note remove words of 1 letter only. Can increase to higher value as needed.\n",
    "    if word_reduction_method == 'Lemmatization':\n",
    "        lemmatizer = WordNetLemmatizer()\n",
    "        reduced_words=[lemmatizer.lemmatize(w, get_wordnet_pos(w)) for w in filtered_words] # Lemmatization.  The second argument is the POS tag.\n",
    "    if word_reduction_method == 'Stemming':\n",
    "        stemmer = PorterStemmer() # Stemming also could make the word unreadable but is faster than lemmatization.\n",
    "        reduced_words=[stemmer.stem(w) for w in filtered_words]\n",
    "    return \" \".join(reduced_words) # Join words with space.\n",
    "\n",
    "def get_wordnet_pos(word): # Reference: https://www.machinelearningplus.com/nlp/lemmatization-examples-python/#wordnetlemmatizer\n",
    "    #\"\"\"Map POS tag to first character lemmatize() accepts\"\"\"\n",
    "    tag = nltk.pos_tag([word])[0][1][0].upper()\n",
    "    tag_dict = {\"J\": wordnet.ADJ,\n",
    "                \"N\": wordnet.NOUN,\n",
    "                \"V\": wordnet.VERB,\n",
    "                \"R\": wordnet.ADV}\n",
    "    return tag_dict.get(tag, wordnet.NOUN)"
   ]
  },
  {
   "cell_type": "markdown",
   "id": "b254afbc",
   "metadata": {},
   "source": [
    "When performing NLP, you will need to decide the target feature or column. In this case we have two columns that have unstructured data. One is the question the other is the answer. We could also combine both in one column and use that as the target. In this case we will use the question as the target. This will allow us to perform various NLP tasks within the target text or category:\n",
    "- similarity calculations or ranking \n",
    "- text classification\n",
    "- text clustering \n",
    "\n",
    "However, not that the questions tend to be really short. Before making a decision on the target it would also be good practice to explore some statistics on the number of words, lenght of the text, and any other stats that we may think of. Note below that when normalizing text data it sometimes removes all the words and we end up with a target text with no words hence no vectors. This will cause issues later on and need to be addressed (i.e., fixed or removed)."
   ]
  },
  {
   "cell_type": "code",
   "execution_count": 18,
   "id": "2f762d02",
   "metadata": {},
   "outputs": [
    {
     "name": "stdout",
     "output_type": "stream",
     "text": [
      "CPU times: total: 2min 15s\n",
      "Wall time: 2min 39s\n"
     ]
    }
   ],
   "source": [
    "%%time\n",
    "# Applies the normalization fuction to normalize the question column of the dataset WITHOUT stemming.\n",
    "df['norm_text_wlemma'] = df['Article'].apply(text_normalization, word_reduction_method = 'Lemmatization')"
   ]
  },
  {
   "cell_type": "code",
   "execution_count": 19,
   "id": "355cc095",
   "metadata": {},
   "outputs": [
    {
     "data": {
      "text/html": [
       "<div>\n",
       "<style scoped>\n",
       "    .dataframe tbody tr th:only-of-type {\n",
       "        vertical-align: middle;\n",
       "    }\n",
       "\n",
       "    .dataframe tbody tr th {\n",
       "        vertical-align: top;\n",
       "    }\n",
       "\n",
       "    .dataframe thead th {\n",
       "        text-align: right;\n",
       "    }\n",
       "</style>\n",
       "<table border=\"1\" class=\"dataframe tex2jax_ignore\">\n",
       "  <thead>\n",
       "    <tr style=\"text-align: right;\">\n",
       "      <th></th>\n",
       "      <th>Article</th>\n",
       "      <th>Date</th>\n",
       "      <th>Heading</th>\n",
       "      <th>NewsType</th>\n",
       "      <th>norm_text_wlemma</th>\n",
       "    </tr>\n",
       "  </thead>\n",
       "  <tbody>\n",
       "    <tr>\n",
       "      <th>543</th>\n",
       "      <td>strong&gt;MANILA: The Asian Development Bank slashed its economic growth forecast for developing Asia this year, citing global headwinds and a weaker outlook for China.&lt;/strongDeveloping Asia will expand 5.7 percent this year and in 2017, the Manila-based lender said in its latest Asian Development Outlook released on Wednesday.In its December outlook report, the ADB had forecast 2016 growth for the region at 6.0 percent.The region, which groups 45 countries in the Asia Pacific, grew 5.9 percent last year.\"Risks are tilted to the downside as tightening US monetary policy may heighten financial volatility, further moderation in China could spill over into its neighbors, and producer price deflation may undermine growth in some economies,\" said ADB chief economist Shang-Jin Wei.The ADB forecast growth in China, the world's second-largest economy, would slow to 6.5 percent this year from 6.9 percent in 2015, its weakest expansion in a quarter of a century. Growth is projected to slow further to 6.3 percent in 2017, ADB said.The bank's 2016 forecast for China, down from a December estimate of 6.7 percent, is at the lower end of Beijing's own target of 6.5-7 percent as the government presses ahead with painful reforms, though Premier Li Keqiang has vowed that would not lead to a hard landing.Weak prices for oil and other commodities also cast a shadow over the prospects of Asia's commodity-dependent economies, the ADB said.In the United States, expanding private consumption and investment will be tempered by weak external demand, the ADB said. US Federal Reserve policymakers have cited continuing risks from a shaky global economy in halving the number of potential interest rate hikes this year to two.Growth in India will slip to 7.4 percent this year from 7.6 percent in 2015, but should recover to 7.8 percent in 2017, the ADB said.For all of South Asia, ADB forecast growth at 6.9 percent in 2016 and 7.3 percent in 2017, versus growth of 7.0 percent last year.Economies in Southeast Asia are projected to expand 4.5 percent this year, from 4.4 percent in 2015, and by 4.8 percent in 2017.For East Asia, ADB sees growth at 5.7 percent in 2016 and 5.6 percent in 2017. The region grew 6.0 percent last year.Central Asia is estimated to expand by 2.1 percent this year and 2.8 percent in 2017, following growth of 2.9 percent in 2015, the bank said.Annual inflation in developing Asia is expected to recover to 2.5 percent this year from 2.2 percent in 2015 as domestic demand strengthens, ADB said. A rebound in global commodity prices next year should lift inflation to 2.7 percent, it said.</td>\n",
       "      <td>3/30/2016</td>\n",
       "      <td>ADB cuts Asia growth forecast for 2016 on China global drag</td>\n",
       "      <td>business</td>\n",
       "      <td>strong manila asian development bank slash economic growth forecast develop asia year cite global headwind weaker outlook china strongdeveloping asia expand percent year manila base lender say late asian development outlook release wednesday december outlook report adb forecast growth region percent region group country asia pacific grow percent last year risk tilt downside tighten u monetary policy may heighten financial volatility moderation china could spill neighbor producer price deflation may undermine growth economy say adb chief economist shang jin wei adb forecast growth china world second large economy would slow percent year percent weak expansion quarter century growth project slow percent adb say bank forecast china december estimate percent low end beijing target percent government press ahead painful reform though premier li keqiang vowed would not lead hard land weak price oil commodity also cast shadow prospect asia commodity dependent economy adb say united state expand private consumption investment temper weak external demand adb say u federal reserve policymakers cite continue risk shaky global economy halve number potential interest rate hike year two growth india slip percent year percent recover percent adb say south asia adb forecast growth percent percent versus growth percent last year economy southeast asia project expand percent year percent percent east asia adb see growth percent percent region grow percent last year central asia estimate expand percent year percent follow growth percent bank say annual inflation develop asia expect recover percent year percent domestic demand strengthens adb say rebound global commodity price next year lift inflation percent say</td>\n",
       "    </tr>\n",
       "  </tbody>\n",
       "</table>\n",
       "</div>"
      ],
      "text/plain": [
       "                                                                                                                                                                                                                                                                                                                                                                                                                                                                                                                                                                                                                                                                                                                                                                                                                                                                                                                                                                                                                                                                                                                                                                                                                                                                                                                                                                                                                                                                                                                                                                                                                                                                                                                                                                                                                                                                                                                                                                                                                                                                                                                                                                                                                                                                                                                                                                                                                                                                                                                                                                                                                                                                                                                     Article  \\\n",
       "543  strong>MANILA: The Asian Development Bank slashed its economic growth forecast for developing Asia this year, citing global headwinds and a weaker outlook for China.</strongDeveloping Asia will expand 5.7 percent this year and in 2017, the Manila-based lender said in its latest Asian Development Outlook released on Wednesday.In its December outlook report, the ADB had forecast 2016 growth for the region at 6.0 percent.The region, which groups 45 countries in the Asia Pacific, grew 5.9 percent last year.\"Risks are tilted to the downside as tightening US monetary policy may heighten financial volatility, further moderation in China could spill over into its neighbors, and producer price deflation may undermine growth in some economies,\" said ADB chief economist Shang-Jin Wei.The ADB forecast growth in China, the world's second-largest economy, would slow to 6.5 percent this year from 6.9 percent in 2015, its weakest expansion in a quarter of a century. Growth is projected to slow further to 6.3 percent in 2017, ADB said.The bank's 2016 forecast for China, down from a December estimate of 6.7 percent, is at the lower end of Beijing's own target of 6.5-7 percent as the government presses ahead with painful reforms, though Premier Li Keqiang has vowed that would not lead to a hard landing.Weak prices for oil and other commodities also cast a shadow over the prospects of Asia's commodity-dependent economies, the ADB said.In the United States, expanding private consumption and investment will be tempered by weak external demand, the ADB said. US Federal Reserve policymakers have cited continuing risks from a shaky global economy in halving the number of potential interest rate hikes this year to two.Growth in India will slip to 7.4 percent this year from 7.6 percent in 2015, but should recover to 7.8 percent in 2017, the ADB said.For all of South Asia, ADB forecast growth at 6.9 percent in 2016 and 7.3 percent in 2017, versus growth of 7.0 percent last year.Economies in Southeast Asia are projected to expand 4.5 percent this year, from 4.4 percent in 2015, and by 4.8 percent in 2017.For East Asia, ADB sees growth at 5.7 percent in 2016 and 5.6 percent in 2017. The region grew 6.0 percent last year.Central Asia is estimated to expand by 2.1 percent this year and 2.8 percent in 2017, following growth of 2.9 percent in 2015, the bank said.Annual inflation in developing Asia is expected to recover to 2.5 percent this year from 2.2 percent in 2015 as domestic demand strengthens, ADB said. A rebound in global commodity prices next year should lift inflation to 2.7 percent, it said.   \n",
       "\n",
       "          Date                                                      Heading  \\\n",
       "543  3/30/2016  ADB cuts Asia growth forecast for 2016 on China global drag   \n",
       "\n",
       "     NewsType  \\\n",
       "543  business   \n",
       "\n",
       "                                                                                                                                                                                                                                                                                                                                                                                                                                                                                                                                                                                                                                                                                                                                                                                                                                                                                                                                                                                                                                                                                                                                                                                                                                                                                                                                                                                                                                                                                                                                                                                                                                                                                                                                                                               norm_text_wlemma  \n",
       "543  strong manila asian development bank slash economic growth forecast develop asia year cite global headwind weaker outlook china strongdeveloping asia expand percent year manila base lender say late asian development outlook release wednesday december outlook report adb forecast growth region percent region group country asia pacific grow percent last year risk tilt downside tighten u monetary policy may heighten financial volatility moderation china could spill neighbor producer price deflation may undermine growth economy say adb chief economist shang jin wei adb forecast growth china world second large economy would slow percent year percent weak expansion quarter century growth project slow percent adb say bank forecast china december estimate percent low end beijing target percent government press ahead painful reform though premier li keqiang vowed would not lead hard land weak price oil commodity also cast shadow prospect asia commodity dependent economy adb say united state expand private consumption investment temper weak external demand adb say u federal reserve policymakers cite continue risk shaky global economy halve number potential interest rate hike year two growth india slip percent year percent recover percent adb say south asia adb forecast growth percent percent versus growth percent last year economy southeast asia project expand percent year percent percent east asia adb see growth percent percent region grow percent last year central asia estimate expand percent year percent follow growth percent bank say annual inflation develop asia expect recover percent year percent domestic demand strengthens adb say rebound global commodity price next year lift inflation percent say  "
      ]
     },
     "execution_count": 19,
     "metadata": {},
     "output_type": "execute_result"
    }
   ],
   "source": [
    "df.sample(1) # With norm_text_wlemma column added"
   ]
  },
  {
   "cell_type": "code",
   "execution_count": 20,
   "id": "96d68cab",
   "metadata": {},
   "outputs": [
    {
     "name": "stdout",
     "output_type": "stream",
     "text": [
      "CPU times: total: 10.6 s\n",
      "Wall time: 11.9 s\n"
     ]
    }
   ],
   "source": [
    "%%time\n",
    "# Applies the normalization fuction to normalize the question column of the dataset WITH stemming.\n",
    "df['norm_text_wstemming'] = df['Article'].apply(text_normalization, word_reduction_method = 'Stemming')"
   ]
  },
  {
   "cell_type": "code",
   "execution_count": 21,
   "id": "8a233bb8",
   "metadata": {},
   "outputs": [
    {
     "data": {
      "text/html": [
       "<div>\n",
       "<style scoped>\n",
       "    .dataframe tbody tr th:only-of-type {\n",
       "        vertical-align: middle;\n",
       "    }\n",
       "\n",
       "    .dataframe tbody tr th {\n",
       "        vertical-align: top;\n",
       "    }\n",
       "\n",
       "    .dataframe thead th {\n",
       "        text-align: right;\n",
       "    }\n",
       "</style>\n",
       "<table border=\"1\" class=\"dataframe tex2jax_ignore\">\n",
       "  <thead>\n",
       "    <tr style=\"text-align: right;\">\n",
       "      <th></th>\n",
       "      <th>Article</th>\n",
       "      <th>Date</th>\n",
       "      <th>Heading</th>\n",
       "      <th>NewsType</th>\n",
       "      <th>norm_text_wlemma</th>\n",
       "      <th>norm_text_wstemming</th>\n",
       "    </tr>\n",
       "  </thead>\n",
       "  <tbody>\n",
       "    <tr>\n",
       "      <th>6</th>\n",
       "      <td>KARACHI: Strong bulls on Friday pulled the benchmark KSE-100 Index at Karachi Stock Exchange (KSE) and taking it across the psychological barrier of 33,000 points with a single days gain of 207 points.The investors remained active right from the opening bells of todays trade, contributing 207 points to the major index and a close at 33,324 points  a new record in Pakistans stock market history.According to stock market experts, the investors are interested in taking fresh positions in the expectations of discount rate going further down as a result of a visible decline in inflation rate.They said the stock market of Pakistan has earned the honour of being considered as one of the most successful markets of this region in 2014 during which investors booked over 25 percent profits.  \\r\\n\\r\\n\\r\\n\\r\\n\\r\\n\\r\\n\\r\\n\\r\\n\\r\\n\\r\\n\\r\\n</td>\n",
       "      <td>1/9/2015</td>\n",
       "      <td>bullish kse jumps over 33000 psychological barrier</td>\n",
       "      <td>business</td>\n",
       "      <td>karachi strong bull friday pull benchmark kse index karachi stock exchange kse take across psychological barrier point single day gain point investor remain active right opening bell today trade contribute point major index close point new record pakistan stock market history accord stock market expert investor interested take fresh position expectation discount rate go result visible decline inflation rate say stock market pakistan earn honour consider one successful market region investor book percent profit</td>\n",
       "      <td>karachi strong bull friday pull benchmark kse index karachi stock exchang kse take across psycholog barrier point singl day gain point investor remain activ right open bell today trade contribut point major index close point new record pakistan stock market histori accord stock market expert investor interest take fresh posit expect discount rate go result visibl declin inflat rate said stock market pakistan earn honour consid one success market region investor book percent profit</td>\n",
       "    </tr>\n",
       "  </tbody>\n",
       "</table>\n",
       "</div>"
      ],
      "text/plain": [
       "                                                                                                                                                                                                                                                                                                                                                                                                                                                                                                                                                                                                                                                                                                                                                                                                                                                                    Article  \\\n",
       "6  KARACHI: Strong bulls on Friday pulled the benchmark KSE-100 Index at Karachi Stock Exchange (KSE) and taking it across the psychological barrier of 33,000 points with a single days gain of 207 points.The investors remained active right from the opening bells of todays trade, contributing 207 points to the major index and a close at 33,324 points  a new record in Pakistans stock market history.According to stock market experts, the investors are interested in taking fresh positions in the expectations of discount rate going further down as a result of a visible decline in inflation rate.They said the stock market of Pakistan has earned the honour of being considered as one of the most successful markets of this region in 2014 during which investors booked over 25 percent profits.  \\r\\n\\r\\n\\r\\n\\r\\n\\r\\n\\r\\n\\r\\n\\r\\n\\r\\n\\r\\n\\r\\n   \n",
       "\n",
       "       Date                                             Heading  NewsType  \\\n",
       "6  1/9/2015  bullish kse jumps over 33000 psychological barrier  business   \n",
       "\n",
       "                                                                                                                                                                                                                                                                                                                                                                                                                                                                                                                      norm_text_wlemma  \\\n",
       "6  karachi strong bull friday pull benchmark kse index karachi stock exchange kse take across psychological barrier point single day gain point investor remain active right opening bell today trade contribute point major index close point new record pakistan stock market history accord stock market expert investor interested take fresh position expectation discount rate go result visible decline inflation rate say stock market pakistan earn honour consider one successful market region investor book percent profit   \n",
       "\n",
       "                                                                                                                                                                                                                                                                                                                                                                                                                                                                                     norm_text_wstemming  \n",
       "6  karachi strong bull friday pull benchmark kse index karachi stock exchang kse take across psycholog barrier point singl day gain point investor remain activ right open bell today trade contribut point major index close point new record pakistan stock market histori accord stock market expert investor interest take fresh posit expect discount rate go result visibl declin inflat rate said stock market pakistan earn honour consid one success market region investor book percent profit  "
      ]
     },
     "execution_count": 21,
     "metadata": {},
     "output_type": "execute_result"
    }
   ],
   "source": [
    "df.sample(1) # With norm_text_wstemming column added."
   ]
  },
  {
   "cell_type": "markdown",
   "id": "dd88c523",
   "metadata": {},
   "source": [
    "Note that sometimes when normalizing text data, all the words on the text record being normalized can be removed (e.g., if all the words are stop words). This may result in issues when calculating the BoW models token vectors. We need to evaluate the issue and when it cannot be resolved we need to filter out these rows."
   ]
  },
  {
   "cell_type": "code",
   "execution_count": 25,
   "id": "82add69e",
   "metadata": {},
   "outputs": [
    {
     "name": "stdout",
     "output_type": "stream",
     "text": [
      "Number of null values in the norm_text_wlemma:\n",
      "0\n",
      "0\n",
      "Number of null values in the norm_text_wstemming:\n",
      "0\n",
      "0\n"
     ]
    }
   ],
   "source": [
    "print(f'Number of null values in the norm_text_wlemma:')\n",
    "print(df['norm_text_wlemma'].isnull().sum()) # Checks number of rows with null values on norm_text_wlemma column\n",
    "print(df[df['norm_text_wlemma'] == ''].shape[0]) # Check number of rows with blank strings on norm_text_wlemma column \n",
    "\n",
    "print(f'Number of null values in the norm_text_wstemming:')\n",
    "print(df['norm_text_wstemming'].isnull().sum()) # Checks number of rows with null values on norm_text_wstemming column\n",
    "print(df[df['norm_text_wstemming'] == ''].shape[0]) # Check number of rows with blank strings on norm_text_wstemming column "
   ]
  },
  {
   "cell_type": "markdown",
   "id": "b1c19085",
   "metadata": {},
   "source": [
    "The cell below allows us to explore the rows that have blank columns in the norm_text columns. In this case we can see that the question seems to have an error and not complete. We need to filter out these rows.\n",
    "\n",
    "See that it looks like there are some questions that are not complete."
   ]
  },
  {
   "cell_type": "code",
   "execution_count": 26,
   "id": "a2abe653",
   "metadata": {},
   "outputs": [
    {
     "data": {
      "text/html": [
       "<div>\n",
       "<style scoped>\n",
       "    .dataframe tbody tr th:only-of-type {\n",
       "        vertical-align: middle;\n",
       "    }\n",
       "\n",
       "    .dataframe tbody tr th {\n",
       "        vertical-align: top;\n",
       "    }\n",
       "\n",
       "    .dataframe thead th {\n",
       "        text-align: right;\n",
       "    }\n",
       "</style>\n",
       "<table border=\"1\" class=\"dataframe tex2jax_ignore\">\n",
       "  <thead>\n",
       "    <tr style=\"text-align: right;\">\n",
       "      <th></th>\n",
       "      <th>Article</th>\n",
       "      <th>Date</th>\n",
       "      <th>Heading</th>\n",
       "      <th>NewsType</th>\n",
       "      <th>norm_text_wlemma</th>\n",
       "      <th>norm_text_wstemming</th>\n",
       "    </tr>\n",
       "  </thead>\n",
       "  <tbody>\n",
       "  </tbody>\n",
       "</table>\n",
       "</div>"
      ],
      "text/plain": [
       "Empty DataFrame\n",
       "Columns: [Article, Date, Heading, NewsType, norm_text_wlemma, norm_text_wstemming]\n",
       "Index: []"
      ]
     },
     "execution_count": 26,
     "metadata": {},
     "output_type": "execute_result"
    }
   ],
   "source": [
    "#df[df['norm_text_wstemming'].isnull].head()\n",
    "df[df['norm_text_wstemming'] == ''].head()"
   ]
  },
  {
   "cell_type": "code",
   "execution_count": 27,
   "id": "46fc965d",
   "metadata": {},
   "outputs": [
    {
     "name": "stdout",
     "output_type": "stream",
     "text": [
      "(2692, 6)\n",
      "(2692, 6)\n"
     ]
    }
   ],
   "source": [
    "# Drops rows with null and blank norm_text columns and resets index. \n",
    "\n",
    "print(df.shape)\n",
    "df = df[df['norm_text_wlemma'].notnull()].reset_index(drop=True)\n",
    "df = df[df['norm_text_wlemma'] != ''].reset_index(drop=True)\n",
    "df = df[df['norm_text_wstemming'].notnull()].reset_index(drop=True)\n",
    "df = df[df['norm_text_wstemming'] != ''].reset_index(drop=True)\n",
    "print(df.shape)"
   ]
  },
  {
   "cell_type": "code",
   "execution_count": 28,
   "id": "e8744ae5",
   "metadata": {},
   "outputs": [],
   "source": [
    "# Let's exprot this dataframe which we will use in other examples.\n",
    "df.to_csv(r'.\\output_data\\df_norm_text.csv', encoding='utf-8-sig', \n",
    "          index = False, \n",
    "          header = True)"
   ]
  },
  {
   "attachments": {
    "image-2.png": {
     "image/png": "[encoded data removed]"
    },
    "image.png": {
     "image/png": "[encoded data removed]"
    }
   },
   "cell_type": "markdown",
   "id": "4d0184e3",
   "metadata": {},
   "source": [
    "# Bag of Words (BoW) Model\n",
    "[Return to Table of Contents](#Table-of-Contents)\n",
    "\n",
    "The goal of the bag of words model is to convert text data to numerical data. This is accomplished by creating a matrix of every __token (e.g., word, phrases, sentences, paragraphs, etc.)__ in the corpus. The text tokens are represented in a matrix with their vector or numerical representation. The numerical representation can take various forms:\n",
    "- [Count vectorization](https://scikit-learn.org/stable/modules/generated/sklearn.feature_extraction.text.CountVectorizer.html): which counts how many times a token occurs in the text.\n",
    "- [Term-Frequency Inverse Document-Frequency (TFIDF) vectorization](https://scikit-learn.org/stable/modules/generated/sklearn.feature_extraction.text.TfidfVectorizer.html): The calculation of the token in the text is based on an equation that takes into consideration the importance of the token. The TFIDF equation is as follows:\n",
    "\n",
    "![image.png](attachment:image.png)\n",
    "\n",
    "![image-2.png](attachment:image-2.png)\n",
    "\n",
    "In the simple example below the document tokens are represented only in a raw count (i.e., how many times the token appears), but could be represented using other metrics such as TFIDF. The matrix created is called a [sparse matrix](https://scikit-learn.org/stable/auto_examples/text/plot_document_classification_20newsgroups.html). Exploring the statistics using the describe function allows us to see that the numbers are not 0 and explore some of the values. Each column in the matrix represents a vector for each dimension (e.g., token)."
   ]
  },
  {
   "cell_type": "code",
   "execution_count": 29,
   "id": "e52bf9a4",
   "metadata": {},
   "outputs": [
    {
     "name": "stdout",
     "output_type": "stream",
     "text": [
      "(4, 4)\n"
     ]
    },
    {
     "data": {
      "text/html": [
       "<div>\n",
       "<style scoped>\n",
       "    .dataframe tbody tr th:only-of-type {\n",
       "        vertical-align: middle;\n",
       "    }\n",
       "\n",
       "    .dataframe tbody tr th {\n",
       "        vertical-align: top;\n",
       "    }\n",
       "\n",
       "    .dataframe thead th {\n",
       "        text-align: right;\n",
       "    }\n",
       "</style>\n",
       "<table border=\"1\" class=\"dataframe tex2jax_ignore\">\n",
       "  <thead>\n",
       "    <tr style=\"text-align: right;\">\n",
       "      <th></th>\n",
       "      <th>Hypothetical Text</th>\n",
       "      <th>cause</th>\n",
       "      <th>symptom</th>\n",
       "      <th>glaucoma</th>\n",
       "    </tr>\n",
       "  </thead>\n",
       "  <tbody>\n",
       "    <tr>\n",
       "      <th>0</th>\n",
       "      <td>What are the causes of glaucoma?</td>\n",
       "      <td>1</td>\n",
       "      <td>0</td>\n",
       "      <td>1</td>\n",
       "    </tr>\n",
       "    <tr>\n",
       "      <th>1</th>\n",
       "      <td>What are the symptoms of glaucoma?</td>\n",
       "      <td>0</td>\n",
       "      <td>1</td>\n",
       "      <td>1</td>\n",
       "    </tr>\n",
       "    <tr>\n",
       "      <th>2</th>\n",
       "      <td>What are the causes and symptoms of glaucoma?</td>\n",
       "      <td>1</td>\n",
       "      <td>1</td>\n",
       "      <td>1</td>\n",
       "    </tr>\n",
       "    <tr>\n",
       "      <th>3</th>\n",
       "      <td>Glaucoma is a group of diseases that can damage the eye's optic nerve and result in vision loss and blindness. Some types of Glaucoma have no symptoms while in others symptoms develop over time. Causes of glaucoma my be due to age, and pressure in the eye.</td>\n",
       "      <td>1</td>\n",
       "      <td>2</td>\n",
       "      <td>3</td>\n",
       "    </tr>\n",
       "  </tbody>\n",
       "</table>\n",
       "</div>"
      ],
      "text/plain": [
       "                                                                                                                                                                                                                                                  Hypothetical Text  \\\n",
       "0                                                                                                                                                                                                                                  What are the causes of glaucoma?   \n",
       "1                                                                                                                                                                                                                                What are the symptoms of glaucoma?   \n",
       "2                                                                                                                                                                                                                     What are the causes and symptoms of glaucoma?   \n",
       "3  Glaucoma is a group of diseases that can damage the eye's optic nerve and result in vision loss and blindness. Some types of Glaucoma have no symptoms while in others symptoms develop over time. Causes of glaucoma my be due to age, and pressure in the eye.   \n",
       "\n",
       "   cause  symptom  glaucoma  \n",
       "0      1        0         1  \n",
       "1      0        1         1  \n",
       "2      1        1         1  \n",
       "3      1        2         3  "
      ]
     },
     "execution_count": 29,
     "metadata": {},
     "output_type": "execute_result"
    }
   ],
   "source": [
    "# Let's take the simple example BoW matrix.\n",
    "df_sample_BoW_matrix = pd.read_excel('./input_data/Sample-BoW-Matrix.xlsx')\n",
    "print(df_sample_BoW_matrix.shape)\n",
    "df_sample_BoW_matrix"
   ]
  },
  {
   "cell_type": "code",
   "execution_count": 30,
   "id": "12a6b3cc",
   "metadata": {},
   "outputs": [
    {
     "data": {
      "image/png": "[encoded data removed]",
      "text/plain": [
       "<Figure size 500x500 with 1 Axes>"
      ]
     },
     "metadata": {},
     "output_type": "display_data"
    }
   ],
   "source": [
    "# Let's plot two of our dimensions:\n",
    "x_values = df_sample_BoW_matrix['cause']\n",
    "y_values = df_sample_BoW_matrix['symptom']\n",
    "\n",
    "plt.figure(figsize = [5, 5])\n",
    "plt.scatter(x = x_values, y = y_values, marker='o', s = 60)\n",
    "\n",
    "plt.xlabel('cause')\n",
    "plt.xticks(range(0, max(x_values)+1))\n",
    "plt.ylabel('symptom')\n",
    "plt.yticks(range(0, max(y_values)+1))\n",
    "\n",
    "plt.grid() \n",
    "plt.show();\n",
    "# How would be determine similarity of each of these points to the other?"
   ]
  },
  {
   "cell_type": "code",
   "execution_count": 31,
   "id": "26a63209",
   "metadata": {},
   "outputs": [
    {
     "data": {
      "image/png": "[encoded data removed]",
      "text/plain": [
       "<Figure size 800x800 with 1 Axes>"
      ]
     },
     "metadata": {},
     "output_type": "display_data"
    }
   ],
   "source": [
    "# Let's plot three of our dimensions. As the dimensions become more it is more difficult to visualize.\n",
    "# https://matplotlib.org/stable/gallery/mplot3d/scatter3d.html\n",
    "\n",
    "x_values = df_sample_BoW_matrix['cause']\n",
    "y_values = df_sample_BoW_matrix['symptom']\n",
    "z_values = df_sample_BoW_matrix['glaucoma']\n",
    "\n",
    "fig = plt.figure(figsize = [8, 8])\n",
    "ax = plt.axes(projection=\"3d\")\n",
    "ax.scatter(xs = x_values, ys = y_values, zs = z_values, \n",
    "           zdir = 'z', marker='o', s = 60, depthshade=False)\n",
    "\n",
    "ax.set_xlabel('cause')\n",
    "ax.set_xticks(range(0, max(x_values)+1))\n",
    "\n",
    "ax.set_ylabel('symptom')\n",
    "ax.set_yticks(range(0, max(y_values)+1))\n",
    "\n",
    "ax.set_zlabel('glaucoma')\n",
    "ax.set_zticks(range(0, max(y_values)+1))\n",
    "\n",
    "plt.show()"
   ]
  },
  {
   "cell_type": "markdown",
   "id": "9fff5346",
   "metadata": {},
   "source": [
    "The resulting vector matrix can then used for various tasks including but not limited classification, clustering, recommendation, ranking (e.g., based on similarity), question answering, text summarization, and generative (e.g., given a prompt generate text, image, sound, and video). Note that in large language model (LLM) space, some of these tasks are called fine-tunning. \n",
    "\n",
    "The code below uses the scikit-learn to create each token vector (i.e., transform the text to numerical format). The standard practice is to use a term-frequency inverse docuemnt-frequence (TFIDF) vectorization. Note that there are other vectorization methods available that can be used such as CountVectorizer.\n",
    "\n",
    "Documentation:\n",
    "- https://scikit-learn.org/stable/modules/generated/sklearn.feature_extraction.text.TfidfVectorizer.html\n",
    "- https://scikit-learn.org/stable/modules/generated/sklearn.feature_extraction.text.CountVectorizer.html"
   ]
  },
  {
   "cell_type": "code",
   "execution_count": 50,
   "id": "43b62ca1",
   "metadata": {},
   "outputs": [],
   "source": [
    "# Let's go back to our data example.\n",
    "# Creating BOW for the Target DataFrame with selected Vectorizer TFIDF\n",
    "# Note that CountVectorizer is another vectorization function.\n",
    "# The below function defines an instance of the vectorizer with its specific parameters.\n",
    "vectorizer = TfidfVectorizer(lowercase=True, \n",
    "                             analyzer='word', \n",
    "                             stop_words=stopwords_custom, \n",
    "                             ngram_range=(1, 2), \n",
    "                             max_df = 0.95, \n",
    "                             min_df = 0.01\n",
    "                            )"
   ]
  },
  {
   "cell_type": "code",
   "execution_count": 51,
   "id": "24f07f28",
   "metadata": {},
   "outputs": [],
   "source": [
    "# Depending on which word reduction method (e.g., lemmatization, stemming) \n",
    "# you will use you need to pick the corresponding column to create the bow array.\n",
    "\n",
    "# Lemmatized\n",
    "bow_array = vectorizer.fit_transform(df['norm_text_wlemma']).toarray()\n",
    "\n",
    "# Stemming\n",
    "#bow_array = vectorizer.fit_transform(df['norm_text_wstemming']).toarray()"
   ]
  },
  {
   "cell_type": "code",
   "execution_count": 52,
   "id": "9ef5ed2e",
   "metadata": {},
   "outputs": [
    {
     "name": "stdout",
     "output_type": "stream",
     "text": [
      "2918\n"
     ]
    },
    {
     "data": {
      "text/plain": [
       "array(['aaron', 'aaron finch', 'ab', ..., 'zero', 'zimbabwe', 'zone'],\n",
       "      dtype=object)"
      ]
     },
     "execution_count": 52,
     "metadata": {},
     "output_type": "execute_result"
    }
   ],
   "source": [
    "# Returns word vectors.\n",
    "features = vectorizer.get_feature_names_out()\n",
    "print(len(features))\n",
    "features"
   ]
  },
  {
   "cell_type": "code",
   "execution_count": 53,
   "id": "660dff07",
   "metadata": {},
   "outputs": [
    {
     "name": "stdout",
     "output_type": "stream",
     "text": [
      "(2692, 2918)\n"
     ]
    },
    {
     "data": {
      "text/html": [
       "<div>\n",
       "<style scoped>\n",
       "    .dataframe tbody tr th:only-of-type {\n",
       "        vertical-align: middle;\n",
       "    }\n",
       "\n",
       "    .dataframe tbody tr th {\n",
       "        vertical-align: top;\n",
       "    }\n",
       "\n",
       "    .dataframe thead th {\n",
       "        text-align: right;\n",
       "    }\n",
       "</style>\n",
       "<table border=\"1\" class=\"dataframe tex2jax_ignore\">\n",
       "  <thead>\n",
       "    <tr style=\"text-align: right;\">\n",
       "      <th></th>\n",
       "      <th>aaron</th>\n",
       "      <th>aaron finch</th>\n",
       "      <th>ab</th>\n",
       "      <th>ab de</th>\n",
       "      <th>abandon</th>\n",
       "      <th>ability</th>\n",
       "      <th>able</th>\n",
       "      <th>abroad</th>\n",
       "      <th>absence</th>\n",
       "      <th>abu</th>\n",
       "      <th>...</th>\n",
       "      <th>younis</th>\n",
       "      <th>younis khan</th>\n",
       "      <th>yuan</th>\n",
       "      <th>yuvraj</th>\n",
       "      <th>yuvraj singh</th>\n",
       "      <th>zalmi</th>\n",
       "      <th>zealand</th>\n",
       "      <th>zero</th>\n",
       "      <th>zimbabwe</th>\n",
       "      <th>zone</th>\n",
       "    </tr>\n",
       "  </thead>\n",
       "  <tbody>\n",
       "    <tr>\n",
       "      <th>2017</th>\n",
       "      <td>0.0</td>\n",
       "      <td>0.0</td>\n",
       "      <td>0.0</td>\n",
       "      <td>0.0</td>\n",
       "      <td>0.0</td>\n",
       "      <td>0.0</td>\n",
       "      <td>0.0</td>\n",
       "      <td>0.0</td>\n",
       "      <td>0.0</td>\n",
       "      <td>0.0</td>\n",
       "      <td>...</td>\n",
       "      <td>0.0</td>\n",
       "      <td>0.0</td>\n",
       "      <td>0.0</td>\n",
       "      <td>0.000000</td>\n",
       "      <td>0.000000</td>\n",
       "      <td>0.0</td>\n",
       "      <td>0.00000</td>\n",
       "      <td>0.0</td>\n",
       "      <td>0.276011</td>\n",
       "      <td>0.0</td>\n",
       "    </tr>\n",
       "    <tr>\n",
       "      <th>1546</th>\n",
       "      <td>0.0</td>\n",
       "      <td>0.0</td>\n",
       "      <td>0.0</td>\n",
       "      <td>0.0</td>\n",
       "      <td>0.0</td>\n",
       "      <td>0.0</td>\n",
       "      <td>0.0</td>\n",
       "      <td>0.0</td>\n",
       "      <td>0.0</td>\n",
       "      <td>0.0</td>\n",
       "      <td>...</td>\n",
       "      <td>0.0</td>\n",
       "      <td>0.0</td>\n",
       "      <td>0.0</td>\n",
       "      <td>0.000000</td>\n",
       "      <td>0.000000</td>\n",
       "      <td>0.0</td>\n",
       "      <td>0.31424</td>\n",
       "      <td>0.0</td>\n",
       "      <td>0.000000</td>\n",
       "      <td>0.0</td>\n",
       "    </tr>\n",
       "    <tr>\n",
       "      <th>283</th>\n",
       "      <td>0.0</td>\n",
       "      <td>0.0</td>\n",
       "      <td>0.0</td>\n",
       "      <td>0.0</td>\n",
       "      <td>0.0</td>\n",
       "      <td>0.0</td>\n",
       "      <td>0.0</td>\n",
       "      <td>0.0</td>\n",
       "      <td>0.0</td>\n",
       "      <td>0.0</td>\n",
       "      <td>...</td>\n",
       "      <td>0.0</td>\n",
       "      <td>0.0</td>\n",
       "      <td>0.0</td>\n",
       "      <td>0.000000</td>\n",
       "      <td>0.000000</td>\n",
       "      <td>0.0</td>\n",
       "      <td>0.00000</td>\n",
       "      <td>0.0</td>\n",
       "      <td>0.000000</td>\n",
       "      <td>0.0</td>\n",
       "    </tr>\n",
       "    <tr>\n",
       "      <th>324</th>\n",
       "      <td>0.0</td>\n",
       "      <td>0.0</td>\n",
       "      <td>0.0</td>\n",
       "      <td>0.0</td>\n",
       "      <td>0.0</td>\n",
       "      <td>0.0</td>\n",
       "      <td>0.0</td>\n",
       "      <td>0.0</td>\n",
       "      <td>0.0</td>\n",
       "      <td>0.0</td>\n",
       "      <td>...</td>\n",
       "      <td>0.0</td>\n",
       "      <td>0.0</td>\n",
       "      <td>0.0</td>\n",
       "      <td>0.000000</td>\n",
       "      <td>0.000000</td>\n",
       "      <td>0.0</td>\n",
       "      <td>0.00000</td>\n",
       "      <td>0.0</td>\n",
       "      <td>0.000000</td>\n",
       "      <td>0.0</td>\n",
       "    </tr>\n",
       "    <tr>\n",
       "      <th>932</th>\n",
       "      <td>0.0</td>\n",
       "      <td>0.0</td>\n",
       "      <td>0.0</td>\n",
       "      <td>0.0</td>\n",
       "      <td>0.0</td>\n",
       "      <td>0.0</td>\n",
       "      <td>0.0</td>\n",
       "      <td>0.0</td>\n",
       "      <td>0.0</td>\n",
       "      <td>0.0</td>\n",
       "      <td>...</td>\n",
       "      <td>0.0</td>\n",
       "      <td>0.0</td>\n",
       "      <td>0.0</td>\n",
       "      <td>0.000000</td>\n",
       "      <td>0.000000</td>\n",
       "      <td>0.0</td>\n",
       "      <td>0.00000</td>\n",
       "      <td>0.0</td>\n",
       "      <td>0.000000</td>\n",
       "      <td>0.0</td>\n",
       "    </tr>\n",
       "    <tr>\n",
       "      <th>896</th>\n",
       "      <td>0.0</td>\n",
       "      <td>0.0</td>\n",
       "      <td>0.0</td>\n",
       "      <td>0.0</td>\n",
       "      <td>0.0</td>\n",
       "      <td>0.0</td>\n",
       "      <td>0.0</td>\n",
       "      <td>0.0</td>\n",
       "      <td>0.0</td>\n",
       "      <td>0.0</td>\n",
       "      <td>...</td>\n",
       "      <td>0.0</td>\n",
       "      <td>0.0</td>\n",
       "      <td>0.0</td>\n",
       "      <td>0.000000</td>\n",
       "      <td>0.000000</td>\n",
       "      <td>0.0</td>\n",
       "      <td>0.00000</td>\n",
       "      <td>0.0</td>\n",
       "      <td>0.000000</td>\n",
       "      <td>0.0</td>\n",
       "    </tr>\n",
       "    <tr>\n",
       "      <th>1639</th>\n",
       "      <td>0.0</td>\n",
       "      <td>0.0</td>\n",
       "      <td>0.0</td>\n",
       "      <td>0.0</td>\n",
       "      <td>0.0</td>\n",
       "      <td>0.0</td>\n",
       "      <td>0.0</td>\n",
       "      <td>0.0</td>\n",
       "      <td>0.0</td>\n",
       "      <td>0.0</td>\n",
       "      <td>...</td>\n",
       "      <td>0.0</td>\n",
       "      <td>0.0</td>\n",
       "      <td>0.0</td>\n",
       "      <td>0.000000</td>\n",
       "      <td>0.000000</td>\n",
       "      <td>0.0</td>\n",
       "      <td>0.00000</td>\n",
       "      <td>0.0</td>\n",
       "      <td>0.000000</td>\n",
       "      <td>0.0</td>\n",
       "    </tr>\n",
       "    <tr>\n",
       "      <th>2453</th>\n",
       "      <td>0.0</td>\n",
       "      <td>0.0</td>\n",
       "      <td>0.0</td>\n",
       "      <td>0.0</td>\n",
       "      <td>0.0</td>\n",
       "      <td>0.0</td>\n",
       "      <td>0.0</td>\n",
       "      <td>0.0</td>\n",
       "      <td>0.0</td>\n",
       "      <td>0.0</td>\n",
       "      <td>...</td>\n",
       "      <td>0.0</td>\n",
       "      <td>0.0</td>\n",
       "      <td>0.0</td>\n",
       "      <td>0.000000</td>\n",
       "      <td>0.000000</td>\n",
       "      <td>0.0</td>\n",
       "      <td>0.00000</td>\n",
       "      <td>0.0</td>\n",
       "      <td>0.000000</td>\n",
       "      <td>0.0</td>\n",
       "    </tr>\n",
       "    <tr>\n",
       "      <th>20</th>\n",
       "      <td>0.0</td>\n",
       "      <td>0.0</td>\n",
       "      <td>0.0</td>\n",
       "      <td>0.0</td>\n",
       "      <td>0.0</td>\n",
       "      <td>0.0</td>\n",
       "      <td>0.0</td>\n",
       "      <td>0.0</td>\n",
       "      <td>0.0</td>\n",
       "      <td>0.0</td>\n",
       "      <td>...</td>\n",
       "      <td>0.0</td>\n",
       "      <td>0.0</td>\n",
       "      <td>0.0</td>\n",
       "      <td>0.000000</td>\n",
       "      <td>0.000000</td>\n",
       "      <td>0.0</td>\n",
       "      <td>0.00000</td>\n",
       "      <td>0.0</td>\n",
       "      <td>0.000000</td>\n",
       "      <td>0.0</td>\n",
       "    </tr>\n",
       "    <tr>\n",
       "      <th>1928</th>\n",
       "      <td>0.0</td>\n",
       "      <td>0.0</td>\n",
       "      <td>0.0</td>\n",
       "      <td>0.0</td>\n",
       "      <td>0.0</td>\n",
       "      <td>0.0</td>\n",
       "      <td>0.0</td>\n",
       "      <td>0.0</td>\n",
       "      <td>0.0</td>\n",
       "      <td>0.0</td>\n",
       "      <td>...</td>\n",
       "      <td>0.0</td>\n",
       "      <td>0.0</td>\n",
       "      <td>0.0</td>\n",
       "      <td>0.000000</td>\n",
       "      <td>0.000000</td>\n",
       "      <td>0.0</td>\n",
       "      <td>0.00000</td>\n",
       "      <td>0.0</td>\n",
       "      <td>0.000000</td>\n",
       "      <td>0.0</td>\n",
       "    </tr>\n",
       "    <tr>\n",
       "      <th>2098</th>\n",
       "      <td>0.0</td>\n",
       "      <td>0.0</td>\n",
       "      <td>0.0</td>\n",
       "      <td>0.0</td>\n",
       "      <td>0.0</td>\n",
       "      <td>0.0</td>\n",
       "      <td>0.0</td>\n",
       "      <td>0.0</td>\n",
       "      <td>0.0</td>\n",
       "      <td>0.0</td>\n",
       "      <td>...</td>\n",
       "      <td>0.0</td>\n",
       "      <td>0.0</td>\n",
       "      <td>0.0</td>\n",
       "      <td>0.000000</td>\n",
       "      <td>0.000000</td>\n",
       "      <td>0.0</td>\n",
       "      <td>0.00000</td>\n",
       "      <td>0.0</td>\n",
       "      <td>0.000000</td>\n",
       "      <td>0.0</td>\n",
       "    </tr>\n",
       "    <tr>\n",
       "      <th>982</th>\n",
       "      <td>0.0</td>\n",
       "      <td>0.0</td>\n",
       "      <td>0.0</td>\n",
       "      <td>0.0</td>\n",
       "      <td>0.0</td>\n",
       "      <td>0.0</td>\n",
       "      <td>0.0</td>\n",
       "      <td>0.0</td>\n",
       "      <td>0.0</td>\n",
       "      <td>0.0</td>\n",
       "      <td>...</td>\n",
       "      <td>0.0</td>\n",
       "      <td>0.0</td>\n",
       "      <td>0.0</td>\n",
       "      <td>0.000000</td>\n",
       "      <td>0.000000</td>\n",
       "      <td>0.0</td>\n",
       "      <td>0.00000</td>\n",
       "      <td>0.0</td>\n",
       "      <td>0.000000</td>\n",
       "      <td>0.0</td>\n",
       "    </tr>\n",
       "    <tr>\n",
       "      <th>329</th>\n",
       "      <td>0.0</td>\n",
       "      <td>0.0</td>\n",
       "      <td>0.0</td>\n",
       "      <td>0.0</td>\n",
       "      <td>0.0</td>\n",
       "      <td>0.0</td>\n",
       "      <td>0.0</td>\n",
       "      <td>0.0</td>\n",
       "      <td>0.0</td>\n",
       "      <td>0.0</td>\n",
       "      <td>...</td>\n",
       "      <td>0.0</td>\n",
       "      <td>0.0</td>\n",
       "      <td>0.0</td>\n",
       "      <td>0.000000</td>\n",
       "      <td>0.000000</td>\n",
       "      <td>0.0</td>\n",
       "      <td>0.00000</td>\n",
       "      <td>0.0</td>\n",
       "      <td>0.000000</td>\n",
       "      <td>0.0</td>\n",
       "    </tr>\n",
       "    <tr>\n",
       "      <th>298</th>\n",
       "      <td>0.0</td>\n",
       "      <td>0.0</td>\n",
       "      <td>0.0</td>\n",
       "      <td>0.0</td>\n",
       "      <td>0.0</td>\n",
       "      <td>0.0</td>\n",
       "      <td>0.0</td>\n",
       "      <td>0.0</td>\n",
       "      <td>0.0</td>\n",
       "      <td>0.0</td>\n",
       "      <td>...</td>\n",
       "      <td>0.0</td>\n",
       "      <td>0.0</td>\n",
       "      <td>0.0</td>\n",
       "      <td>0.000000</td>\n",
       "      <td>0.000000</td>\n",
       "      <td>0.0</td>\n",
       "      <td>0.00000</td>\n",
       "      <td>0.0</td>\n",
       "      <td>0.000000</td>\n",
       "      <td>0.0</td>\n",
       "    </tr>\n",
       "    <tr>\n",
       "      <th>812</th>\n",
       "      <td>0.0</td>\n",
       "      <td>0.0</td>\n",
       "      <td>0.0</td>\n",
       "      <td>0.0</td>\n",
       "      <td>0.0</td>\n",
       "      <td>0.0</td>\n",
       "      <td>0.0</td>\n",
       "      <td>0.0</td>\n",
       "      <td>0.0</td>\n",
       "      <td>0.0</td>\n",
       "      <td>...</td>\n",
       "      <td>0.0</td>\n",
       "      <td>0.0</td>\n",
       "      <td>0.0</td>\n",
       "      <td>0.000000</td>\n",
       "      <td>0.000000</td>\n",
       "      <td>0.0</td>\n",
       "      <td>0.00000</td>\n",
       "      <td>0.0</td>\n",
       "      <td>0.000000</td>\n",
       "      <td>0.0</td>\n",
       "    </tr>\n",
       "    <tr>\n",
       "      <th>409</th>\n",
       "      <td>0.0</td>\n",
       "      <td>0.0</td>\n",
       "      <td>0.0</td>\n",
       "      <td>0.0</td>\n",
       "      <td>0.0</td>\n",
       "      <td>0.0</td>\n",
       "      <td>0.0</td>\n",
       "      <td>0.0</td>\n",
       "      <td>0.0</td>\n",
       "      <td>0.0</td>\n",
       "      <td>...</td>\n",
       "      <td>0.0</td>\n",
       "      <td>0.0</td>\n",
       "      <td>0.0</td>\n",
       "      <td>0.000000</td>\n",
       "      <td>0.000000</td>\n",
       "      <td>0.0</td>\n",
       "      <td>0.00000</td>\n",
       "      <td>0.0</td>\n",
       "      <td>0.000000</td>\n",
       "      <td>0.0</td>\n",
       "    </tr>\n",
       "    <tr>\n",
       "      <th>1845</th>\n",
       "      <td>0.0</td>\n",
       "      <td>0.0</td>\n",
       "      <td>0.0</td>\n",
       "      <td>0.0</td>\n",
       "      <td>0.0</td>\n",
       "      <td>0.0</td>\n",
       "      <td>0.0</td>\n",
       "      <td>0.0</td>\n",
       "      <td>0.0</td>\n",
       "      <td>0.0</td>\n",
       "      <td>...</td>\n",
       "      <td>0.0</td>\n",
       "      <td>0.0</td>\n",
       "      <td>0.0</td>\n",
       "      <td>0.000000</td>\n",
       "      <td>0.000000</td>\n",
       "      <td>0.0</td>\n",
       "      <td>0.00000</td>\n",
       "      <td>0.0</td>\n",
       "      <td>0.000000</td>\n",
       "      <td>0.0</td>\n",
       "    </tr>\n",
       "    <tr>\n",
       "      <th>1985</th>\n",
       "      <td>0.0</td>\n",
       "      <td>0.0</td>\n",
       "      <td>0.0</td>\n",
       "      <td>0.0</td>\n",
       "      <td>0.0</td>\n",
       "      <td>0.0</td>\n",
       "      <td>0.0</td>\n",
       "      <td>0.0</td>\n",
       "      <td>0.0</td>\n",
       "      <td>0.0</td>\n",
       "      <td>...</td>\n",
       "      <td>0.0</td>\n",
       "      <td>0.0</td>\n",
       "      <td>0.0</td>\n",
       "      <td>0.000000</td>\n",
       "      <td>0.000000</td>\n",
       "      <td>0.0</td>\n",
       "      <td>0.00000</td>\n",
       "      <td>0.0</td>\n",
       "      <td>0.000000</td>\n",
       "      <td>0.0</td>\n",
       "    </tr>\n",
       "    <tr>\n",
       "      <th>1064</th>\n",
       "      <td>0.0</td>\n",
       "      <td>0.0</td>\n",
       "      <td>0.0</td>\n",
       "      <td>0.0</td>\n",
       "      <td>0.0</td>\n",
       "      <td>0.0</td>\n",
       "      <td>0.0</td>\n",
       "      <td>0.0</td>\n",
       "      <td>0.0</td>\n",
       "      <td>0.0</td>\n",
       "      <td>...</td>\n",
       "      <td>0.0</td>\n",
       "      <td>0.0</td>\n",
       "      <td>0.0</td>\n",
       "      <td>0.000000</td>\n",
       "      <td>0.000000</td>\n",
       "      <td>0.0</td>\n",
       "      <td>0.00000</td>\n",
       "      <td>0.0</td>\n",
       "      <td>0.000000</td>\n",
       "      <td>0.0</td>\n",
       "    </tr>\n",
       "    <tr>\n",
       "      <th>1341</th>\n",
       "      <td>0.0</td>\n",
       "      <td>0.0</td>\n",
       "      <td>0.0</td>\n",
       "      <td>0.0</td>\n",
       "      <td>0.0</td>\n",
       "      <td>0.0</td>\n",
       "      <td>0.0</td>\n",
       "      <td>0.0</td>\n",
       "      <td>0.0</td>\n",
       "      <td>0.0</td>\n",
       "      <td>...</td>\n",
       "      <td>0.0</td>\n",
       "      <td>0.0</td>\n",
       "      <td>0.0</td>\n",
       "      <td>0.131688</td>\n",
       "      <td>0.132386</td>\n",
       "      <td>0.0</td>\n",
       "      <td>0.00000</td>\n",
       "      <td>0.0</td>\n",
       "      <td>0.000000</td>\n",
       "      <td>0.0</td>\n",
       "    </tr>\n",
       "  </tbody>\n",
       "</table>\n",
       "<p>20 rows × 2918 columns</p>\n",
       "</div>"
      ],
      "text/plain": [
       "      aaron  aaron finch   ab  ab de  abandon  ability  able  abroad  absence  \\\n",
       "2017    0.0          0.0  0.0    0.0      0.0      0.0   0.0     0.0      0.0   \n",
       "1546    0.0          0.0  0.0    0.0      0.0      0.0   0.0     0.0      0.0   \n",
       "283     0.0          0.0  0.0    0.0      0.0      0.0   0.0     0.0      0.0   \n",
       "324     0.0          0.0  0.0    0.0      0.0      0.0   0.0     0.0      0.0   \n",
       "932     0.0          0.0  0.0    0.0      0.0      0.0   0.0     0.0      0.0   \n",
       "896     0.0          0.0  0.0    0.0      0.0      0.0   0.0     0.0      0.0   \n",
       "1639    0.0          0.0  0.0    0.0      0.0      0.0   0.0     0.0      0.0   \n",
       "2453    0.0          0.0  0.0    0.0      0.0      0.0   0.0     0.0      0.0   \n",
       "20      0.0          0.0  0.0    0.0      0.0      0.0   0.0     0.0      0.0   \n",
       "1928    0.0          0.0  0.0    0.0      0.0      0.0   0.0     0.0      0.0   \n",
       "2098    0.0          0.0  0.0    0.0      0.0      0.0   0.0     0.0      0.0   \n",
       "982     0.0          0.0  0.0    0.0      0.0      0.0   0.0     0.0      0.0   \n",
       "329     0.0          0.0  0.0    0.0      0.0      0.0   0.0     0.0      0.0   \n",
       "298     0.0          0.0  0.0    0.0      0.0      0.0   0.0     0.0      0.0   \n",
       "812     0.0          0.0  0.0    0.0      0.0      0.0   0.0     0.0      0.0   \n",
       "409     0.0          0.0  0.0    0.0      0.0      0.0   0.0     0.0      0.0   \n",
       "1845    0.0          0.0  0.0    0.0      0.0      0.0   0.0     0.0      0.0   \n",
       "1985    0.0          0.0  0.0    0.0      0.0      0.0   0.0     0.0      0.0   \n",
       "1064    0.0          0.0  0.0    0.0      0.0      0.0   0.0     0.0      0.0   \n",
       "1341    0.0          0.0  0.0    0.0      0.0      0.0   0.0     0.0      0.0   \n",
       "\n",
       "      abu  ...  younis  younis khan  yuan    yuvraj  yuvraj singh  zalmi  \\\n",
       "2017  0.0  ...     0.0          0.0   0.0  0.000000      0.000000    0.0   \n",
       "1546  0.0  ...     0.0          0.0   0.0  0.000000      0.000000    0.0   \n",
       "283   0.0  ...     0.0          0.0   0.0  0.000000      0.000000    0.0   \n",
       "324   0.0  ...     0.0          0.0   0.0  0.000000      0.000000    0.0   \n",
       "932   0.0  ...     0.0          0.0   0.0  0.000000      0.000000    0.0   \n",
       "896   0.0  ...     0.0          0.0   0.0  0.000000      0.000000    0.0   \n",
       "1639  0.0  ...     0.0          0.0   0.0  0.000000      0.000000    0.0   \n",
       "2453  0.0  ...     0.0          0.0   0.0  0.000000      0.000000    0.0   \n",
       "20    0.0  ...     0.0          0.0   0.0  0.000000      0.000000    0.0   \n",
       "1928  0.0  ...     0.0          0.0   0.0  0.000000      0.000000    0.0   \n",
       "2098  0.0  ...     0.0          0.0   0.0  0.000000      0.000000    0.0   \n",
       "982   0.0  ...     0.0          0.0   0.0  0.000000      0.000000    0.0   \n",
       "329   0.0  ...     0.0          0.0   0.0  0.000000      0.000000    0.0   \n",
       "298   0.0  ...     0.0          0.0   0.0  0.000000      0.000000    0.0   \n",
       "812   0.0  ...     0.0          0.0   0.0  0.000000      0.000000    0.0   \n",
       "409   0.0  ...     0.0          0.0   0.0  0.000000      0.000000    0.0   \n",
       "1845  0.0  ...     0.0          0.0   0.0  0.000000      0.000000    0.0   \n",
       "1985  0.0  ...     0.0          0.0   0.0  0.000000      0.000000    0.0   \n",
       "1064  0.0  ...     0.0          0.0   0.0  0.000000      0.000000    0.0   \n",
       "1341  0.0  ...     0.0          0.0   0.0  0.131688      0.132386    0.0   \n",
       "\n",
       "      zealand  zero  zimbabwe  zone  \n",
       "2017  0.00000   0.0  0.276011   0.0  \n",
       "1546  0.31424   0.0  0.000000   0.0  \n",
       "283   0.00000   0.0  0.000000   0.0  \n",
       "324   0.00000   0.0  0.000000   0.0  \n",
       "932   0.00000   0.0  0.000000   0.0  \n",
       "896   0.00000   0.0  0.000000   0.0  \n",
       "1639  0.00000   0.0  0.000000   0.0  \n",
       "2453  0.00000   0.0  0.000000   0.0  \n",
       "20    0.00000   0.0  0.000000   0.0  \n",
       "1928  0.00000   0.0  0.000000   0.0  \n",
       "2098  0.00000   0.0  0.000000   0.0  \n",
       "982   0.00000   0.0  0.000000   0.0  \n",
       "329   0.00000   0.0  0.000000   0.0  \n",
       "298   0.00000   0.0  0.000000   0.0  \n",
       "812   0.00000   0.0  0.000000   0.0  \n",
       "409   0.00000   0.0  0.000000   0.0  \n",
       "1845  0.00000   0.0  0.000000   0.0  \n",
       "1985  0.00000   0.0  0.000000   0.0  \n",
       "1064  0.00000   0.0  0.000000   0.0  \n",
       "1341  0.00000   0.0  0.000000   0.0  \n",
       "\n",
       "[20 rows x 2918 columns]"
      ]
     },
     "execution_count": 53,
     "metadata": {},
     "output_type": "execute_result"
    }
   ],
   "source": [
    "# Combining the bow_array with the tokens.\n",
    "# Note that the total number of ccolumns is the number of tokens or dimensions we have.\n",
    "# Note that there are some 1-grams (token composed of 1 word) and 2-grams (token composed of 2 words).\n",
    "df_bow = pd.DataFrame(bow_array, columns = features)\n",
    "print(df_bow.shape)\n",
    "df_bow.sample(20)\n",
    "\n",
    "# Note that the following increases the matrix size: changing the ngram to more than two, increasing the max_df and reducing the min_df,\n",
    "# Vice-versa is also true."
   ]
  },
  {
   "cell_type": "code",
   "execution_count": 54,
   "id": "5bae78b4",
   "metadata": {},
   "outputs": [],
   "source": [
    "# Let's exprot this dataframe which we will use in other examples.\n",
    "df_bow.to_csv(r'.\\output_data\\df_bow.csv', encoding='utf-8-sig', \n",
    "              index = False, \n",
    "              header = True)"
   ]
  },
  {
   "cell_type": "markdown",
   "id": "0a191275",
   "metadata": {},
   "source": [
    "Few things to note on the above BoW matrix dataframe:\n",
    "- Each row represents the tokens for the corresponding row and text in the source dataframe.\n",
    "- The size of the matrix and number of tokens depends on several factors:\n",
    "    - Size of unstructured data being transformed (e.g., text corpus)\n",
    "    - TFIDF vectorizer parameters: stopwords, ngrams, max_df and min_df.\n",
    "- Stemming is faster but the resulting tokens are not necessarily readable.\n",
    "- Lemmatization is slower but the resulting tokens will be readable.\n",
    "- Each token in the matrix is a dimension for a record.\n",
    "\n",
    "The df_bow dataframe can be merged with the df based on index. Note that if the df was filtered and the index was not reset, the df_bow and the df will not align.\n",
    "\n",
    "Once the df_bow is created the vectors for each token can be used for various tasks including but not limited to classification, clustering, similarity ranking, and other tasks or insights that may require having numeric data such as calculating statistics for specific words. Further notebooks will show how this can be performed."
   ]
  },
  {
   "cell_type": "code",
   "execution_count": 55,
   "id": "e687598a",
   "metadata": {
    "scrolled": true
   },
   "outputs": [],
   "source": [
    "# This code here combines both the df and df_bow in one dataframe.\n",
    "df_with_bow = pd.concat([df, df_bow], axis=1)"
   ]
  },
  {
   "cell_type": "code",
   "execution_count": 56,
   "id": "f28dfe97-8cc1-4f7f-948b-42d572780b0d",
   "metadata": {},
   "outputs": [
    {
     "name": "stdout",
     "output_type": "stream",
     "text": [
      "(2692, 6)\n",
      "(2692, 2918)\n",
      "(2692, 2924)\n"
     ]
    }
   ],
   "source": [
    "print(df.shape)\n",
    "print(df_bow.shape)\n",
    "print(df_with_bow.shape)"
   ]
  },
  {
   "cell_type": "markdown",
   "id": "25ab00f9",
   "metadata": {},
   "source": [
    "# References\n",
    "[Return to Table of Contents](#Table-of-Contents)\n",
    "\n",
    "Guide for dealing with text data predictive in Python: https://www.analyticsvidhya.com/blog/2018/02/the-different-methods-deal-text-data-predictive-python/\n",
    "\n",
    "Lemmatization and Stemming\n",
    "- https://www.machinelearningplus.com/nlp/lemmatization-examples-python/\n",
    "- https://www.analyticsvidhya.com/blog/2022/06/stemming-vs-lemmatization-in-nlp-must-know-differences/\n",
    "- https://212digital.medium.com/what-is-lemmatization-and-stemming-in-nlp-e25e142332c4"
   ]
  },
  {
   "cell_type": "markdown",
   "id": "34feaf5e",
   "metadata": {},
   "source": [
    "# NOTEBOOK END"
   ]
  },
  {
   "cell_type": "code",
   "execution_count": null,
   "id": "ba56dd3a",
   "metadata": {},
   "outputs": [],
   "source": []
  },
  {
   "cell_type": "code",
   "execution_count": null,
   "id": "0b07e3af",
   "metadata": {},
   "outputs": [],
   "source": []
  },
  {
   "cell_type": "code",
   "execution_count": null,
   "id": "684f844e",
   "metadata": {},
   "outputs": [],
   "source": []
  }
 ],
 "metadata": {
  "kernelspec": {
   "display_name": "Python 3 (ipykernel)",
   "language": "python",
   "name": "python3"
  },
  "language_info": {
   "codemirror_mode": {
    "name": "ipython",
    "version": 3
   },
   "file_extension": ".py",
   "mimetype": "text/x-python",
   "name": "python",
   "nbconvert_exporter": "python",
   "pygments_lexer": "ipython3",
   "version": "3.12.4"
  }
 },
 "nbformat": 4,
 "nbformat_minor": 5
}
