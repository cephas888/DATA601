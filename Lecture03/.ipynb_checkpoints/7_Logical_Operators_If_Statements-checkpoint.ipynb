{
 "cells": [
  {
   "cell_type": "markdown",
   "id": "88cdace8",
   "metadata": {},
   "source": [
    "<div class=\"alert alert-block alert-info\">\n",
    "Author:<br>Felix Gonzalez, P.E. <br> Adjunct Instructor, <br> Division of Professional Studies <br> Computer Science and Electrical Engineering <br> University of Maryland Baltimore County <br> fgonzale@umbc.edu\n",
    "</div>"
   ]
  },
  {
   "cell_type": "markdown",
   "id": "49c8cabf",
   "metadata": {},
   "source": [
    "This notebook provides an overview of  logical operators (e.g., ==, !=, <=, >=, etc.) and if statements (also called conditional statements) within Python code. The if statements are also part of the compound statements of which for and while loops are also part of and will be discussed in the next set of notebooks. This notebook also provides examples on the use and outputs and when to use them including with strings and numerical data.\n",
    "\n",
    "Python has various logical operators that allow to compare variables, numbers, classes. These include but is not limited to AND (&), OR (|), NOT (using ~), ==, <, >, =<, =>, !=, among many others. \n",
    "\n",
    "Documentation References:\n",
    "- https://docs.python.org/3/reference/compound_stmts.html\n",
    "- https://docs.python.org/3/tutorial/controlflow.html\n",
    "- https://docs.python.org/3/reference/expressions.html#value-comparisons\n",
    "- https://docs.python.org/3/reference/expressions.html#boolean-operations\n",
    "- https://docs.python.org/3/tutorial/controlflow.html#if-statements"
   ]
  },
  {
   "cell_type": "markdown",
   "id": "3b52914c",
   "metadata": {},
   "source": [
    "# Table of Contents\n",
    "[Logical Operators](#Logical-Operators)\n",
    "\n",
    "[Logical Operator: Examples with Numerical Data](#Logical-Operator:-Examples-with-Numerical-Data)\n",
    "\n",
    "[Logical Operator: Examples with Text Data](#Logical-Operator:-Examples-with-Text-Data)\n",
    "\n",
    "[Logical Operator: Examples with Numerical and Text Data Comparisons](#Logical-Operator:-Examples-with-Numerical-and-Text-Data-Comparisons)\n",
    "\n",
    "[Logical Operator: Multiple Conditions](#Logical-Operator:-Multiple-Conditions)\n",
    "\n",
    "[Logical Operator: SPECIAL NOTE ON BITWISE OPERATORS](#Logical-Operator:-SPECIAL-NOTE-ON-BITWISE-OPERATORS)\n",
    "\n",
    "[If Statements](#If-Statements)\n",
    "\n",
    "[If Statements: IfElse Statement](#If-Statements:-IfElse-Statement)\n",
    "\n",
    "[If Statements: IfElse Statements Nested](#If-Statements:-IfElse-Statements-Nested)\n",
    "\n",
    "[If Statements: if-elif-else example](#If-Statements:-if-elif-else-example)\n",
    "\n",
    "[Bonus/Extra](#Bonus/Extra) Check the defined variables and size in memory."
   ]
  },
  {
   "cell_type": "markdown",
   "id": "e1e324e8",
   "metadata": {},
   "source": [
    "# Logical Operators\n",
    "[Return to Table of Contents](#Table-of-Contents)\n",
    "\n",
    "The logical operators used in Python for value comparisons include those in the table below. This section will provide examples on using logical operators with numerical and text data as well as discussing special cases.\n",
    "\n",
    "Logical Operator | Description\n",
    "--- | ---\n",
    "<b><</b> | less than\n",
    "<b><=</b> | less than or equal to\n",
    "<b>></b> | greater than\n",
    "<b>>=</b> | greater than or equal to\n",
    "<b>==</b> | equal\n",
    "<b>!=</b> | not equal\n",
    "<b>and</b> | both must be true\n",
    "<b>or</b> | one or both must be true\n",
    "<b>not</b> | reverses the truth value  \n",
    "\n",
    "Note that Python can also use \"bitwise\" operators <b>and</b> vs <b>&</b>; <b>or</b> vs <b>|</b>. The and/or are boolean logical operators, usually used on boolean values. Bitwise operators are usually used on integer values and perform bit-by-bit operations.\n",
    "    \n",
    "Documentation References:\n",
    "- https://docs.python.org/3/reference/expressions.html#value-comparisons\n",
    "- https://docs.python.org/3/reference/expressions.html#boolean-operations\n",
    "- https://docs.python.org/3/reference/expressions.html#binary-bitwise-operations"
   ]
  },
  {
   "cell_type": "code",
   "execution_count": 1,
   "id": "36cd38a3",
   "metadata": {},
   "outputs": [],
   "source": [
    "# Given the following variables.\n",
    "variable_1 = 5\n",
    "variable_2 = 5\n",
    "variable_3 = 8\n",
    "variable_4 = 8.0\n",
    "string_1 = 'UMBC'\n",
    "string_2 = 'umbc'\n",
    "string_3 = 'USG'\n",
    "string_4 = '5'"
   ]
  },
  {
   "cell_type": "markdown",
   "id": "3d107ef3",
   "metadata": {},
   "source": [
    "### Logical Operator: Examples with Numerical Data\n",
    "[Return to Table of Contents](#Table-of-Contents)"
   ]
  },
  {
   "cell_type": "code",
   "execution_count": 2,
   "id": "3f0c2bf1",
   "metadata": {},
   "outputs": [
    {
     "data": {
      "text/plain": [
       "True"
      ]
     },
     "execution_count": 2,
     "metadata": {},
     "output_type": "execute_result"
    }
   ],
   "source": [
    "variable_1 == variable_2"
   ]
  },
  {
   "cell_type": "code",
   "execution_count": 3,
   "id": "ff558b61",
   "metadata": {},
   "outputs": [
    {
     "data": {
      "text/plain": [
       "False"
      ]
     },
     "execution_count": 3,
     "metadata": {},
     "output_type": "execute_result"
    }
   ],
   "source": [
    "variable_1 != variable_2"
   ]
  },
  {
   "cell_type": "code",
   "execution_count": 4,
   "id": "679c8fbf",
   "metadata": {},
   "outputs": [
    {
     "data": {
      "text/plain": [
       "False"
      ]
     },
     "execution_count": 4,
     "metadata": {},
     "output_type": "execute_result"
    }
   ],
   "source": [
    "variable_1 == variable_3"
   ]
  },
  {
   "cell_type": "code",
   "execution_count": 5,
   "id": "579519ef",
   "metadata": {},
   "outputs": [
    {
     "data": {
      "text/plain": [
       "True"
      ]
     },
     "execution_count": 5,
     "metadata": {},
     "output_type": "execute_result"
    }
   ],
   "source": [
    "variable_1 <= variable_3"
   ]
  },
  {
   "cell_type": "code",
   "execution_count": 6,
   "id": "4829c2c6",
   "metadata": {},
   "outputs": [
    {
     "data": {
      "text/plain": [
       "True"
      ]
     },
     "execution_count": 6,
     "metadata": {},
     "output_type": "execute_result"
    }
   ],
   "source": [
    "variable_1 < variable_3"
   ]
  },
  {
   "cell_type": "code",
   "execution_count": 7,
   "id": "d013e7f3",
   "metadata": {},
   "outputs": [
    {
     "data": {
      "text/plain": [
       "False"
      ]
     },
     "execution_count": 7,
     "metadata": {},
     "output_type": "execute_result"
    }
   ],
   "source": [
    "variable_1 < variable_2"
   ]
  },
  {
   "cell_type": "code",
   "execution_count": 8,
   "id": "3f112f84",
   "metadata": {},
   "outputs": [
    {
     "data": {
      "text/plain": [
       "True"
      ]
     },
     "execution_count": 8,
     "metadata": {},
     "output_type": "execute_result"
    }
   ],
   "source": [
    "# Integers and floats as long as they are the same number will return True.\n",
    "int(variable_3) == float(variable_4)"
   ]
  },
  {
   "cell_type": "code",
   "execution_count": 9,
   "id": "8e72cc1b",
   "metadata": {},
   "outputs": [
    {
     "data": {
      "text/plain": [
       "True"
      ]
     },
     "execution_count": 9,
     "metadata": {},
     "output_type": "execute_result"
    }
   ],
   "source": [
    "variable_1 > 2"
   ]
  },
  {
   "cell_type": "code",
   "execution_count": 10,
   "id": "385d5303",
   "metadata": {},
   "outputs": [
    {
     "data": {
      "text/plain": [
       "False"
      ]
     },
     "execution_count": 10,
     "metadata": {},
     "output_type": "execute_result"
    }
   ],
   "source": [
    "# Using the \"not\" results in the oposite.\n",
    "not variable_1 > 2"
   ]
  },
  {
   "cell_type": "markdown",
   "id": "717a0a28",
   "metadata": {},
   "source": [
    "### Logical Operator: Examples with Text Data\n",
    "[Return to Table of Contents](#Table-of-Contents)"
   ]
  },
  {
   "cell_type": "code",
   "execution_count": 11,
   "id": "69a0edb8",
   "metadata": {},
   "outputs": [
    {
     "data": {
      "text/plain": [
       "False"
      ]
     },
     "execution_count": 11,
     "metadata": {},
     "output_type": "execute_result"
    }
   ],
   "source": [
    "# Recall that text in Python language is case sensitive.\n",
    "string_1 == string_2"
   ]
  },
  {
   "cell_type": "code",
   "execution_count": 12,
   "id": "e5704bcf",
   "metadata": {},
   "outputs": [
    {
     "data": {
      "text/plain": [
       "True"
      ]
     },
     "execution_count": 12,
     "metadata": {},
     "output_type": "execute_result"
    }
   ],
   "source": [
    "# To make sure case is not an issue, convert both strings to lower (or upper) case when comparing. \n",
    "string_1.lower() == string_2.lower()"
   ]
  },
  {
   "cell_type": "code",
   "execution_count": 13,
   "id": "7944fae9",
   "metadata": {},
   "outputs": [
    {
     "data": {
      "text/plain": [
       "True"
      ]
     },
     "execution_count": 13,
     "metadata": {},
     "output_type": "execute_result"
    }
   ],
   "source": [
    "# Recall that text in Python language is case sensitive.\n",
    "string_1 != string_3"
   ]
  },
  {
   "cell_type": "code",
   "execution_count": 14,
   "id": "2461dcbd",
   "metadata": {},
   "outputs": [
    {
     "data": {
      "text/plain": [
       "True"
      ]
     },
     "execution_count": 14,
     "metadata": {},
     "output_type": "execute_result"
    }
   ],
   "source": [
    "# Some comparison operators may return a output but not necessarily be logical.\n",
    "string_1 < string_3\n",
    "# In this case it may be comparing the unicode values."
   ]
  },
  {
   "cell_type": "markdown",
   "id": "976c7978",
   "metadata": {},
   "source": [
    "### Logical Operator: Examples with Numerical and Text Data Comparisons\n",
    "[Return to Table of Contents](#Table-of-Contents)"
   ]
  },
  {
   "cell_type": "code",
   "execution_count": 15,
   "id": "e0a5f156",
   "metadata": {},
   "outputs": [
    {
     "data": {
      "text/plain": [
       "False"
      ]
     },
     "execution_count": 15,
     "metadata": {},
     "output_type": "execute_result"
    }
   ],
   "source": [
    "# The operator can compare both numerical and text data. \n",
    "variable_1 == string_3"
   ]
  },
  {
   "cell_type": "code",
   "execution_count": 16,
   "id": "22ebb39b",
   "metadata": {},
   "outputs": [
    {
     "ename": "ValueError",
     "evalue": "invalid literal for int() with base 10: 'USG'",
     "output_type": "error",
     "traceback": [
      "\u001b[1;31m---------------------------------------------------------------------------\u001b[0m",
      "\u001b[1;31mValueError\u001b[0m                                Traceback (most recent call last)",
      "Cell \u001b[1;32mIn[16], line 2\u001b[0m\n\u001b[0;32m      1\u001b[0m \u001b[38;5;66;03m# Because strings can't be converted to an intenger and it returns a value error.\u001b[39;00m\n\u001b[1;32m----> 2\u001b[0m variable_1 \u001b[38;5;241m==\u001b[39m \u001b[38;5;28mint\u001b[39m(string_3)\n",
      "\u001b[1;31mValueError\u001b[0m: invalid literal for int() with base 10: 'USG'"
     ]
    }
   ],
   "source": [
    "# Because strings can't be converted to an intenger and it returns a value error.\n",
    "variable_1 == int(string_3) "
   ]
  },
  {
   "cell_type": "code",
   "execution_count": 18,
   "id": "c4b62847",
   "metadata": {},
   "outputs": [
    {
     "data": {
      "text/plain": [
       "False"
      ]
     },
     "execution_count": 18,
     "metadata": {},
     "output_type": "execute_result"
    }
   ],
   "source": [
    "# Because one is a numerical value the other is a string value the output is false.\n",
    "variable_1 == string_4 "
   ]
  },
  {
   "cell_type": "code",
   "execution_count": 19,
   "id": "f3df7e73",
   "metadata": {},
   "outputs": [
    {
     "data": {
      "text/plain": [
       "True"
      ]
     },
     "execution_count": 19,
     "metadata": {},
     "output_type": "execute_result"
    }
   ],
   "source": [
    "# However, String_4 can be converted from a string to an integer and the comparison works.\n",
    "variable_1 == int(string_4) "
   ]
  },
  {
   "cell_type": "markdown",
   "id": "7a656245",
   "metadata": {},
   "source": [
    "### Logical Operator: Multiple Conditions\n",
    "[Return to Table of Contents](#Table-of-Contents)"
   ]
  },
  {
   "cell_type": "code",
   "execution_count": 20,
   "id": "fd3c74c0",
   "metadata": {},
   "outputs": [
    {
     "data": {
      "text/plain": [
       "True"
      ]
     },
     "execution_count": 20,
     "metadata": {},
     "output_type": "execute_result"
    }
   ],
   "source": [
    "variable_1 > 2 and variable_3 < 20"
   ]
  },
  {
   "cell_type": "code",
   "execution_count": 21,
   "id": "1f8a5f45",
   "metadata": {},
   "outputs": [
    {
     "data": {
      "text/plain": [
       "False"
      ]
     },
     "execution_count": 21,
     "metadata": {},
     "output_type": "execute_result"
    }
   ],
   "source": [
    "2 < variable_1 and variable_3 < variable_2"
   ]
  },
  {
   "cell_type": "code",
   "execution_count": 22,
   "id": "139ec42f",
   "metadata": {},
   "outputs": [
    {
     "name": "stdout",
     "output_type": "stream",
     "text": [
      "2 < 5  and 8 < 5\n",
      "Should be False because the second is False.\n"
     ]
    }
   ],
   "source": [
    "# Note the above cell is equivalent to the following:\n",
    "print(f'2 < {variable_1}  and {variable_3} < {variable_2}')\n",
    "print('Should be False because the second is False.')"
   ]
  },
  {
   "cell_type": "code",
   "execution_count": 23,
   "id": "637b0ef9",
   "metadata": {},
   "outputs": [
    {
     "data": {
      "text/plain": [
       "True"
      ]
     },
     "execution_count": 23,
     "metadata": {},
     "output_type": "execute_result"
    }
   ],
   "source": [
    "2 < variable_1 or variable_3 < variable_2"
   ]
  },
  {
   "cell_type": "code",
   "execution_count": 24,
   "id": "96361a47",
   "metadata": {},
   "outputs": [
    {
     "data": {
      "text/plain": [
       "False"
      ]
     },
     "execution_count": 24,
     "metadata": {},
     "output_type": "execute_result"
    }
   ],
   "source": [
    "# Using the boolean logical operator it does not matter if it is written a little different. \n",
    "variable_1 > 2 and variable_3 < variable_2"
   ]
  },
  {
   "cell_type": "code",
   "execution_count": 25,
   "id": "64cfca4e",
   "metadata": {},
   "outputs": [
    {
     "data": {
      "text/plain": [
       "True"
      ]
     },
     "execution_count": 25,
     "metadata": {},
     "output_type": "execute_result"
    }
   ],
   "source": [
    "variable_1 > 2 or variable_3 < variable_2"
   ]
  },
  {
   "cell_type": "markdown",
   "id": "026e715c",
   "metadata": {},
   "source": [
    "##### Logical Operator: SPECIAL NOTE ON BITWISE OPERATORS\n",
    "[Return to Table of Contents](#Table-of-Contents)\n",
    "\n",
    "Note that the & and | are used for bitwase operators. Bitwise operators operate on numbers (normally), but instead of treating the number as if it were a single value, they treat it as if it were a string of bits, written in twos-complement binary. A two's complement binary is same as the classical binary representation for positve integers but is slightly different for negative numbers.\n",
    "\n",
    "The bitwise operators are different and USE WITH CAUTION. Various libraries may use the bitwise operators (e.g., filtering data in Pandas data analysis library) and can be confusing or have unintended consequences.\n",
    "\n",
    "Reference:\n",
    "- Bitwise Operators: https://wiki.python.org/moin/BitwiseOperators"
   ]
  },
  {
   "cell_type": "code",
   "execution_count": 26,
   "id": "72ca41d3",
   "metadata": {},
   "outputs": [
    {
     "name": "stdout",
     "output_type": "stream",
     "text": [
      "Recall the variables 1, 2 and 3:  5 , 5 , 8\n"
     ]
    }
   ],
   "source": [
    "print('Recall the variables 1, 2 and 3: ', variable_1,',', variable_2,',', variable_3)"
   ]
  },
  {
   "cell_type": "code",
   "execution_count": 27,
   "id": "95c8b406",
   "metadata": {},
   "outputs": [
    {
     "data": {
      "text/plain": [
       "False"
      ]
     },
     "execution_count": 27,
     "metadata": {},
     "output_type": "execute_result"
    }
   ],
   "source": [
    "# Note that in non-bitwise and bitwise, the output is False.\n",
    "2 < variable_1 and variable_3 < variable_2"
   ]
  },
  {
   "cell_type": "code",
   "execution_count": 28,
   "id": "4f2d63e0",
   "metadata": {},
   "outputs": [
    {
     "data": {
      "text/plain": [
       "False"
      ]
     },
     "execution_count": 28,
     "metadata": {},
     "output_type": "execute_result"
    }
   ],
   "source": [
    "2 < variable_1 & variable_3 < variable_2"
   ]
  },
  {
   "cell_type": "code",
   "execution_count": 29,
   "id": "c325102c",
   "metadata": {},
   "outputs": [
    {
     "data": {
      "text/plain": [
       "False"
      ]
     },
     "execution_count": 29,
     "metadata": {},
     "output_type": "execute_result"
    }
   ],
   "source": [
    "# However, written as sligthly different returns False for non-bitwise and True for bitwise.\n",
    "variable_1 > 2 and variable_3 < variable_2"
   ]
  },
  {
   "cell_type": "code",
   "execution_count": 30,
   "id": "fe73282b",
   "metadata": {},
   "outputs": [
    {
     "data": {
      "text/plain": [
       "True"
      ]
     },
     "execution_count": 30,
     "metadata": {},
     "output_type": "execute_result"
    }
   ],
   "source": [
    "variable_1 > 2 & variable_3 < variable_2"
   ]
  },
  {
   "cell_type": "code",
   "execution_count": 31,
   "id": "36dd81d5",
   "metadata": {},
   "outputs": [
    {
     "data": {
      "text/plain": [
       "True"
      ]
     },
     "execution_count": 31,
     "metadata": {},
     "output_type": "execute_result"
    }
   ],
   "source": [
    "# Now using the bitwise operator with the \"or\".\n",
    "2 < variable_1 or variable_3 < variable_2"
   ]
  },
  {
   "cell_type": "code",
   "execution_count": 32,
   "id": "70cc4d65",
   "metadata": {},
   "outputs": [
    {
     "data": {
      "text/plain": [
       "False"
      ]
     },
     "execution_count": 32,
     "metadata": {},
     "output_type": "execute_result"
    }
   ],
   "source": [
    "2 < variable_1 | variable_3 < variable_2"
   ]
  },
  {
   "cell_type": "markdown",
   "id": "d9f15bc2",
   "metadata": {},
   "source": [
    "# If Statements\n",
    "[Return to Table of Contents](#Table-of-Contents)\n",
    "\n",
    "If statements are used for handling decisions in comparisons, defined conditions or actions. They use logical operators to make value comparisons and decide if the code block within the if statement should be executed. In the if statement if the condition is met (i.e., the output of the condition is true) the code block is executed otherwise it continues.\n",
    "\n",
    "Documentation References:\n",
    "- https://docs.python.org/3/tutorial/controlflow.html#if-statements"
   ]
  },
  {
   "cell_type": "code",
   "execution_count": 33,
   "id": "f894c97e",
   "metadata": {},
   "outputs": [
    {
     "name": "stdout",
     "output_type": "stream",
     "text": [
      "Recall variable_3 = 8.\n"
     ]
    }
   ],
   "source": [
    "print(f'Recall variable_3 = {variable_3}.')"
   ]
  },
  {
   "cell_type": "code",
   "execution_count": 34,
   "id": "55d88cd8",
   "metadata": {},
   "outputs": [
    {
     "name": "stdout",
     "output_type": "stream",
     "text": [
      "variable_3 is less than 10.\n",
      "variable_3 assessed.\n"
     ]
    }
   ],
   "source": [
    "# Recall that the indents within the code block and various statements.\n",
    "if variable_3 < 10:\n",
    "    print(\"variable_3 is less than 10.\")\n",
    "\n",
    "print(\"variable_3 assessed.\")"
   ]
  },
  {
   "cell_type": "code",
   "execution_count": 35,
   "id": "1c3e6ab9",
   "metadata": {},
   "outputs": [
    {
     "name": "stdout",
     "output_type": "stream",
     "text": [
      "variable_3 is less than 10.\n",
      "vriable_3 assessed\n"
     ]
    }
   ],
   "source": [
    "# One line if statement, also called short hand if statement.\n",
    "# A little more difficult to visualize the code block vs. in the previous cell which is easily identifiable by the indents.\n",
    "# The output and behavior is the same.\n",
    "if variable_3 < 10: print('variable_3 is less than 10.')\n",
    "\n",
    "print(\"vriable_3 assessed\")"
   ]
  },
  {
   "cell_type": "code",
   "execution_count": 36,
   "id": "62c306e6",
   "metadata": {},
   "outputs": [
    {
     "data": {
      "text/plain": [
       "0"
      ]
     },
     "execution_count": 36,
     "metadata": {},
     "output_type": "execute_result"
    }
   ],
   "source": [
    "# Check if a number is divisible by another number in this case 2.\n",
    "variable_3 % 2\n",
    "# This operator returns the remainder. 0 means is divisible by the number."
   ]
  },
  {
   "cell_type": "code",
   "execution_count": 37,
   "id": "7516014e",
   "metadata": {},
   "outputs": [
    {
     "name": "stdout",
     "output_type": "stream",
     "text": [
      "variable_3 is divisible by 2.\n",
      "variable_3 assessed\n"
     ]
    }
   ],
   "source": [
    "# Let's change instead of less to more than 10.\n",
    "if variable_3 > 10:\n",
    "    print(\"variable_3 is more than 10.\")\n",
    "\n",
    "if (variable_3 % 2) == 0:\n",
    "    print(\"variable_3 is divisible by 2.\")\n",
    "    \n",
    "print(\"variable_3 assessed\")"
   ]
  },
  {
   "cell_type": "code",
   "execution_count": 38,
   "id": "1d2dcbd8",
   "metadata": {},
   "outputs": [],
   "source": [
    "# Let's play with the input() function.\n",
    "# Calling eval() with a string as an argument, the function returns the value that results from evaluating the input string.\n",
    "# Alternatively could use int() or float(). Note that if using int() and using a float as input will return an error. "
   ]
  },
  {
   "cell_type": "code",
   "execution_count": 39,
   "id": "c07697d1",
   "metadata": {},
   "outputs": [
    {
     "name": "stdin",
     "output_type": "stream",
     "text": [
      "Please input a number:  10\n"
     ]
    },
    {
     "name": "stdout",
     "output_type": "stream",
     "text": [
      "The custom_variable is divisible by 2.\n",
      "The custom_variable was assessed.\n"
     ]
    }
   ],
   "source": [
    "custom_variable = eval(input(\"Please input a number: \"))\n",
    "\n",
    "if custom_variable > 10:\n",
    "    print(\"The custom_variable is more than 10.\")\n",
    "\n",
    "if (custom_variable % 2) == 0:\n",
    "    print(\"The custom_variable is divisible by 2.\")\n",
    "    \n",
    "print(\"The custom_variable was assessed.\")"
   ]
  },
  {
   "cell_type": "markdown",
   "id": "30a4988b",
   "metadata": {},
   "source": [
    "## If Statements: IfElse Statement\n",
    "[Return to Table of Contents](#Table-of-Contents)"
   ]
  },
  {
   "cell_type": "code",
   "execution_count": 40,
   "id": "37f430d0",
   "metadata": {},
   "outputs": [
    {
     "name": "stdin",
     "output_type": "stream",
     "text": [
      "Please input a number:  30\n"
     ]
    },
    {
     "name": "stdout",
     "output_type": "stream",
     "text": [
      "The custom_variable is greater than 10\n",
      "The custom_variable is:  30\n"
     ]
    }
   ],
   "source": [
    "custom_variable = eval(input(\"Please input a number: \"))\n",
    "\n",
    "if custom_variable < 10:\n",
    "    print(\"The custom_variable is less than 10\")\n",
    "else:\n",
    "    print(\"The custom_variable is greater than 10\")\n",
    "print(\"The custom_variable is: \", str(custom_variable))"
   ]
  },
  {
   "cell_type": "code",
   "execution_count": 41,
   "id": "68c57969",
   "metadata": {},
   "outputs": [],
   "source": [
    "# Note that what happens if I use 10 as input?\n",
    "# Should I add another message when the custom_variable is equal to 10?"
   ]
  },
  {
   "cell_type": "code",
   "execution_count": 42,
   "id": "2226fd10",
   "metadata": {},
   "outputs": [
    {
     "name": "stdout",
     "output_type": "stream",
     "text": [
      "It is more than five.\n",
      "variable_3 was It is more than five.\n"
     ]
    }
   ],
   "source": [
    "# One line IfElse statement called short hand if else statement.\n",
    "\n",
    "comparison_result = \"It is less than 5.\" if variable_3 < 5 else \"It is more than five.\"\n",
    "print(comparison_result)\n",
    "print(\"variable_3 was\", str(comparison_result))"
   ]
  },
  {
   "cell_type": "code",
   "execution_count": 43,
   "id": "eb5cb7c1",
   "metadata": {},
   "outputs": [
    {
     "name": "stdout",
     "output_type": "stream",
     "text": [
      "25\n"
     ]
    }
   ],
   "source": [
    "# Another Example, in a single line, called short hand if else statement.\n",
    "x, y = 50, 25\n",
    "small = x if x < y else y\n",
    "print(small)"
   ]
  },
  {
   "cell_type": "markdown",
   "id": "4808dc1f",
   "metadata": {},
   "source": [
    "## If Statements: IfElse Statements Nested\n",
    "[Return to Table of Contents](#Table-of-Contents)"
   ]
  },
  {
   "cell_type": "code",
   "execution_count": 44,
   "id": "0d0183bd",
   "metadata": {},
   "outputs": [
    {
     "name": "stdout",
     "output_type": "stream",
     "text": [
      "10 is an even number.\n"
     ]
    }
   ],
   "source": [
    "a = 10\n",
    "\n",
    "if a < 0:\n",
    "    print('You have entered a negative number')\n",
    "else:\n",
    "    if a % 2 == 0:\n",
    "        print(a, \"is an even number.\")\n",
    "    else:\n",
    "        print(a, \"is an odd number.\")"
   ]
  },
  {
   "cell_type": "markdown",
   "id": "1a850a0c",
   "metadata": {},
   "source": [
    "## If Statements: if-elif-else example\n",
    "[Return to Table of Contents](#Table-of-Contents)"
   ]
  },
  {
   "cell_type": "code",
   "execution_count": 45,
   "id": "745b0308",
   "metadata": {},
   "outputs": [
    {
     "name": "stdin",
     "output_type": "stream",
     "text": [
      "What is the grade? 60\n"
     ]
    },
    {
     "name": "stdout",
     "output_type": "stream",
     "text": [
      "Exam Score: 60.0 and assigned grade is C\n"
     ]
    }
   ],
   "source": [
    "grade = float(input(\"What is the grade?\"))\n",
    "\n",
    "if grade>80:\n",
    "    print('Exam Score:', grade, 'and assigned grade is A')\n",
    "elif grade>60:\n",
    "    print('Exam Score:', grade, 'and assigned grade is B')\n",
    "elif grade>50:\n",
    "    print('Exam Score:', grade, 'and assigned grade is C')\n",
    "elif grade>=40:\n",
    "    print('Exam Score:', grade, 'and assigned grade is D')\n",
    "else:\n",
    "    print('Exam Score:', grade, 'and assigned grade is F')"
   ]
  },
  {
   "cell_type": "code",
   "execution_count": 46,
   "id": "4f91cd73",
   "metadata": {},
   "outputs": [],
   "source": [
    "# Imaginary unit satisfies i^2 = −1. For example, what is solution of (x + 1)^2 = -12\n",
    "# The solution is −1+4i  and −1−4i\n",
    "# Imaginary numbers: used to extend the real numbers to complex numbers.\n",
    "# Complex involves both real and imaginzary numbers.\n",
    "\n",
    "# Suppose we want to know if the solutions to the quadratic equation $ax^2+bx+c=0$ \n",
    "# are real, imaginary, or complex for a given set of coefficients a, b, and c.\n",
    "# Let's import the square root function from math library.\n",
    "from math import sqrt"
   ]
  },
  {
   "cell_type": "markdown",
   "id": "edef732d",
   "metadata": {},
   "source": [
    "__Examples__\n",
    "\n",
    "- Complex: a = 2, b = 4, c = 5\n",
    "- Imgainary: a = 1, b = 0, c = 3\n",
    "- Real: a = 4, b = 1, c = -3\n",
    "\n",
    "Reference:\n",
    "- [Quadratic Equations](https://mathbitsnotebook.com/Algebra2/Quadratics/QDQuadratics.html)"
   ]
  },
  {
   "cell_type": "code",
   "execution_count": 47,
   "id": "0ad16eef",
   "metadata": {},
   "outputs": [
    {
     "name": "stdin",
     "output_type": "stream",
     "text": [
      "What is the coefficient a?  13\n",
      "What is the coefficient b?  2\n",
      "What is the coefficient c?  3\n"
     ]
    },
    {
     "name": "stdout",
     "output_type": "stream",
     "text": [
      "Solutions are complex\n",
      "Finished!\n"
     ]
    }
   ],
   "source": [
    "a = float(input(\"What is the coefficient a? \"))\n",
    "b = float(input(\"What is the coefficient b? \"))\n",
    "c = float(input(\"What is the coefficient c? \"))\n",
    "d = b*b - 4.*a*c # Discriminant\n",
    "if d >= 0.0: # Code block 1\n",
    "    print(\"Solutions are real\")            \n",
    "    x1 = (-b+sqrt(d))/2.0/a\n",
    "    x2 = (-b-sqrt(d))/2.0/a\n",
    "    print(\"Solution1 = \", x1)\n",
    "    print(\"Solution2 = \", x2)    \n",
    "elif b == 0.0: # Code block 2\n",
    "    print(\"Solutions are imaginary\")    \n",
    "else: # Code block 3\n",
    "    print(\"Solutions are complex\")      \n",
    "print(\"Finished!\")"
   ]
  },
  {
   "cell_type": "markdown",
   "id": "db5a7215",
   "metadata": {},
   "source": [
    "# Bonus/Extra\n",
    "[Return to Table of Contents](#Table-of-Contents)\n",
    "\n",
    "Let's check the variables that we have defined in all the notebook using a Jupyter Notebook Magic Command and the size of the variable in the memory using the System library and the getsizeof() function. The size is returned in bytes."
   ]
  },
  {
   "cell_type": "code",
   "execution_count": 48,
   "id": "77b95d20",
   "metadata": {},
   "outputs": [
    {
     "name": "stdout",
     "output_type": "stream",
     "text": [
      "a\t b\t c\t comparison_result\t custom_variable\t d\t grade\t small\t sqrt\t \n",
      "string_1\t string_2\t string_3\t string_4\t variable_1\t variable_2\t variable_3\t variable_4\t x\t \n",
      "y\t \n"
     ]
    }
   ],
   "source": [
    "%who"
   ]
  },
  {
   "cell_type": "code",
   "execution_count": 49,
   "id": "e555ee6f",
   "metadata": {},
   "outputs": [
    {
     "data": {
      "text/plain": [
       "62"
      ]
     },
     "execution_count": 49,
     "metadata": {},
     "output_type": "execute_result"
    }
   ],
   "source": [
    "# We can check the size of a variable or object with the sys library and the getsizeof() function \n",
    "import sys # System library. https://docs.python.org/3/library/sys.html#sys.getsizeof\n",
    "sys.getsizeof(comparison_result)\n",
    "# In this case the size will be small.\n",
    "# When we have large tables of data this will be a useful function."
   ]
  },
  {
   "cell_type": "markdown",
   "id": "e037a787",
   "metadata": {},
   "source": [
    "# NOTEBOOK END"
   ]
  },
  {
   "cell_type": "code",
   "execution_count": null,
   "id": "7f6926cf",
   "metadata": {},
   "outputs": [],
   "source": []
  },
  {
   "cell_type": "code",
   "execution_count": null,
   "id": "7e1831c0",
   "metadata": {},
   "outputs": [],
   "source": []
  },
  {
   "cell_type": "code",
   "execution_count": null,
   "id": "03520a8a",
   "metadata": {},
   "outputs": [],
   "source": []
  }
 ],
 "metadata": {
  "kernelspec": {
   "display_name": "Python 3 (ipykernel)",
   "language": "python",
   "name": "python3"
  },
  "language_info": {
   "codemirror_mode": {
    "name": "ipython",
    "version": 3
   },
   "file_extension": ".py",
   "mimetype": "text/x-python",
   "name": "python",
   "nbconvert_exporter": "python",
   "pygments_lexer": "ipython3",
   "version": "3.12.4"
  }
 },
 "nbformat": 4,
 "nbformat_minor": 5
}
