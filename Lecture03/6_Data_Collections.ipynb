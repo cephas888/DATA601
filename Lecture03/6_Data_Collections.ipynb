{
 "cells": [
  {
   "cell_type": "markdown",
   "metadata": {},
   "source": [
    "<div class=\"alert alert-block alert-info\">\n",
    "Author:<br>Felix Gonzalez, P.E. <br> Adjunct Instructor, <br> Division of Professional Studies <br> Computer Science and Electrical Engineering <br> University of Maryland Baltimore County <br> fgonzale@umbc.edu\n",
    "</div>"
   ]
  },
  {
   "cell_type": "markdown",
   "metadata": {},
   "source": [
    "Python has 4 general purpose built-in containers or data collections that include dictionaries, list, set, and tuples. Each collection has its own properties, behaviors and uses. Lists are the most used data collection with dictionary, set and tupple used somewhat less depending on the application.\n",
    "\n",
    "- List: Ordered and changeable collection allowing duplicate members.\n",
    "- Tuple: Ordered and unchangeable collection allowing duplicate members.\n",
    "- Set: Unordered and unindexed collection w/o duplicate members.\n",
    "- Dictionary: Unordered, changeable, and indexed collection w/o duplicate members.\n",
    "\n",
    "<b>Table: Summary of Collection Properties</b>\n",
    "\n",
    "Collection | Form | Ordered? | Changeable? | Indexed? | Duplicate? \n",
    "--- | --- | --- | --- | --- | ---\n",
    "List | [] | Yes | Yes | Yes | Yes\n",
    "Dictionary | {\"_:_\"} | No | Yes | Yes | No\n",
    "Set | {} | No | Yes | No | No\n",
    "Tuple | () | Yes | No | Yes | Yes\n",
    "\n",
    "\n",
    "Data collections are defined in the same way as \"variable naming conventions and naming styles\"  apply in the same way (see Section of same name in 5_Jupyter_Notebooks_Python_Overview.ipynb). One feature of the data collections is that they can have zero or more elements.\n",
    "\n",
    "Documentation Reference: \n",
    "- https://docs.python.org/3/library/collections.html\n",
    "- https://docs.python.org/3/library/stdtypes.html?highlight=list#sequence-types-list-tuple-range\n",
    "\n",
    "There are various functions that can be used and for which we will explore in this notebook including thsoe to modify a collection, clear, delete, copy, sort, check for elements, etc."
   ]
  },
  {
   "cell_type": "markdown",
   "metadata": {},
   "source": [
    "# Table of Contents\n",
    "[Lists](#Lists)\n",
    "\n",
    "- [Lists: Add and Remove Elements](#Lists:-Add-and-Remove-Elements)\n",
    "\n",
    "- [Lists: Remove Duplicates](#Lists:-Remove-Duplicates)\n",
    "\n",
    "- [Lists: Delete and Clear Lists](#Lists:-Delete-and-Clear-Lists)\n",
    "\n",
    "- [Lists: Sorting, Counting, Elements and Indexing](#Lists:-Sorting,-Counting,-Elements-and-Indexing)\n",
    "\n",
    "- [List: Copying](#List:-Copying)\n",
    "\n",
    "[Dictionaries](#Dictionaries)\n",
    "\n",
    "- [Dictionary: Creating Dictionaries](#Dictionary:-Creating-Dictionaries)\n",
    "\n",
    "- [Dictionary: Creating Dictionary with Lists and other Dictionaries](#Dictionary:-Creating-Dictionary-with-Lists-and-other-Dictionaries)\n",
    "\n",
    "- [Dictionary: Creating Dictionary of Lists](#Dictionary:-Creating-Dictionary-of-Lists)\n",
    "\n",
    "- [Dictionary: Modifying](#Dictionary:-Modifying)\n",
    "\n",
    "- [Dictionaries: Copying](#Dictionaries:-Copying)\n",
    "\n",
    "[Sets and Tuples](#Sets-and-Tuples)\n",
    "\n",
    "[Sets (Optional)](#Sets-(Optional))\n",
    "\n",
    "- [Sets: Add and Removing Elements](#Sets:-Add-and-Removing-Elements)\n",
    "\n",
    "- [Sets: Delete and Clear Sets](#Sets:-Delete-and-Clear-Sets)\n",
    "\n",
    "- [Sets: Copying](#Sets:-Copying)\n",
    "\n",
    "- [Sets: Comparing Sets](#Sets:-Comparing-Sets)\n",
    "\n",
    "[Tuples (Optional)](#Tuples-(Optional))\n",
    "\n",
    "- [Tuple: Copying](#Tuple:-Copying)\n",
    "\n",
    "[Converting Between Data Collections](#Converting-Between-Data-Collections)"
   ]
  },
  {
   "cell_type": "markdown",
   "metadata": {},
   "source": [
    "# Lists\n",
    "[Return to Table of Contents](#Table-of-Contents)\n",
    "\n",
    "Lists are ordered and changeable data collection that allows to have duplicate members and are ordered, changeable, indexed. They are defined as a variable using square brackets, []. Common functions that can be used with lists and we will explore in this section include:\n",
    "- append(): Adds an element at the end of the list\n",
    "- clear(): Removes all the elements from the list\n",
    "- copy(): Returns a copy of the list\n",
    "- count(): Returns the number of elements with the specified value\n",
    "- extend(): Add the elements of a list (or any iterable), to the end of the current list\n",
    "- index(): Returns the index of the first element with the specified value\n",
    "- insert(): Adds an element at the specified position\n",
    "- pop(): Removes the element at the specified position\n",
    "- remove(): Removes the item with the specified value\n",
    "- reverse(): Reverses the order of the list\n",
    "- sort(): Sorts the list\n",
    "\n",
    "Documentation References:\n",
    "https://docs.python.org/3/library/stdtypes.html?highlight=list#sequence-types-list-tuple-range"
   ]
  },
  {
   "cell_type": "code",
   "execution_count": 1,
   "metadata": {
    "colab": {
     "base_uri": "https://localhost:8080/",
     "height": 34
    },
    "colab_type": "code",
    "id": "AkzHbQJ-FVC-",
    "outputId": "6e4d59cb-e0e9-48e5-cc6d-be9155e3bce7"
   },
   "outputs": [
    {
     "name": "stdout",
     "output_type": "stream",
     "text": [
      "['apple', 'banana', 'cherry']\n"
     ]
    }
   ],
   "source": [
    "# Let's define a list with three elements.\n",
    "fruits_list = [\"apple\", \"banana\", \"cherry\"] \n",
    "print(fruits_list)"
   ]
  },
  {
   "cell_type": "code",
   "execution_count": 2,
   "metadata": {
    "colab": {
     "base_uri": "https://localhost:8080/",
     "height": 34
    },
    "colab_type": "code",
    "id": "5B5a2TxLFfcW",
    "outputId": "61a17687-e2c3-4088-ae5d-513edc07dbb5"
   },
   "outputs": [
    {
     "name": "stdout",
     "output_type": "stream",
     "text": [
      "banana\n"
     ]
    }
   ],
   "source": [
    "print(fruits_list[1]) # Recall print returns a nonetype object."
   ]
  },
  {
   "cell_type": "code",
   "execution_count": 3,
   "metadata": {},
   "outputs": [
    {
     "data": {
      "text/plain": [
       "'banana'"
      ]
     },
     "execution_count": 3,
     "metadata": {},
     "output_type": "execute_result"
    }
   ],
   "source": [
    "fruits_list[1] # This returns the element in the defined index."
   ]
  },
  {
   "cell_type": "code",
   "execution_count": 4,
   "metadata": {},
   "outputs": [
    {
     "data": {
      "text/plain": [
       "'cherry'"
      ]
     },
     "execution_count": 4,
     "metadata": {},
     "output_type": "execute_result"
    }
   ],
   "source": [
    "fruits_list[-1] # Negative start selecing from the end of the list."
   ]
  },
  {
   "cell_type": "code",
   "execution_count": 5,
   "metadata": {},
   "outputs": [
    {
     "data": {
      "text/plain": [
       "['banana', 'cherry']"
      ]
     },
     "execution_count": 5,
     "metadata": {},
     "output_type": "execute_result"
    }
   ],
   "source": [
    "# This method is called slicing.\n",
    "# list[start_index:stop_index:step]\n",
    "# When start_index is blank it starts at the beginning.\n",
    "# When stop_index is blank it goes to the end of the list.\n",
    "fruits_list[1:] # This does a slice of the list, starting in the element with index 1 to the end of the list "
   ]
  },
  {
   "cell_type": "code",
   "execution_count": 6,
   "metadata": {},
   "outputs": [
    {
     "data": {
      "text/plain": [
       "['apple', 'cherry']"
      ]
     },
     "execution_count": 6,
     "metadata": {},
     "output_type": "execute_result"
    }
   ],
   "source": [
    "fruits_list[0::2] # Here the step is 2. The slice will jump two indexes when selecting. \n",
    "# In this case selecting starting at index 0 and selecting index 2. "
   ]
  },
  {
   "cell_type": "code",
   "execution_count": 7,
   "metadata": {
    "colab": {
     "base_uri": "https://localhost:8080/",
     "height": 34
    },
    "colab_type": "code",
    "id": "5T986BdPFisx",
    "outputId": "f27816f0-54d4-41a8-f39d-af1d02d88934"
   },
   "outputs": [
    {
     "name": "stdout",
     "output_type": "stream",
     "text": [
      "['apple', 'banana', 'orange']\n"
     ]
    }
   ],
   "source": [
    "# Change Item Value\n",
    "fruits_list[2] = \"orange\"\n",
    "print(fruits_list)"
   ]
  },
  {
   "cell_type": "code",
   "execution_count": 8,
   "metadata": {
    "colab": {
     "base_uri": "https://localhost:8080/",
     "height": 68
    },
    "colab_type": "code",
    "id": "rC1t0COAFrQB",
    "outputId": "6d81dc4f-6b18-4b2c-f864-2339ac030668"
   },
   "outputs": [
    {
     "name": "stdout",
     "output_type": "stream",
     "text": [
      "apple\n",
      "banana\n",
      "orange\n"
     ]
    }
   ],
   "source": [
    "# Loop Through a List\n",
    "for x in fruits_list:\n",
    "    print(x)"
   ]
  },
  {
   "cell_type": "markdown",
   "metadata": {},
   "source": [
    "### Lists: Add and Remove Elements\n",
    "[Return to Table of Contents](#Table-of-Contents)"
   ]
  },
  {
   "cell_type": "code",
   "execution_count": 9,
   "metadata": {
    "colab": {
     "base_uri": "https://localhost:8080/",
     "height": 34
    },
    "colab_type": "code",
    "id": "DOmDOORGFymZ",
    "outputId": "60b53b26-0d33-4672-ccaf-daed66211364"
   },
   "outputs": [
    {
     "name": "stdout",
     "output_type": "stream",
     "text": [
      "Yes, apple is in the fruits list\n"
     ]
    }
   ],
   "source": [
    "# Check if Item Exists\n",
    "anitem = \"apple\" # Change the value between apple and blackberry or other value to test the outputs.\n",
    "if anitem in fruits_list:\n",
    "    print(\"Yes,\", anitem,\"is in the fruits list\")\n",
    "else:\n",
    "    print(\"No,\", anitem,\"is not in the fruits list\")  "
   ]
  },
  {
   "cell_type": "code",
   "execution_count": 10,
   "metadata": {
    "colab": {
     "base_uri": "https://localhost:8080/",
     "height": 34
    },
    "colab_type": "code",
    "id": "W04UhoK8GWv6",
    "outputId": "4374f24a-793c-47d9-be38-d3fac3620f12"
   },
   "outputs": [
    {
     "name": "stdout",
     "output_type": "stream",
     "text": [
      "3\n"
     ]
    }
   ],
   "source": [
    "# The Len() function shows the number of elements.\n",
    "print(len(fruits_list))"
   ]
  },
  {
   "cell_type": "code",
   "execution_count": 11,
   "metadata": {
    "colab": {
     "base_uri": "https://localhost:8080/",
     "height": 34
    },
    "colab_type": "code",
    "id": "zpdawfhAGfEx",
    "outputId": "5a6af367-b407-482f-c553-4758cdb995ab"
   },
   "outputs": [
    {
     "name": "stdout",
     "output_type": "stream",
     "text": [
      "['apple', 'banana', 'orange', 'watermelon']\n"
     ]
    }
   ],
   "source": [
    "# Adding items can be accomplished with the append() function.\n",
    "fruits_list.append(\"watermelon\")\n",
    "print(fruits_list)"
   ]
  },
  {
   "cell_type": "code",
   "execution_count": 12,
   "metadata": {
    "colab": {
     "base_uri": "https://localhost:8080/",
     "height": 34
    },
    "colab_type": "code",
    "id": "l5waBkLHGn-R",
    "outputId": "62358958-4979-4a04-978c-21f959bab5f3"
   },
   "outputs": [
    {
     "name": "stdout",
     "output_type": "stream",
     "text": [
      "['apple', 'pear', 'banana', 'orange', 'watermelon']\n"
     ]
    }
   ],
   "source": [
    "# To add an item at the specified index, use the insert() method:\n",
    "fruits_list.insert(1, \"pear\")\n",
    "print(fruits_list)"
   ]
  },
  {
   "cell_type": "code",
   "execution_count": 13,
   "metadata": {
    "colab": {
     "base_uri": "https://localhost:8080/",
     "height": 34
    },
    "colab_type": "code",
    "id": "MR8UOlrqPf74",
    "outputId": "52fb92cd-3765-49c5-e99e-85a1a1b86b9e"
   },
   "outputs": [
    {
     "name": "stdout",
     "output_type": "stream",
     "text": [
      "['apple', 'banana', 'cherry', 'watermelon', 'pear', 'orange', 'grape']\n"
     ]
    }
   ],
   "source": [
    "# EXTENDING\n",
    "# The extend() method adds the specified list elements (or any iterable) to \n",
    "# the end of the current list.\n",
    "fruits_list = ['apple', 'banana', 'cherry']\n",
    "morefruits_list = ['watermelon', 'pear', 'orange','grape']\n",
    "\n",
    "fruits_list.extend(morefruits_list)\n",
    "print(fruits_list)"
   ]
  },
  {
   "cell_type": "code",
   "execution_count": 14,
   "metadata": {
    "colab": {
     "base_uri": "https://localhost:8080/",
     "height": 34
    },
    "colab_type": "code",
    "id": "p6LVwgw-GrUp",
    "outputId": "8acd5342-b184-47b2-eac2-2026331951d3"
   },
   "outputs": [
    {
     "name": "stdout",
     "output_type": "stream",
     "text": [
      "['apple', 'cherry', 'watermelon', 'pear', 'orange', 'grape']\n"
     ]
    }
   ],
   "source": [
    "# Remove Item\n",
    "fruits_list.remove(\"banana\")\n",
    "print(fruits_list)"
   ]
  },
  {
   "cell_type": "code",
   "execution_count": 15,
   "metadata": {
    "colab": {
     "base_uri": "https://localhost:8080/",
     "height": 34
    },
    "colab_type": "code",
    "id": "t5HHuMYLGzbB",
    "outputId": "10b8476f-15c8-466c-a703-78cbf7e618ac"
   },
   "outputs": [
    {
     "name": "stdout",
     "output_type": "stream",
     "text": [
      "['apple', 'banana']\n"
     ]
    }
   ],
   "source": [
    "#  Remove Item-Method 2\n",
    "# The pop() method removes the specified index, (or the last item if index is not specified):\n",
    "fruits_list = [\"apple\", \"banana\", \"cherry\"]\n",
    "fruits_list.pop()\n",
    "print(fruits_list)"
   ]
  },
  {
   "cell_type": "code",
   "execution_count": 16,
   "metadata": {},
   "outputs": [
    {
     "name": "stdout",
     "output_type": "stream",
     "text": [
      "['apple', 'banana', 'cherry', 'watermelon', 'pear', 'orange', 'grape']\n"
     ]
    }
   ],
   "source": [
    "# Similarly to the extend function. Lists can be added.\n",
    "fruits_list = ['apple', 'banana', 'cherry']\n",
    "morefruits_list = ['watermelon', 'pear', 'orange','grape']\n",
    "\n",
    "fruits_list = fruits_list + morefruits_list\n",
    "print(fruits_list)"
   ]
  },
  {
   "cell_type": "markdown",
   "metadata": {},
   "source": [
    "### Lists: Remove Duplicates\n",
    "[Return to Table of Contents](#Table-of-Contents)"
   ]
  },
  {
   "cell_type": "code",
   "execution_count": 17,
   "metadata": {},
   "outputs": [],
   "source": [
    "# Say we have a list with duplicates and we want to remove duplicates to have a list of unique values.\n",
    "list_with_duplicates = ['apple', 'pear', 'apple', 'banana', \n",
    "                        'orange', 'banana', 'apple']"
   ]
  },
  {
   "cell_type": "markdown",
   "metadata": {},
   "source": [
    "In some cases in data analytics and data science we may want to create the a unique list of values (e.g., where we remove the duplicates). There are various methods as well as various libraries and functions that will create a list of unique values and will . \n",
    "\n",
    "In this case we are focusing on base Python functions and methods. A few methods we can try are:\n",
    "- Taking advantage of properties of dictionary keys or sets which don't allow duplicates and will remove duplicates.\n",
    "- Using a for loop or list comprehension."
   ]
  },
  {
   "cell_type": "code",
   "execution_count": 18,
   "metadata": {},
   "outputs": [
    {
     "data": {
      "text/plain": [
       "['apple', 'pear', 'banana', 'orange']"
      ]
     },
     "execution_count": 18,
     "metadata": {},
     "output_type": "execute_result"
    }
   ],
   "source": [
    "# For this example, let's convert to dictionary keys and then back to list.\n",
    "list_no_duplicates = list(dict.fromkeys(list_with_duplicates))\n",
    "list_no_duplicates"
   ]
  },
  {
   "cell_type": "code",
   "execution_count": 19,
   "metadata": {},
   "outputs": [
    {
     "data": {
      "text/plain": [
       "['apple', 'pear', 'banana', 'orange']"
      ]
     },
     "execution_count": 19,
     "metadata": {},
     "output_type": "execute_result"
    }
   ],
   "source": [
    "# For this example, let's convert to set and then back to list.\n",
    "list_no_duplicates = list(set(list_with_duplicates))\n",
    "list_no_duplicates"
   ]
  },
  {
   "cell_type": "code",
   "execution_count": 20,
   "metadata": {},
   "outputs": [
    {
     "data": {
      "text/plain": [
       "['apple', 'pear', 'banana', 'orange']"
      ]
     },
     "execution_count": 20,
     "metadata": {},
     "output_type": "execute_result"
    }
   ],
   "source": [
    "# Using a loop and \"not in\" conditional statement.\n",
    "list_no_duplicates = []\n",
    "for i in list_with_duplicates: # Iterates thru elements in list.\n",
    "    if i not in list_no_duplicates: # Checks if the element does not exist in the list of no duplicates.\n",
    "        list_no_duplicates.append(i) # If it does not exists appends it.\n",
    "\n",
    "list_no_duplicates"
   ]
  },
  {
   "cell_type": "code",
   "execution_count": 21,
   "metadata": {},
   "outputs": [
    {
     "data": {
      "text/plain": [
       "['apple', 'pear', 'banana', 'orange']"
      ]
     },
     "execution_count": 21,
     "metadata": {},
     "output_type": "execute_result"
    }
   ],
   "source": [
    "# Using list comprehensions (for loops short version) and enumerate function.\n",
    "list_no_duplicates = [i for n, i in enumerate(list_with_duplicates) if i not in list_with_duplicates[:n]]\n",
    "list_no_duplicates"
   ]
  },
  {
   "cell_type": "markdown",
   "metadata": {},
   "source": [
    "### Lists: Delete and Clear Lists\n",
    "[Return to Table of Contents](#Table-of-Contents)"
   ]
  },
  {
   "cell_type": "code",
   "execution_count": 22,
   "metadata": {
    "colab": {},
    "colab_type": "code",
    "id": "74JNbRLxG6zh"
   },
   "outputs": [
    {
     "ename": "NameError",
     "evalue": "name 'fruits_list' is not defined",
     "output_type": "error",
     "traceback": [
      "\u001b[1;31m---------------------------------------------------------------------------\u001b[0m",
      "\u001b[1;31mNameError\u001b[0m                                 Traceback (most recent call last)",
      "Cell \u001b[1;32mIn[22], line 3\u001b[0m\n\u001b[0;32m      1\u001b[0m \u001b[38;5;66;03m# The del keyword can also delete the list completely:\u001b[39;00m\n\u001b[0;32m      2\u001b[0m \u001b[38;5;28;01mdel\u001b[39;00m fruits_list\n\u001b[1;32m----> 3\u001b[0m \u001b[38;5;28mprint\u001b[39m(fruits_list)\n",
      "\u001b[1;31mNameError\u001b[0m: name 'fruits_list' is not defined"
     ]
    }
   ],
   "source": [
    "# The del keyword can also delete the list completely:\n",
    "del fruits_list\n",
    "print(fruits_list)   # This will give an error message (i.e., NameError).\n",
    "# Recall that the del works with any variable including collections."
   ]
  },
  {
   "cell_type": "code",
   "execution_count": 26,
   "metadata": {
    "colab": {
     "base_uri": "https://localhost:8080/",
     "height": 34
    },
    "colab_type": "code",
    "id": "MymN-cwtHHdh",
    "outputId": "cbae9179-f2fa-4cb4-f7ac-d43d9def9806"
   },
   "outputs": [
    {
     "name": "stdout",
     "output_type": "stream",
     "text": [
      "[]\n"
     ]
    }
   ],
   "source": [
    "# The clear() method empties the list:\n",
    "fruits_list = [\"apple\", \"banana\", \"cherry\"]\n",
    "fruits_list.clear()\n",
    "print(fruits_list)"
   ]
  },
  {
   "cell_type": "markdown",
   "metadata": {},
   "source": [
    "### Lists: Sorting, Counting, Elements and Indexing\n",
    "[Return to Table of Contents](#Table-of-Contents)"
   ]
  },
  {
   "cell_type": "code",
   "execution_count": 27,
   "metadata": {
    "colab": {
     "base_uri": "https://localhost:8080/",
     "height": 34
    },
    "colab_type": "code",
    "id": "iJ3kTyccHiNx",
    "outputId": "c7a51130-5b6b-4fd0-d918-0fa2cb45a4a7"
   },
   "outputs": [
    {
     "name": "stdout",
     "output_type": "stream",
     "text": [
      "['apple', 'banana', 'cherry', 'watermelon']\n"
     ]
    }
   ],
   "source": [
    "# sorting (alphebatical order)\n",
    "fruits_list = [\"watermelon\",\"apple\", \"cherry\", \"banana\"]\n",
    "fruits_list.sort()\n",
    "print(fruits_list)"
   ]
  },
  {
   "cell_type": "code",
   "execution_count": 28,
   "metadata": {
    "colab": {
     "base_uri": "https://localhost:8080/",
     "height": 34
    },
    "colab_type": "code",
    "id": "ywd_EBdEHwKY",
    "outputId": "2690d96c-18e4-4893-9fd7-98dbec4fe186"
   },
   "outputs": [
    {
     "name": "stdout",
     "output_type": "stream",
     "text": [
      "['banana', 'cherry', 'apple', 'watermelon']\n"
     ]
    }
   ],
   "source": [
    "# reverse ordering \n",
    "thislisfruits_list = [\"watermelon\",\"apple\", \"cherry\", \"banana\"]\n",
    "thislisfruits_list.reverse()\n",
    "print(thislisfruits_list)"
   ]
  },
  {
   "cell_type": "code",
   "execution_count": 29,
   "metadata": {
    "colab": {
     "base_uri": "https://localhost:8080/",
     "height": 34
    },
    "colab_type": "code",
    "id": "5f1WD4ywIS4Q",
    "outputId": "503676ec-da23-4eb0-eccb-676b04e92c0a"
   },
   "outputs": [
    {
     "data": {
      "text/plain": [
       "2"
      ]
     },
     "execution_count": 29,
     "metadata": {},
     "output_type": "execute_result"
    }
   ],
   "source": [
    "# COUNTING\n",
    "names_list = [\"Adam\",\"Michael\",\"Susan\",\"Leo\",\"Adam\",\"Marry\",\"Heather\"]\n",
    "names_list.count(\"Adam\")"
   ]
  },
  {
   "cell_type": "code",
   "execution_count": 30,
   "metadata": {
    "colab": {
     "base_uri": "https://localhost:8080/",
     "height": 34
    },
    "colab_type": "code",
    "id": "t364VaQzOxm9",
    "outputId": "bbfb6e94-da20-4aab-dae3-d8decaf961ea"
   },
   "outputs": [
    {
     "data": {
      "text/plain": [
       "0"
      ]
     },
     "execution_count": 30,
     "metadata": {},
     "output_type": "execute_result"
    }
   ],
   "source": [
    "# Indexing\n",
    "# The index() method finds the first occurrence of the specified value.\n",
    "names_list = [\"Adam\",\"Michael\",\"Susan\",\"Leo\",\"Adam\",\"Marry\",\"Heather\"]\n",
    "names_list.index(\"Adam\")"
   ]
  },
  {
   "cell_type": "code",
   "execution_count": 31,
   "metadata": {},
   "outputs": [
    {
     "name": "stdout",
     "output_type": "stream",
     "text": [
      "[0, 4]\n"
     ]
    }
   ],
   "source": [
    "# To get all indices of an element we can use a for loop with a if statement.\n",
    "Adam_Indices = []\n",
    "for i in range(len(names_list)):\n",
    "    if names_list[i]=='Adam':\n",
    "        Adam_Indices.append(i)\n",
    "print(Adam_Indices)"
   ]
  },
  {
   "cell_type": "code",
   "execution_count": 32,
   "metadata": {},
   "outputs": [
    {
     "ename": "ValueError",
     "evalue": "'Robert' is not in list",
     "output_type": "error",
     "traceback": [
      "\u001b[1;31m---------------------------------------------------------------------------\u001b[0m",
      "\u001b[1;31mValueError\u001b[0m                                Traceback (most recent call last)",
      "Cell \u001b[1;32mIn[32], line 2\u001b[0m\n\u001b[0;32m      1\u001b[0m \u001b[38;5;66;03m# The index() method raises an exception (ValueError) if the value is not found.\u001b[39;00m\n\u001b[1;32m----> 2\u001b[0m names_list\u001b[38;5;241m.\u001b[39mindex(\u001b[38;5;124m\"\u001b[39m\u001b[38;5;124mRobert\u001b[39m\u001b[38;5;124m\"\u001b[39m)\n",
      "\u001b[1;31mValueError\u001b[0m: 'Robert' is not in list"
     ]
    }
   ],
   "source": [
    "# The index() method raises an exception (ValueError) if the value is not found.\n",
    "names_list.index(\"Robert\")"
   ]
  },
  {
   "cell_type": "code",
   "execution_count": 33,
   "metadata": {
    "colab": {
     "base_uri": "https://localhost:8080/",
     "height": 34
    },
    "colab_type": "code",
    "id": "3WOLjmqzbe5q",
    "outputId": "b848148c-4144-41d2-bf9b-bcf086a4efeb"
   },
   "outputs": [
    {
     "data": {
      "text/plain": [
       "2"
      ]
     },
     "execution_count": 33,
     "metadata": {},
     "output_type": "execute_result"
    }
   ],
   "source": [
    "names_list.index(\"Susan\")"
   ]
  },
  {
   "cell_type": "markdown",
   "metadata": {},
   "source": [
    "### List: Copying\n",
    "[Return to Table of Contents](#Table-of-Contents)\n",
    "\n",
    "You cannot copy a list simply by typing list2 = list1, because: list2 will only be a reference to list1, and changes made in list1 will automatically also be made in list2. There are various ways to address copying a list when needed without affecting the othher lists. One way is to use the built-in list method copy() function."
   ]
  },
  {
   "cell_type": "markdown",
   "metadata": {},
   "source": [
    "#### List: Copying/Copy Method\n",
    "[Return to Table of Contents](#Table-of-Contents)"
   ]
  },
  {
   "cell_type": "code",
   "execution_count": 34,
   "metadata": {
    "colab": {
     "base_uri": "https://localhost:8080/",
     "height": 34
    },
    "colab_type": "code",
    "id": "xUUyxYZqHQDR",
    "outputId": "1fdbb4d1-4ce4-41e7-e649-72aa5a717001"
   },
   "outputs": [
    {
     "name": "stdout",
     "output_type": "stream",
     "text": [
      "list_clone: ['apple', 'banana', 'cherry'].\n"
     ]
    }
   ],
   "source": [
    "# There are ways to make a copy, one way is to use the built-in List method copy().\n",
    "fruits_list = [\"apple\", \"banana\", \"cherry\"]\n",
    "list_clone = fruits_list.copy()\n",
    "print(f'list_clone: {list_clone}.')"
   ]
  },
  {
   "cell_type": "code",
   "execution_count": 35,
   "metadata": {},
   "outputs": [
    {
     "name": "stdout",
     "output_type": "stream",
     "text": [
      "fruits_list: ['apple', 'banana', 'cherry'].\n"
     ]
    }
   ],
   "source": [
    "print(f'fruits_list: {fruits_list}.')"
   ]
  },
  {
   "cell_type": "code",
   "execution_count": 36,
   "metadata": {},
   "outputs": [],
   "source": [
    "# Deleting the lists.\n",
    "del fruits_list\n",
    "del list_clone"
   ]
  },
  {
   "cell_type": "markdown",
   "metadata": {},
   "source": [
    "#### List: Copying/List Method\n",
    "[Return to Table of Contents](#Table-of-Contents)"
   ]
  },
  {
   "cell_type": "code",
   "execution_count": 37,
   "metadata": {
    "colab": {
     "base_uri": "https://localhost:8080/",
     "height": 34
    },
    "colab_type": "code",
    "id": "OSWouJHvHdC5",
    "outputId": "d6deedb5-a0dd-4f30-fe49-5fde15e9ef67"
   },
   "outputs": [
    {
     "name": "stdout",
     "output_type": "stream",
     "text": [
      "list_clone: ['apple', 'banana', 'pineapple'].\n"
     ]
    }
   ],
   "source": [
    "# Another way to make a copy is to use the built-in method list().\n",
    "fruits_list = [\"apple\", \"banana\", \"pineapple\"]\n",
    "list_clone = list(fruits_list)\n",
    "print(f'list_clone: {list_clone}.')"
   ]
  },
  {
   "cell_type": "code",
   "execution_count": 38,
   "metadata": {},
   "outputs": [
    {
     "name": "stdout",
     "output_type": "stream",
     "text": [
      "fruits_list: ['apple', 'banana', 'pineapple'].\n"
     ]
    }
   ],
   "source": [
    "print(f'fruits_list: {fruits_list}.')"
   ]
  },
  {
   "cell_type": "code",
   "execution_count": 39,
   "metadata": {},
   "outputs": [],
   "source": [
    "# Deleting the lists.\n",
    "del fruits_list\n",
    "del list_clone"
   ]
  },
  {
   "cell_type": "markdown",
   "metadata": {},
   "source": [
    "#### List: Copying/Slcing Method\n",
    "[Return to Table of Contents](#Table-of-Contents)"
   ]
  },
  {
   "cell_type": "code",
   "execution_count": 40,
   "metadata": {},
   "outputs": [
    {
     "name": "stdout",
     "output_type": "stream",
     "text": [
      "list_clone: ['apple', 'banana', 'pineapple'].\n"
     ]
    }
   ],
   "source": [
    "# Creating a copy using slicing\n",
    "fruits_list = [\"apple\", \"banana\", \"pineapple\"]\n",
    "list_clone = fruits_list[:]\n",
    "print(f'list_clone: {list_clone}.')"
   ]
  },
  {
   "cell_type": "code",
   "execution_count": 41,
   "metadata": {},
   "outputs": [
    {
     "name": "stdout",
     "output_type": "stream",
     "text": [
      "fruits_list: ['apple', 'banana', 'pineapple'].\n"
     ]
    }
   ],
   "source": [
    "print(f'fruits_list: {fruits_list}.')"
   ]
  },
  {
   "cell_type": "code",
   "execution_count": 42,
   "metadata": {},
   "outputs": [],
   "source": [
    "# Deleting the lists.\n",
    "del fruits_list\n",
    "del list_clone"
   ]
  },
  {
   "cell_type": "markdown",
   "metadata": {},
   "source": [
    "#### List: Copying/For Loop and Append Method\n",
    "[Return to Table of Contents](#Table-of-Contents)"
   ]
  },
  {
   "cell_type": "code",
   "execution_count": 43,
   "metadata": {},
   "outputs": [
    {
     "name": "stdout",
     "output_type": "stream",
     "text": [
      "fruits_list: ['apple', 'banana', 'pineapple'].\n"
     ]
    }
   ],
   "source": [
    "fruits_list = [\"apple\", \"banana\", \"pineapple\"]\n",
    "list_clone = [] # Needs creating a blank list.\n",
    "for i in fruits_list:\n",
    "    list_clone.append(i)\n",
    "print(f'fruits_list: {fruits_list}.')"
   ]
  },
  {
   "cell_type": "code",
   "execution_count": 44,
   "metadata": {},
   "outputs": [
    {
     "name": "stdout",
     "output_type": "stream",
     "text": [
      "fruits_list: ['apple', 'banana', 'pineapple'].\n"
     ]
    }
   ],
   "source": [
    "print(f'fruits_list: {fruits_list}.')"
   ]
  },
  {
   "cell_type": "code",
   "execution_count": 45,
   "metadata": {},
   "outputs": [],
   "source": [
    "# Deleting the lists.\n",
    "del fruits_list\n",
    "del list_clone"
   ]
  },
  {
   "cell_type": "markdown",
   "metadata": {},
   "source": [
    "# Avoid\n",
    "\n",
    "#### List: Copying/Assignment Operator Method\n",
    "[Return to Table of Contents](#Table-of-Contents)\n",
    "\n",
    "This method should be avoided as this may result in referencing issues. In this case, a new list object is not be created but rather causes the two lists to reference each other."
   ]
  },
  {
   "cell_type": "code",
   "execution_count": 46,
   "metadata": {},
   "outputs": [
    {
     "name": "stdout",
     "output_type": "stream",
     "text": [
      "list_clone: ['apple', 'banana', 'pineapple'].\n"
     ]
    }
   ],
   "source": [
    "# Creating a copy using slicing\n",
    "fruits_list = [\"apple\", \"banana\", \"pineapple\"]\n",
    "list_clone = fruits_list\n",
    "print(f'list_clone: {list_clone}.')"
   ]
  },
  {
   "cell_type": "code",
   "execution_count": 47,
   "metadata": {},
   "outputs": [
    {
     "name": "stdout",
     "output_type": "stream",
     "text": [
      "fruits_list: ['apple', 'banana', 'pineapple'].\n"
     ]
    }
   ],
   "source": [
    "print(f'fruits_list: {fruits_list}.')"
   ]
  },
  {
   "cell_type": "code",
   "execution_count": 48,
   "metadata": {},
   "outputs": [
    {
     "name": "stdout",
     "output_type": "stream",
     "text": [
      "fruits_list: ['apple', 'banana', 'pineapple', 'blackberry'].\n"
     ]
    }
   ],
   "source": [
    "list_clone.append('blackberry') # Changing this list changes the fruits list as well.\n",
    "print(f'fruits_list: {fruits_list}.')"
   ]
  },
  {
   "cell_type": "code",
   "execution_count": 49,
   "metadata": {},
   "outputs": [],
   "source": [
    "# Deleting the lists.\n",
    "del fruits_list\n",
    "del list_clone"
   ]
  },
  {
   "cell_type": "markdown",
   "metadata": {
    "colab": {},
    "colab_type": "code",
    "id": "H7f1wWXAkMPB"
   },
   "source": [
    "# Dictionaries\n",
    "[Return to Table of Contents](#Table-of-Contents)\n",
    "\n",
    "Similarly to lists, Dictionaries changeabled indexed collection. However, they are not ordered and do not have duplicate elements. Dictionaries are defined as a variable using curly brachets, {}. However, the dictionaries have keys and for each key one or multiple values. There are multiple ways of creating dictionaries. It is important to note that some file formats (e.g., JSON) use a dictionary collection and can be read as a dictionary in Python.\n",
    "\n",
    "You cannot copy a dictionary simply by typing dict2 = dict1, because: dict2 will only be a reference to dict1, and changes made in dict1 will automatically also be made in dict2. There are various ways to make a copy. One way is to use the built-in Dictionary method copy(). Another way to make a copy is to use the built-in method dict().\n",
    "\n",
    "The following are common functions used with dictionaries:\n",
    "- clear(): Removes all the elements from the dictionary\n",
    "- copy(): Returns a copy of the dictionary\n",
    "- fromkeys(): Returns a dictionary with the specified keys and values\n",
    "- get(): Returns the value of the specified key\n",
    "- items(): Returns a list containing the a tuple for each key value pair\n",
    "- keys(): Returns a list containing the dictionary's keys\n",
    "- pop(): Removes the element with the specified key\n",
    "- popitem(): Removes the last inserted key-value pair\n",
    "- setdefault(): Returns the value of the specified key. If the key does not exist: insert the key, with the specified value\n",
    "- update(): Updates the dictionary with the specified key-value pairs\n",
    "- values():\tReturns a list of all the values in the dictionary\n",
    "\n",
    "Note that some data file types (e.g., JSON) use a dictionary format. When working with JSON all the functions that can be used with dictionaries will also work with JSON data. Later in class we will learn how to convert dictionary data to a dataframe (e.g., table format) and vice versa."
   ]
  },
  {
   "cell_type": "markdown",
   "metadata": {},
   "source": [
    "#### Dictionary: Creating Dictionaries\n",
    "[Return to Table of Contents](#Table-of-Contents)"
   ]
  },
  {
   "cell_type": "code",
   "execution_count": 50,
   "metadata": {
    "colab": {},
    "colab_type": "code",
    "id": "X1pSB2JcpiJO"
   },
   "outputs": [
    {
     "data": {
      "text/plain": [
       "{'Monday': 'Lunedi',\n",
       " 'Tuesday': 'Martedi',\n",
       " 'Wednesday': 'Mercoledi',\n",
       " 'Thursday': 'Geovedi',\n",
       " 'Friday': 'Venerdi',\n",
       " 'Saturday': 'Saboto',\n",
       " 'Sunday': 'Domenica'}"
      ]
     },
     "execution_count": 50,
     "metadata": {},
     "output_type": "execute_result"
    }
   ],
   "source": [
    "# A dictionary is a collection which is unordered, changeable and indexed. \n",
    "# In Python dictionaries are written with curly brackets, and they have keys and values.\n",
    "# There are multiple ways of creating dictionaries\n",
    "# Method-1\n",
    "Days_Eng_Ita = {'Monday':'Lunedi',\n",
    "                'Tuesday':'Martedi',\n",
    "                'Wednesday':'Mercoledi',\n",
    "                'Thursday':'Geovedi',\n",
    "                'Friday':'Venerdi',\n",
    "                'Saturday':'Saboto',\n",
    "                'Sunday':'Domenica'\n",
    "               }\n",
    "Days_Eng_Ita"
   ]
  },
  {
   "cell_type": "code",
   "execution_count": 51,
   "metadata": {},
   "outputs": [
    {
     "data": {
      "text/plain": [
       "dict"
      ]
     },
     "execution_count": 51,
     "metadata": {},
     "output_type": "execute_result"
    }
   ],
   "source": [
    "type(Days_Eng_Ita)"
   ]
  },
  {
   "cell_type": "code",
   "execution_count": 52,
   "metadata": {
    "colab": {},
    "colab_type": "code",
    "id": "hXeIJrUoE-r-"
   },
   "outputs": [
    {
     "data": {
      "text/plain": [
       "{'Monday': 'Lunedi',\n",
       " 'Tuesday': 'Martedi',\n",
       " 'Wednesday': 'Mercoledi',\n",
       " 'Thursday': 'Geovedi',\n",
       " 'Friday': 'Venerdi',\n",
       " 'Saturday': 'Saboto',\n",
       " 'Sunday': 'Domenica'}"
      ]
     },
     "execution_count": 52,
     "metadata": {},
     "output_type": "execute_result"
    }
   ],
   "source": [
    "# Method-2\n",
    "Days_Eng_Ita = dict([('Monday','Lunedi'), \n",
    "                     ('Tuesday','Martedi'),\n",
    "                     ('Wednesday','Mercoledi'),\n",
    "                     ('Thursday','Geovedi'),\n",
    "                     ('Friday','Venerdi'),\n",
    "                     ('Saturday','Saboto'),\n",
    "                     ('Sunday','Domenica')\n",
    "                    ])\n",
    "Days_Eng_Ita"
   ]
  },
  {
   "cell_type": "code",
   "execution_count": 53,
   "metadata": {},
   "outputs": [
    {
     "data": {
      "text/plain": [
       "dict"
      ]
     },
     "execution_count": 53,
     "metadata": {},
     "output_type": "execute_result"
    }
   ],
   "source": [
    "type(Days_Eng_Ita)"
   ]
  },
  {
   "cell_type": "code",
   "execution_count": 54,
   "metadata": {
    "colab": {},
    "colab_type": "code",
    "id": "WMhTeS1FFr0z"
   },
   "outputs": [
    {
     "data": {
      "text/plain": [
       "{'Monday': 'Lunedi',\n",
       " 'Tuesday': 'Martedi',\n",
       " 'Wednesday': 'Mercoledi',\n",
       " 'Thursday': 'Geovedi',\n",
       " 'Friday': 'Venerdi',\n",
       " 'Saturday': 'Saboto',\n",
       " 'Sunday': 'Domenica'}"
      ]
     },
     "execution_count": 54,
     "metadata": {},
     "output_type": "execute_result"
    }
   ],
   "source": [
    "# Method-3\n",
    "Days_Eng_Ita = dict(Monday='Lunedi',\n",
    "                    Tuesday='Martedi',\n",
    "                    Wednesday='Mercoledi',\n",
    "                    Thursday='Geovedi',\n",
    "                    Friday='Venerdi',\n",
    "                    Saturday='Saboto',\n",
    "                    Sunday='Domenica'\n",
    "                   )\n",
    "Days_Eng_Ita"
   ]
  },
  {
   "cell_type": "code",
   "execution_count": 55,
   "metadata": {
    "colab": {
     "base_uri": "https://localhost:8080/",
     "height": 34
    },
    "colab_type": "code",
    "id": "fseabgeCGAb_",
    "outputId": "5e6b6e65-9b4b-4327-cad4-bf1e1806f4e6"
   },
   "outputs": [
    {
     "data": {
      "text/plain": [
       "dict"
      ]
     },
     "execution_count": 55,
     "metadata": {},
     "output_type": "execute_result"
    }
   ],
   "source": [
    "type(Days_Eng_Ita)"
   ]
  },
  {
   "cell_type": "code",
   "execution_count": 56,
   "metadata": {
    "colab": {
     "base_uri": "https://localhost:8080/",
     "height": 34
    },
    "colab_type": "code",
    "id": "g0idKCCTGGy7",
    "outputId": "c6977f86-db1e-45af-e20a-8513882a699a"
   },
   "outputs": [
    {
     "data": {
      "text/plain": [
       "'Lunedi'"
      ]
     },
     "execution_count": 56,
     "metadata": {},
     "output_type": "execute_result"
    }
   ],
   "source": [
    "# Accessing Items\n",
    "# You can access the items of a dictionary by referring to its key name, inside square brackets:\n",
    "Days_Eng_Ita['Monday']"
   ]
  },
  {
   "cell_type": "code",
   "execution_count": 57,
   "metadata": {
    "colab": {
     "base_uri": "https://localhost:8080/",
     "height": 34
    },
    "colab_type": "code",
    "id": "3BswhJ_lPY_o",
    "outputId": "92c44f59-0547-490d-b943-0f3d52c884ed"
   },
   "outputs": [
    {
     "data": {
      "text/plain": [
       "'Lunedi'"
      ]
     },
     "execution_count": 57,
     "metadata": {},
     "output_type": "execute_result"
    }
   ],
   "source": [
    "# There is also a method called get() that will give you the same result:\n",
    "Days_Eng_Ita.get('Monday')"
   ]
  },
  {
   "cell_type": "code",
   "execution_count": 58,
   "metadata": {
    "colab": {},
    "colab_type": "code",
    "id": "liOMaMlpGJjP"
   },
   "outputs": [],
   "source": [
    "#  CHANGING VALUES\n",
    "# You can change the value of a specific item by referring to its key name.\n",
    "\n",
    "# There is a typo in one of the days: Thursday. It should be Giovedi\n",
    "# Let's update our library\n",
    "Days_Eng_Ita['Thursday'] = 'Giovedi'"
   ]
  },
  {
   "cell_type": "code",
   "execution_count": 59,
   "metadata": {
    "colab": {
     "base_uri": "https://localhost:8080/",
     "height": 136
    },
    "colab_type": "code",
    "id": "zlAi0nv7Go3r",
    "outputId": "5ae3ff03-8723-4523-9c21-27b9585b8401"
   },
   "outputs": [
    {
     "data": {
      "text/plain": [
       "{'Monday': 'Lunedi',\n",
       " 'Tuesday': 'Martedi',\n",
       " 'Wednesday': 'Mercoledi',\n",
       " 'Thursday': 'Giovedi',\n",
       " 'Friday': 'Venerdi',\n",
       " 'Saturday': 'Saboto',\n",
       " 'Sunday': 'Domenica'}"
      ]
     },
     "execution_count": 59,
     "metadata": {},
     "output_type": "execute_result"
    }
   ],
   "source": [
    "Days_Eng_Ita"
   ]
  },
  {
   "cell_type": "code",
   "execution_count": 60,
   "metadata": {},
   "outputs": [
    {
     "name": "stdout",
     "output_type": "stream",
     "text": [
      "{'a': 'vowel', 'e': 'vowel', 'i': 'vowel', 'o': 'vowel', 'u': 'vowel'}\n"
     ]
    }
   ],
   "source": [
    "# Method-4\n",
    "# Creating a dictionary with keys and a value\n",
    "# Example with vowels and keys\n",
    "keys = ['a', 'e', 'i', 'o', 'u']\n",
    "value = 'vowel'\n",
    "vowels = dict.fromkeys(keys, value)\n",
    "print(vowels)"
   ]
  },
  {
   "cell_type": "markdown",
   "metadata": {},
   "source": [
    "#### Dictionary: Creating Dictionary with Lists and other Dictionaries\n",
    "[Return to Table of Contents](#Table-of-Contents)"
   ]
  },
  {
   "cell_type": "code",
   "execution_count": 61,
   "metadata": {
    "colab": {},
    "colab_type": "code",
    "id": "DFF-qCuKGqpl"
   },
   "outputs": [],
   "source": [
    "# We can also build a dictionary incrementally\n",
    "# Note that relatives is a list within the dictionary instead of a single value like before.\n",
    "# Note that pets is a dictionary within a dictionary.\n",
    "person = {}\n",
    "person['fname'] = 'Jon'\n",
    "person['lname'] = 'Snow'\n",
    "person['age'] = 27\n",
    "person['spouse'] = 'Ygritte'\n",
    "person['relatives'] = ['Ned', 'Robb', 'Sansa','Arya'] # Values here are a list within a dictionary.\n",
    "person['pets'] = {'dog': 'Ghost', 'dragon': 'Drogon'} # Values in here are a dictionary within a dictionary."
   ]
  },
  {
   "cell_type": "code",
   "execution_count": 62,
   "metadata": {},
   "outputs": [
    {
     "data": {
      "text/plain": [
       "{'fname': 'Jon',\n",
       " 'lname': 'Snow',\n",
       " 'age': 27,\n",
       " 'spouse': 'Ygritte',\n",
       " 'relatives': ['Ned', 'Robb', 'Sansa', 'Arya'],\n",
       " 'pets': {'dog': 'Ghost', 'dragon': 'Drogon'}}"
      ]
     },
     "execution_count": 62,
     "metadata": {},
     "output_type": "execute_result"
    }
   ],
   "source": [
    "person"
   ]
  },
  {
   "cell_type": "code",
   "execution_count": 63,
   "metadata": {},
   "outputs": [
    {
     "data": {
      "text/plain": [
       "['Robb', 'Sansa', 'Arya']"
      ]
     },
     "execution_count": 63,
     "metadata": {},
     "output_type": "execute_result"
    }
   ],
   "source": [
    "# Since the dictionary has lists we can use all the functions for lists.\n",
    "# However note that in the dictionary above the list element corresponds to an element in a list in another key.\n",
    "person['relatives'][1:] # Note this is a slice of the elements in position 1 and onwards."
   ]
  },
  {
   "cell_type": "code",
   "execution_count": 64,
   "metadata": {
    "colab": {
     "base_uri": "https://localhost:8080/",
     "height": 34
    },
    "colab_type": "code",
    "id": "67mrXY3lNnk4",
    "outputId": "7e561a6a-0f4e-493f-eb31-fa3f599a916a"
   },
   "outputs": [
    {
     "data": {
      "text/plain": [
       "'Jon'"
      ]
     },
     "execution_count": 64,
     "metadata": {},
     "output_type": "execute_result"
    }
   ],
   "source": [
    "person['fname']"
   ]
  },
  {
   "cell_type": "code",
   "execution_count": 65,
   "metadata": {
    "colab": {
     "base_uri": "https://localhost:8080/",
     "height": 34
    },
    "colab_type": "code",
    "id": "0OrFuPk-Nrx1",
    "outputId": "eddb8914-096f-4b52-aa08-586db5047e1b"
   },
   "outputs": [
    {
     "data": {
      "text/plain": [
       "['Ned', 'Robb', 'Sansa', 'Arya']"
      ]
     },
     "execution_count": 65,
     "metadata": {},
     "output_type": "execute_result"
    }
   ],
   "source": [
    "person['relatives']"
   ]
  },
  {
   "cell_type": "code",
   "execution_count": 66,
   "metadata": {
    "colab": {
     "base_uri": "https://localhost:8080/",
     "height": 34
    },
    "colab_type": "code",
    "id": "x6NG2x8JNxS-",
    "outputId": "14b04215-c7d1-4116-ce8c-1dd811d1ee4d"
   },
   "outputs": [
    {
     "data": {
      "text/plain": [
       "'Ned'"
      ]
     },
     "execution_count": 66,
     "metadata": {},
     "output_type": "execute_result"
    }
   ],
   "source": [
    "# Retrieving the values in the sublist or subdictionary requires an additional index or key:\n",
    "person['relatives'][0]\n",
    "# Because a list is indexed we can use all methods to call elements within lists."
   ]
  },
  {
   "cell_type": "code",
   "execution_count": 67,
   "metadata": {
    "colab": {
     "base_uri": "https://localhost:8080/",
     "height": 34
    },
    "colab_type": "code",
    "id": "3TCe1swRNyIw",
    "outputId": "3a8e688c-3e34-4686-df23-ed6d1b5586f9"
   },
   "outputs": [
    {
     "data": {
      "text/plain": [
       "'Arya'"
      ]
     },
     "execution_count": 67,
     "metadata": {},
     "output_type": "execute_result"
    }
   ],
   "source": [
    "person['relatives'][-1]"
   ]
  },
  {
   "cell_type": "code",
   "execution_count": 68,
   "metadata": {
    "colab": {
     "base_uri": "https://localhost:8080/",
     "height": 34
    },
    "colab_type": "code",
    "id": "eeE6HLApNy1D",
    "outputId": "c794d224-7bba-4007-a8ed-0a6af2877c1f"
   },
   "outputs": [
    {
     "data": {
      "text/plain": [
       "'Ghost'"
      ]
     },
     "execution_count": 68,
     "metadata": {},
     "output_type": "execute_result"
    }
   ],
   "source": [
    "# The first element calls the dictionary under pets, while the scond calls the values of the dog's name.\n",
    "person['pets']['dog']\n",
    "# Note that we could have a list within a dictionary within another dictionary.\n",
    "# In the case above if the person had two dog's we would need a list."
   ]
  },
  {
   "cell_type": "code",
   "execution_count": 69,
   "metadata": {
    "colab": {
     "base_uri": "https://localhost:8080/",
     "height": 119
    },
    "colab_type": "code",
    "id": "IWrQrBvsN2fu",
    "outputId": "10e96627-1e6f-460b-e945-f1afecc94d61"
   },
   "outputs": [
    {
     "name": "stdout",
     "output_type": "stream",
     "text": [
      "fname\n",
      "lname\n",
      "age\n",
      "spouse\n",
      "relatives\n",
      "pets\n"
     ]
    }
   ],
   "source": [
    "# Loop Through a Dictionary\n",
    "# Print all key names in the dictionary, one by one:\n",
    "for x in person:\n",
    "    print(x)"
   ]
  },
  {
   "cell_type": "code",
   "execution_count": 70,
   "metadata": {
    "colab": {
     "base_uri": "https://localhost:8080/",
     "height": 119
    },
    "colab_type": "code",
    "id": "jT__HzzQPyzP",
    "outputId": "16bfd906-f89f-477e-984e-b0e84ea918e8"
   },
   "outputs": [
    {
     "name": "stdout",
     "output_type": "stream",
     "text": [
      "Jon\n",
      "Snow\n",
      "27\n",
      "Ygritte\n",
      "['Ned', 'Robb', 'Sansa', 'Arya']\n",
      "{'dog': 'Ghost', 'dragon': 'Drogon'}\n"
     ]
    }
   ],
   "source": [
    "# Print all values in the dictionary, one by one:\n",
    "for x in person:\n",
    "    print(person[x])"
   ]
  },
  {
   "cell_type": "code",
   "execution_count": 71,
   "metadata": {
    "colab": {
     "base_uri": "https://localhost:8080/",
     "height": 119
    },
    "colab_type": "code",
    "id": "lqE1TV9yP4Vy",
    "outputId": "e8f64302-eae5-41f1-d06d-8fa4bdb8b120"
   },
   "outputs": [
    {
     "name": "stdout",
     "output_type": "stream",
     "text": [
      "Jon\n",
      "Snow\n",
      "27\n",
      "Ygritte\n",
      "['Ned', 'Robb', 'Sansa', 'Arya']\n",
      "{'dog': 'Ghost', 'dragon': 'Drogon'}\n"
     ]
    }
   ],
   "source": [
    "# You can also use the values() function to return values of a dictionary:\n",
    "for x in person.values():\n",
    "    print(x)"
   ]
  },
  {
   "cell_type": "code",
   "execution_count": 72,
   "metadata": {
    "colab": {
     "base_uri": "https://localhost:8080/",
     "height": 119
    },
    "colab_type": "code",
    "id": "S4_KkzB8P_ho",
    "outputId": "90943703-521b-4455-e8fc-aa7306e2cac9"
   },
   "outputs": [
    {
     "name": "stdout",
     "output_type": "stream",
     "text": [
      "fname Jon\n",
      "lname Snow\n",
      "age 27\n",
      "spouse Ygritte\n",
      "relatives ['Ned', 'Robb', 'Sansa', 'Arya']\n",
      "pets {'dog': 'Ghost', 'dragon': 'Drogon'}\n"
     ]
    }
   ],
   "source": [
    "# Loop through both keys and values, by using the items() function:\n",
    "for x, y in person.items():\n",
    "    print(x, y)"
   ]
  },
  {
   "cell_type": "markdown",
   "metadata": {
    "colab": {},
    "colab_type": "code",
    "id": "r4b4_WmsT5Rn"
   },
   "source": [
    "#### Dictionary: Creating Dictionary of Lists\n",
    "[Return to Table of Contents](#Table-of-Contents)\n",
    "\n",
    "In this case let's assume that we have a car database. The values in every key will be made of lists. Each car will have its own index accross all keys. In this case the key would be similar to the features or columns in a spreadsheet table while the index would be the rows of data."
   ]
  },
  {
   "cell_type": "code",
   "execution_count": 73,
   "metadata": {},
   "outputs": [
    {
     "data": {
      "text/plain": [
       "{'brand': ['Ford', 'Chevrolet', 'Dodge', 'Chevrolet', 'Ford'],\n",
       " 'model': ['Mustang', 'Camaro', 'Charger', 'Corvette', 'Mustang'],\n",
       " 'year': [1964, 1969, 1968, 1974, 2001]}"
      ]
     },
     "execution_count": 73,
     "metadata": {},
     "output_type": "execute_result"
    }
   ],
   "source": [
    "car_database ={\"brand\": [\"Ford\", \"Chevrolet\", \"Dodge\", \"Chevrolet\", \"Ford\"],\n",
    "               \"model\": [\"Mustang\", \"Camaro\", \"Charger\", \"Corvette\", \"Mustang\"],\n",
    "               \"year\": [1964, 1969, 1968, 1974, 2001],\n",
    "              }\n",
    "car_database"
   ]
  },
  {
   "cell_type": "code",
   "execution_count": 74,
   "metadata": {},
   "outputs": [
    {
     "data": {
      "text/plain": [
       "['Ford', 'Chevrolet', 'Dodge', 'Chevrolet', 'Ford']"
      ]
     },
     "execution_count": 74,
     "metadata": {},
     "output_type": "execute_result"
    }
   ],
   "source": [
    "# You can call the values or in this case the list within a dictionary key.\n",
    "car_database['brand']"
   ]
  },
  {
   "cell_type": "code",
   "execution_count": 75,
   "metadata": {},
   "outputs": [
    {
     "data": {
      "text/plain": [
       "['Chevrolet', 'Dodge', 'Chevrolet', 'Ford']"
      ]
     },
     "execution_count": 75,
     "metadata": {},
     "output_type": "execute_result"
    }
   ],
   "source": [
    "# Since we are calling a list we can use all the functions for lists.\n",
    "# However note that in the dictionary above the list element corresponds to an element in a list in another key.\n",
    "car_database['brand'][1:] # I can do a slice that returns elements from that in position 1 and onward."
   ]
  },
  {
   "cell_type": "code",
   "execution_count": 76,
   "metadata": {},
   "outputs": [
    {
     "name": "stdout",
     "output_type": "stream",
     "text": [
      "Ford Mustang 1964\n"
     ]
    }
   ],
   "source": [
    "print(car_database['brand'][0], car_database['model'][0], car_database['year'][0])"
   ]
  },
  {
   "cell_type": "code",
   "execution_count": 77,
   "metadata": {},
   "outputs": [
    {
     "name": "stdout",
     "output_type": "stream",
     "text": [
      "Ford Mustang 1964\n"
     ]
    }
   ],
   "source": [
    "# Using the index number I can create a variable that calls for a speicific element.\n",
    "index_element = 0 # Change to 0, 1, 2, etc. to test the outputs.\n",
    "print(car_database['brand'][index_element], car_database['model'][index_element], car_database['year'][index_element])"
   ]
  },
  {
   "cell_type": "code",
   "execution_count": 78,
   "metadata": {},
   "outputs": [
    {
     "data": {
      "text/plain": [
       "1"
      ]
     },
     "execution_count": 78,
     "metadata": {},
     "output_type": "execute_result"
    }
   ],
   "source": [
    "car_database['brand'].index('Chevrolet') \n",
    "# Note that index only calls the first element that matches."
   ]
  },
  {
   "cell_type": "markdown",
   "metadata": {},
   "source": [
    "#### Example:\n",
    "Lets say I want to get all the car models that belong to a brand using an input funciton where I can type the brand. This will be my steps for my code:\n",
    "1. Type brand.\n",
    "2. Iterate thru elements of the brand key and see if it matches the brand I typed.\n",
    "3. If there is a match extract the index of that brand.\n",
    "4. The index of the brand will match models of that brand but instead of the brand key will use the same index under the model key. Take that element and append into the list.\n",
    "\n",
    "Depending on what I need as the output I could not only create a list but create a new dictionary of the brand and the car models under that brand."
   ]
  },
  {
   "cell_type": "code",
   "execution_count": 79,
   "metadata": {},
   "outputs": [
    {
     "name": "stdin",
     "output_type": "stream",
     "text": [
      "Type Ford, Chevrolet or Dodge to find the brand models:  Ford\n"
     ]
    },
    {
     "data": {
      "text/plain": [
       "'Ford'"
      ]
     },
     "execution_count": 79,
     "metadata": {},
     "output_type": "execute_result"
    }
   ],
   "source": [
    "# The input is defined as a variable car_db_brand. Note that this is case sensitive at the moment.\n",
    "car_brand_input = input(prompt = 'Type Ford, Chevrolet or Dodge to find the brand models: ')\n",
    "car_brand_input"
   ]
  },
  {
   "cell_type": "code",
   "execution_count": 80,
   "metadata": {},
   "outputs": [
    {
     "name": "stdout",
     "output_type": "stream",
     "text": [
      "[0, 4]\n"
     ]
    }
   ],
   "source": [
    "# To get all indices of an element we can use a for loop with a if statement.\n",
    "brand_indices = []\n",
    "for i in range(len(car_database['brand'])): # Iterates thru elements of car_database['brand']\n",
    "    if car_database['brand'][i] == car_brand_input: # Compares if the element is the same string as the input.\n",
    "        brand_indices.append(i) # If there is a match grabs the brand index.\n",
    "print(brand_indices) # Chevrolet repeats in two places."
   ]
  },
  {
   "cell_type": "code",
   "execution_count": 81,
   "metadata": {},
   "outputs": [
    {
     "data": {
      "text/plain": [
       "0"
      ]
     },
     "execution_count": 81,
     "metadata": {},
     "output_type": "execute_result"
    }
   ],
   "source": [
    "brand_indices[0] # This is the value of the index 0."
   ]
  },
  {
   "cell_type": "code",
   "execution_count": 82,
   "metadata": {},
   "outputs": [
    {
     "data": {
      "text/plain": [
       "['Mustang', 'Mustang']"
      ]
     },
     "execution_count": 82,
     "metadata": {},
     "output_type": "execute_result"
    }
   ],
   "source": [
    "# However, now with the indices I can get the model for those indices. With the following code.\n",
    "car_models = []\n",
    "\n",
    "for i in range(len(brand_indices)): # Itereates thru the number of elements in brand_indices\n",
    "    car_models.append(car_database['model'][brand_indices[i]]) # Extract the index in the car_database['model']\n",
    "car_models # List of Car models "
   ]
  },
  {
   "cell_type": "code",
   "execution_count": 83,
   "metadata": {},
   "outputs": [
    {
     "name": "stdin",
     "output_type": "stream",
     "text": [
      "Type Ford, Chevrolet or Dodge to find the brand models:  Ford\n"
     ]
    },
    {
     "name": "stdout",
     "output_type": "stream",
     "text": [
      "['Mustang', 'Mustang']\n"
     ]
    }
   ],
   "source": [
    "# Consolidated code: to find Brand Models\n",
    "# Lets say I want to get all the car models that belong to a brand using the input funciton.\n",
    "car_brand_input = input(prompt = 'Type Ford, Chevrolet or Dodge to find the brand models: ')\n",
    "\n",
    "# To get all the models of an element we can use a for loop with a if statement.\n",
    "car_models = []\n",
    "\n",
    "for i in range(len(car_database['brand'])): # Iterates thru the number of elements in the car_database['brand']\n",
    "    if car_database['brand'][i] == car_brand_input: # Compares if the element is the same string as the input.\n",
    "        car_models.append(car_database['model'][i]) # ar_database['model'] at the index where there is a brand match.\n",
    "\n",
    "# car_models = list(set(car_models)) # Removes duplicates.\n",
    "print(car_models)"
   ]
  },
  {
   "cell_type": "markdown",
   "metadata": {},
   "source": [
    "The code above has a few limitations that can be addressed and we will discuss later in class.\n",
    "1. Is case sensitive.\n",
    "2. The brand_indices was a temporary step that was not needed as shown in the \"Consolidated Code\"  but was useful in understanding the steps in the loop.\n",
    "3. The database can have duplicate values in the model and if we need only unique values we would need to add a block of code to get rid of duplicatEs"
   ]
  },
  {
   "cell_type": "markdown",
   "metadata": {},
   "source": [
    "#### Dictionary: Modifying\n",
    "[Return to Table of Contents](#Table-of-Contents)"
   ]
  },
  {
   "cell_type": "code",
   "execution_count": 84,
   "metadata": {
    "colab": {
     "base_uri": "https://localhost:8080/",
     "height": 34
    },
    "colab_type": "code",
    "id": "L18F0xhPQF5G",
    "outputId": "b42c3c9f-93e1-4dc8-f9e5-3c09dfacb83c"
   },
   "outputs": [
    {
     "name": "stdout",
     "output_type": "stream",
     "text": [
      "{'brand': 'Ford', 'model': 'Mustang', 'year': 1964}\n"
     ]
    }
   ],
   "source": [
    "# Let's change our example dictionary into a easier one\n",
    "car_dict = {\"brand\": \"Ford\",\n",
    "            \"model\": \"Mustang\",\n",
    "            \"year\": 1964\n",
    "           }\n",
    "print(car_dict)"
   ]
  },
  {
   "cell_type": "code",
   "execution_count": 85,
   "metadata": {
    "colab": {
     "base_uri": "https://localhost:8080/",
     "height": 34
    },
    "colab_type": "code",
    "id": "aRnWs-YzQXFf",
    "outputId": "f430eaac-3737-4c6d-bdc9-b941a83562d7"
   },
   "outputs": [
    {
     "name": "stdout",
     "output_type": "stream",
     "text": [
      "Yes, model is one of the keys in this dictionary\n"
     ]
    }
   ],
   "source": [
    "# Check if Key Exists\n",
    "key = \"model\"\n",
    "car_dict ={\"brand\": \"Ford\",\n",
    "           \"model\": \"Mustang\",\n",
    "           \"year\": 1964\n",
    "          }\n",
    "if key in car_dict:\n",
    "    print(\"Yes,\", key, \"is one of the keys in this dictionary\")\n",
    "else:\n",
    "    print(\"No,\", key, \"is not one of the keys in this dictionary\")"
   ]
  },
  {
   "cell_type": "code",
   "execution_count": 86,
   "metadata": {
    "colab": {
     "base_uri": "https://localhost:8080/",
     "height": 34
    },
    "colab_type": "code",
    "id": "y3dYnWj1QuPU",
    "outputId": "208bb049-d28c-43f3-be84-aa2ce53453d8"
   },
   "outputs": [
    {
     "name": "stdout",
     "output_type": "stream",
     "text": [
      "No, weight is not one of the keys in this dictionary\n"
     ]
    }
   ],
   "source": [
    "key = \"weight\"\n",
    "if key in car_dict:\n",
    "    print(\"Yes,\", key, \"is one of the keys in this dictionary\")\n",
    "else:\n",
    "    print(\"No,\", key, \"is not one of the keys in this dictionary\")"
   ]
  },
  {
   "cell_type": "code",
   "execution_count": 87,
   "metadata": {
    "colab": {
     "base_uri": "https://localhost:8080/",
     "height": 34
    },
    "colab_type": "code",
    "id": "LPQ633u_QzTS",
    "outputId": "d9b1c6d5-b088-42ba-97b8-a0c41ca89549"
   },
   "outputs": [
    {
     "name": "stdout",
     "output_type": "stream",
     "text": [
      "3\n"
     ]
    }
   ],
   "source": [
    "# To determine how many items (key-value pairs) a dictionary has, use the len() method.\n",
    "print(len(car_dict))"
   ]
  },
  {
   "cell_type": "code",
   "execution_count": 88,
   "metadata": {
    "colab": {
     "base_uri": "https://localhost:8080/",
     "height": 34
    },
    "colab_type": "code",
    "id": "VyO4N-s_Q4yr",
    "outputId": "04e4238f-d6a3-469e-ee93-b5ab2cad5557"
   },
   "outputs": [
    {
     "name": "stdout",
     "output_type": "stream",
     "text": [
      "{'brand': 'Ford', 'model': 'Mustang', 'year': 1964, 'color': 'red'}\n"
     ]
    }
   ],
   "source": [
    "# Adding Items\n",
    "# Adding an item to the dictionary is done by using a new index key\n",
    "# and assigning a value to it:\n",
    "car_dict = {\"brand\": \"Ford\", \n",
    "            \"model\": \"Mustang\",\n",
    "            \"year\": 1964\n",
    "           }\n",
    "\n",
    "car_dict[\"color\"] = \"red\" # This method that creates a new key (e.g., color) and adding a value (e.g., red).\n",
    "print(car_dict)"
   ]
  },
  {
   "cell_type": "code",
   "execution_count": 89,
   "metadata": {},
   "outputs": [
    {
     "name": "stdout",
     "output_type": "stream",
     "text": [
      "4\n"
     ]
    }
   ],
   "source": [
    "print(len(car_dict))\n",
    "# Note that my car_dict now has 4 keys."
   ]
  },
  {
   "cell_type": "code",
   "execution_count": 90,
   "metadata": {
    "colab": {
     "base_uri": "https://localhost:8080/",
     "height": 34
    },
    "colab_type": "code",
    "id": "kHqPiMBiTqE3",
    "outputId": "46669129-1711-411d-8b04-beb9336fc78d"
   },
   "outputs": [
    {
     "name": "stdout",
     "output_type": "stream",
     "text": [
      "{'brand': 'Ford', 'model': 'Mustang', 'year': 2019, 'color': 'White'}\n"
     ]
    }
   ],
   "source": [
    "# We can also use update()\n",
    "car_dict = {\"brand\": \"Ford\",\n",
    "            \"model\": \"Mustang\",\n",
    "            \"year\": 2019\n",
    "           }\n",
    "\n",
    "car_dict.update({\"color\": \"White\"}) # With update I am creating a new key (e.g., color) and adding a value (e.g., red).\n",
    "print(car_dict)"
   ]
  },
  {
   "cell_type": "code",
   "execution_count": 91,
   "metadata": {},
   "outputs": [
    {
     "name": "stdout",
     "output_type": "stream",
     "text": [
      "4\n"
     ]
    }
   ],
   "source": [
    "print(len(car_dict))"
   ]
  },
  {
   "cell_type": "code",
   "execution_count": 92,
   "metadata": {
    "colab": {
     "base_uri": "https://localhost:8080/",
     "height": 34
    },
    "colab_type": "code",
    "id": "FxyZPZOfRG9L",
    "outputId": "42807b28-b3db-456d-a43b-ec2eba419cc1"
   },
   "outputs": [
    {
     "name": "stdout",
     "output_type": "stream",
     "text": [
      "{'brand': 'Ford', 'year': 1964}\n"
     ]
    }
   ],
   "source": [
    "# Removing Items\n",
    "# There are several methods to remove items from a dictionary.\n",
    "# Method-1: The pop() method removes the item with the specified key name\n",
    "car_dict = {\"brand\": \"Ford\",\n",
    "            \"model\": \"Mustang\",\n",
    "            \"year\": 1964\n",
    "           }\n",
    "\n",
    "car_dict.pop(\"model\") # Pop results in removing the model key and its values.\n",
    "print(car_dict)"
   ]
  },
  {
   "cell_type": "code",
   "execution_count": 93,
   "metadata": {
    "colab": {
     "base_uri": "https://localhost:8080/",
     "height": 34
    },
    "colab_type": "code",
    "id": "srjukYmcROHy",
    "outputId": "3ecbaca0-cb1e-4a6e-c0ae-92ebb93e8208"
   },
   "outputs": [
    {
     "name": "stdout",
     "output_type": "stream",
     "text": [
      "{'brand': 'Ford', 'model': 'Mustang'}\n"
     ]
    }
   ],
   "source": [
    "# The popitem() method removes a random item!\n",
    "car_dict = {\"brand\": \"Ford\",\n",
    "            \"model\": \"Mustang\",\n",
    "            \"year\": 1964,\n",
    "           }\n",
    "\n",
    "car_dict.popitem() # Popitem results in removing a last item/key and its values.\n",
    "print(car_dict)"
   ]
  },
  {
   "cell_type": "code",
   "execution_count": 94,
   "metadata": {
    "colab": {},
    "colab_type": "code",
    "id": "4AqaS_CsRb9B"
   },
   "outputs": [],
   "source": [
    "# Removing an item with a specific key\n",
    "# The del keyword removes the item with the specified key name."
   ]
  },
  {
   "cell_type": "code",
   "execution_count": 95,
   "metadata": {
    "colab": {
     "base_uri": "https://localhost:8080/",
     "height": 34
    },
    "colab_type": "code",
    "id": "O0pH5NuyRmNZ",
    "outputId": "17f95f7d-229b-4688-bf6a-d29c9723654d"
   },
   "outputs": [
    {
     "name": "stdout",
     "output_type": "stream",
     "text": [
      "{'brand': 'Ford', 'year': 1964}\n"
     ]
    }
   ],
   "source": [
    "car_dict = {\"brand\": \"Ford\",\n",
    "            \"model\": \"Mustang\",\n",
    "            \"year\": 1964\n",
    "           }\n",
    "\n",
    "del car_dict[\"model\"]\n",
    "print(car_dict)"
   ]
  },
  {
   "cell_type": "code",
   "execution_count": 96,
   "metadata": {
    "colab": {},
    "colab_type": "code",
    "id": "C8WlRMUaRnYG"
   },
   "outputs": [],
   "source": [
    "# The del keyword can also delete the dictionary completely:\n",
    "car_dict = {\"brand\": \"Ford\", \n",
    "            \"model\": \"Mustang\",\n",
    "            \"year\": 1964\n",
    "           }\n",
    "del car_dict"
   ]
  },
  {
   "cell_type": "code",
   "execution_count": 97,
   "metadata": {},
   "outputs": [
    {
     "ename": "NameError",
     "evalue": "name 'car_dict' is not defined",
     "output_type": "error",
     "traceback": [
      "\u001b[1;31m---------------------------------------------------------------------------\u001b[0m",
      "\u001b[1;31mNameError\u001b[0m                                 Traceback (most recent call last)",
      "Cell \u001b[1;32mIn[97], line 1\u001b[0m\n\u001b[1;32m----> 1\u001b[0m car_dict\n",
      "\u001b[1;31mNameError\u001b[0m: name 'car_dict' is not defined"
     ]
    }
   ],
   "source": [
    "car_dict # Recall car_dict is deleted and does note exist."
   ]
  },
  {
   "cell_type": "code",
   "execution_count": 98,
   "metadata": {
    "colab": {
     "base_uri": "https://localhost:8080/",
     "height": 34
    },
    "colab_type": "code",
    "id": "fq3_Kc6xRrkK",
    "outputId": "94bd7f73-ca4b-4304-d4f9-ca14dbd75810"
   },
   "outputs": [
    {
     "name": "stdout",
     "output_type": "stream",
     "text": [
      "{}\n"
     ]
    }
   ],
   "source": [
    "# The clear() keyword empties the dictionary:\n",
    "car_dict = {\"brand\": \"Ford\",\n",
    "            \"model\": \"Mustang\", \n",
    "            \"year\": 1964\n",
    "           }\n",
    "\n",
    "car_dict.clear() # Clears the dictionary data but still has a blank dictionary.\n",
    "print(car_dict)"
   ]
  },
  {
   "cell_type": "markdown",
   "metadata": {},
   "source": [
    "#### Dictionaries: Copying\n",
    "[Return to Table of Contents](#Table-of-Contents)\n",
    "\n",
    "Same as lists, you cannot copy a dictionary simply by typing dict2 = dict1, because: dict2 will only be a reference to dict1, and changes made in dict1 will automatically also be made in dict2. There are various ways to make a copy "
   ]
  },
  {
   "cell_type": "code",
   "execution_count": 99,
   "metadata": {},
   "outputs": [
    {
     "name": "stdout",
     "output_type": "stream",
     "text": [
      "{'brand': 'Ford', 'model': 'Mustang', 'year': 1964}\n"
     ]
    }
   ],
   "source": [
    "# one way is to use the built-in Dictionary method copy().\n",
    "car_dict = {\"brand\": \"Ford\",\n",
    "            \"model\": \"Mustang\",\n",
    "            \"year\": 1964\n",
    "           }\n",
    "\n",
    "dict_clone = car_dict.copy()\n",
    "print(dict_clone)"
   ]
  },
  {
   "cell_type": "code",
   "execution_count": 100,
   "metadata": {
    "colab": {
     "base_uri": "https://localhost:8080/",
     "height": 34
    },
    "colab_type": "code",
    "id": "S__1MArwR-Wg",
    "outputId": "7b625ab0-4727-41aa-e0f1-d13277989116"
   },
   "outputs": [
    {
     "name": "stdout",
     "output_type": "stream",
     "text": [
      "{'brand': 'Ford', 'model': 'Mustang', 'year': 1964}\n"
     ]
    }
   ],
   "source": [
    "# Another way to make a copy is to use the built-in method dict().\n",
    "car_dict = {\"brand\": \"Ford\",\n",
    "            \"model\": \"Mustang\",\n",
    "            \"year\": 1964\n",
    "           }\n",
    "\n",
    "dict_clone = dict(car_dict)\n",
    "print(dict_clone)"
   ]
  },
  {
   "cell_type": "code",
   "execution_count": 101,
   "metadata": {
    "colab": {
     "base_uri": "https://localhost:8080/",
     "height": 34
    },
    "colab_type": "code",
    "id": "N7fU61UdSlDz",
    "outputId": "14ee0b80-d17d-441e-c017-ceb676f43b6d"
   },
   "outputs": [
    {
     "data": {
      "text/plain": [
       "dict_items([('brand', 'Ford'), ('model', 'Mustang'), ('year', 1964)])"
      ]
     },
     "execution_count": 101,
     "metadata": {},
     "output_type": "execute_result"
    }
   ],
   "source": [
    "# Key-value pairs\n",
    "car_dict = {\"brand\": \"Ford\",\n",
    "            \"model\": \"Mustang\",\n",
    "            \"year\": 1964\n",
    "           }\n",
    "car_dict.items()"
   ]
  },
  {
   "cell_type": "code",
   "execution_count": 102,
   "metadata": {
    "colab": {
     "base_uri": "https://localhost:8080/",
     "height": 34
    },
    "colab_type": "code",
    "id": "j7Nzv6ZPTa2e",
    "outputId": "0b1bde9c-2880-4b85-c0e3-438fd675b19f"
   },
   "outputs": [
    {
     "data": {
      "text/plain": [
       "dict_keys(['brand', 'model', 'year'])"
      ]
     },
     "execution_count": 102,
     "metadata": {},
     "output_type": "execute_result"
    }
   ],
   "source": [
    "car_dict.keys()"
   ]
  },
  {
   "cell_type": "code",
   "execution_count": 103,
   "metadata": {
    "colab": {
     "base_uri": "https://localhost:8080/",
     "height": 34
    },
    "colab_type": "code",
    "id": "EcuF1kKUT35M",
    "outputId": "c5b5ba64-9035-4a2b-8eed-e5a61dbb73d0"
   },
   "outputs": [
    {
     "data": {
      "text/plain": [
       "dict_values(['Ford', 'Mustang', 1964])"
      ]
     },
     "execution_count": 103,
     "metadata": {},
     "output_type": "execute_result"
    }
   ],
   "source": [
    "car_dict.values()"
   ]
  },
  {
   "cell_type": "markdown",
   "metadata": {},
   "source": [
    "# Sets and Tuples\n",
    "[Return to Table of Contents](#Table-of-Contents)\n",
    "\n",
    "Sets and Tuples are the other data collections within the base Python code. Although we will not discussing Sets and Tuples data collections in detail in the lecture, it is importatnt to understand each data collection characteristics as discussed in the \"Table: Summary of Collection Properties\" above. In practice, the most common use of sets is to remove duplicates from a list by converting a list to a set and back to a list. The other common use of Tuples is as an output to some functions that we will explore during the class.\n",
    "\n",
    "As we saw earlier, data can be converted between different type of data collections the functions list(), tupple(), set() and dict(). These conversions can help leverage the characteristics of each data collection for our advantage. \n",
    "\n",
    "However, note that some properties of the data collections can affect the elements during the conversion. In the end of section [Lists: Add and Remove Elements](#Lists:-Add-and-Remove-Elements) we took advantage of some of this properties that don't allow to have duplicates to identify unique values within a list by converting the initial list to a set or dictionary (which do not allow duplicates) and then back to a list, now without duplicate values. When converting between data collections be aware of these intended or unintended consequences. "
   ]
  },
  {
   "cell_type": "markdown",
   "metadata": {
    "colab": {},
    "colab_type": "code",
    "id": "sCYoomaHeA79"
   },
   "source": [
    "# Sets (Optional)\n",
    "[Return to Table of Contents](#Table-of-Contents)\n",
    "\n",
    "Sets only similarity to lists is that they are changable. They are not ordered, do not allow duplicates and does not have indexed elements. Sets are defined as a variable using curly brachets, {}. To construct a set, you can use the set() function.\n",
    "\n",
    "You cannot access items in a set by referring to an index, since sets are unordered the items has no index. What we can do?\n",
    "- We can loop through the set items using a for loop\n",
    "- We can ask if a specified value is present in a set, by using the in keyword.\n",
    "\n",
    "The following are common functions used with sets:\n",
    "- add(): Adds an element to the set\n",
    "- clear(): Removes all the elements from the set\n",
    "- copy(): Returns a copy of the set\n",
    "- update(): Adds the multiple to a set\n",
    "- discard(): Removes the element from the set\n",
    "- remove(): Removes the element from the set\n",
    "\n",
    "The following functions can be used when comparing and working with two sets:\n",
    "- difference(): method returns a new set, without the unwanted items,\n",
    "- difference_update(): method removes the unwanted items from the original set.\n",
    "- intersection() method returns a new set, without the unwanted items\n",
    "- intersection_update() method removes the unwanted items from the original set.\n",
    "- union(): Merges sets\n",
    "- issubset(): Returns 1 if subset\n",
    "- issuperset(): Returns 1 if superset"
   ]
  },
  {
   "cell_type": "code",
   "execution_count": 104,
   "metadata": {
    "colab": {
     "base_uri": "https://localhost:8080/",
     "height": 34
    },
    "colab_type": "code",
    "id": "6skR1GoIfyvi",
    "outputId": "d9b14bb7-8ba3-4254-e482-855208ec5120"
   },
   "outputs": [
    {
     "name": "stdout",
     "output_type": "stream",
     "text": [
      "{'cherry', 'apple', 'banana'}\n"
     ]
    }
   ],
   "source": [
    "# A set is a collection which is unordered and unindexed. \n",
    "# In Python sets are written with curly brackets.\n",
    "fruits_set = {\"apple\", \"banana\", \"cherry\"}\n",
    "print(fruits_set)"
   ]
  },
  {
   "cell_type": "code",
   "execution_count": 105,
   "metadata": {
    "colab": {
     "base_uri": "https://localhost:8080/",
     "height": 68
    },
    "colab_type": "code",
    "id": "8dleW7Odf7A-",
    "outputId": "f1d659c2-9746-4df4-d561-5866ca7d834a"
   },
   "outputs": [
    {
     "name": "stdout",
     "output_type": "stream",
     "text": [
      "cherry\n",
      "apple\n",
      "banana\n"
     ]
    }
   ],
   "source": [
    "# Access Items\n",
    "# You cannot access items in a set by referring to an index, \n",
    "# since sets are unordered the items has no index.\n",
    "# \n",
    "# But you can loop through the set items using a for loop\n",
    "fruits_set = {\"apple\", \"banana\", \"cherry\"}\n",
    "for x in fruits_set:\n",
    "    print(x)"
   ]
  },
  {
   "cell_type": "code",
   "execution_count": 106,
   "metadata": {
    "colab": {
     "base_uri": "https://localhost:8080/",
     "height": 51
    },
    "colab_type": "code",
    "id": "M3tZuj0UgIto",
    "outputId": "8c2d2445-06c5-4751-a218-2e428da59f6f"
   },
   "outputs": [
    {
     "name": "stdout",
     "output_type": "stream",
     "text": [
      "True\n",
      "False\n"
     ]
    }
   ],
   "source": [
    "# and you can ask if a specified value is present in a set, by using the in keyword.\n",
    "fruits_set = {\"apple\", \"banana\", \"cherry\"}\n",
    "print(\"banana\" in fruits_set)\n",
    "print(\"grape\" in fruits_set)"
   ]
  },
  {
   "cell_type": "code",
   "execution_count": 107,
   "metadata": {
    "colab": {
     "base_uri": "https://localhost:8080/",
     "height": 34
    },
    "colab_type": "code",
    "id": "GknSV5pwgrqB",
    "outputId": "8204eb35-5a6d-4c4d-dcce-9d223718ca59"
   },
   "outputs": [
    {
     "name": "stdout",
     "output_type": "stream",
     "text": [
      "3\n"
     ]
    }
   ],
   "source": [
    "# Get the Length of a Set\n",
    "# To determine how many items a set has, use the len() method.\n",
    "fruits_set = {\"apple\", \"banana\", \"cherry\"}\n",
    "print(len(fruits_set))"
   ]
  },
  {
   "cell_type": "code",
   "execution_count": 108,
   "metadata": {},
   "outputs": [
    {
     "name": "stdout",
     "output_type": "stream",
     "text": [
      "{'cherry', 'apple', 'banana'}\n"
     ]
    }
   ],
   "source": [
    "# It is also possible to use the set() constructor to make a set.\n",
    "fruits_set = set((\"apple\", \"banana\", \"cherry\")) \n",
    "# note the double round-brackets\n",
    "print(fruits_set)"
   ]
  },
  {
   "cell_type": "markdown",
   "metadata": {},
   "source": [
    "#### Sets: Add and Removing Elements\n",
    "[Return to Table of Contents](#Table-of-Contents)"
   ]
  },
  {
   "cell_type": "code",
   "execution_count": 109,
   "metadata": {
    "colab": {
     "base_uri": "https://localhost:8080/",
     "height": 34
    },
    "colab_type": "code",
    "id": "3WtsUKuRgSoZ",
    "outputId": "6a07751d-4fb8-48c4-9b47-3737100f6130"
   },
   "outputs": [
    {
     "name": "stdout",
     "output_type": "stream",
     "text": [
      "{'cherry', 'apple', 'banana', 'orange'}\n"
     ]
    }
   ],
   "source": [
    "# Change Items\n",
    "# Once a set is created, you cannot change its items, but you can add new items.\n",
    "\n",
    "# Add Items\n",
    "# Method-1: To add one item to a set use the add() method.\n",
    "fruits_set = {\"apple\", \"banana\", \"cherry\"}\n",
    "fruits_set.add(\"orange\")\n",
    "print(fruits_set)"
   ]
  },
  {
   "cell_type": "code",
   "execution_count": 110,
   "metadata": {
    "colab": {
     "base_uri": "https://localhost:8080/",
     "height": 34
    },
    "colab_type": "code",
    "id": "ehUDQZsBgnHZ",
    "outputId": "3a8fac4d-6370-4db9-c77f-c545191afcf2"
   },
   "outputs": [
    {
     "name": "stdout",
     "output_type": "stream",
     "text": [
      "{'grapes', 'mango', 'apple', 'banana', 'cherry', 'orange'}\n"
     ]
    }
   ],
   "source": [
    "# Add Items\n",
    "# Method-2: To add more than one item to a set use the update() method.\n",
    "fruits_set = {\"apple\", \"banana\", \"cherry\"}\n",
    "fruits_set.update([\"orange\", \"mango\", \"grapes\"])\n",
    "print(fruits_set)"
   ]
  },
  {
   "cell_type": "code",
   "execution_count": 111,
   "metadata": {
    "colab": {
     "base_uri": "https://localhost:8080/",
     "height": 34
    },
    "colab_type": "code",
    "id": "f0alDGmygyJR",
    "outputId": "236804b4-9481-42b2-ee33-95b01b4989e5"
   },
   "outputs": [
    {
     "name": "stdout",
     "output_type": "stream",
     "text": [
      "{'cherry', 'apple'}\n"
     ]
    }
   ],
   "source": [
    "# Remove Item\n",
    "# To remove an item in a set, use the remove(), or the discard() method.\n",
    "fruits_set = {\"apple\", \"banana\", \"cherry\"}\n",
    "fruits_set.remove(\"banana\")\n",
    "print(fruits_set)"
   ]
  },
  {
   "cell_type": "code",
   "execution_count": 112,
   "metadata": {
    "colab": {
     "base_uri": "https://localhost:8080/",
     "height": 34
    },
    "colab_type": "code",
    "id": "AOUsh262g4MZ",
    "outputId": "3be65db4-b853-43b4-b2d6-a4d4a08a12ad"
   },
   "outputs": [
    {
     "name": "stdout",
     "output_type": "stream",
     "text": [
      "{'cherry', 'apple'}\n"
     ]
    }
   ],
   "source": [
    "fruits_set = {\"apple\", \"banana\", \"cherry\"}\n",
    "fruits_set.discard(\"banana\")\n",
    "print(fruits_set)"
   ]
  },
  {
   "cell_type": "code",
   "execution_count": 113,
   "metadata": {
    "colab": {},
    "colab_type": "code",
    "id": "jvxWIK4sg6Tp"
   },
   "outputs": [],
   "source": [
    "# What is the difference between remove and discard\n",
    "# If the item to remove does not exist, \n",
    "#remove() will raise an error but\n",
    "#discard() will NOT raise an error."
   ]
  },
  {
   "cell_type": "code",
   "execution_count": 114,
   "metadata": {
    "colab": {
     "base_uri": "https://localhost:8080/",
     "height": 51
    },
    "colab_type": "code",
    "id": "Yvf7pqAehKp5",
    "outputId": "5485efcf-33b9-4e88-fdf8-69455aad2853"
   },
   "outputs": [
    {
     "name": "stdout",
     "output_type": "stream",
     "text": [
      "cherry\n",
      "{'apple', 'banana'}\n"
     ]
    }
   ],
   "source": [
    "# Remove an item by using the pop() method:\n",
    "fruits_set = {\"apple\", \"banana\", \"cherry\"}\n",
    "x = fruits_set.pop()\n",
    "print(x)\n",
    "print(fruits_set)"
   ]
  },
  {
   "cell_type": "code",
   "execution_count": 115,
   "metadata": {
    "colab": {},
    "colab_type": "code",
    "id": "4dRmeDChhQ65"
   },
   "outputs": [],
   "source": [
    "# NOTE THAT: Sets are unordered, so when using the \n",
    "# pop() method, you will not know which item that gets removed."
   ]
  },
  {
   "cell_type": "markdown",
   "metadata": {},
   "source": [
    "#### Sets: Delete and Clear Sets\n",
    "[Return to Table of Contents](#Table-of-Contents)"
   ]
  },
  {
   "cell_type": "code",
   "execution_count": 116,
   "metadata": {
    "colab": {
     "base_uri": "https://localhost:8080/",
     "height": 34
    },
    "colab_type": "code",
    "id": "NHfnhMrvhct4",
    "outputId": "204334c6-f477-4969-a504-5093e3786e75"
   },
   "outputs": [
    {
     "name": "stdout",
     "output_type": "stream",
     "text": [
      "set()\n"
     ]
    }
   ],
   "source": [
    "# The clear() method empties the set:\n",
    "fruits_set = {\"apple\", \"banana\", \"cherry\"}\n",
    "fruits_set.clear()\n",
    "print(fruits_set)"
   ]
  },
  {
   "cell_type": "code",
   "execution_count": 117,
   "metadata": {
    "colab": {},
    "colab_type": "code",
    "id": "_Rd1Yc8GhgBJ"
   },
   "outputs": [],
   "source": [
    "# The del keyword will delete the set completely:\n",
    "fruits_set = {\"apple\", \"banana\", \"cherry\"}\n",
    "del fruits_set"
   ]
  },
  {
   "cell_type": "markdown",
   "metadata": {},
   "source": [
    "#### Sets: Copying\n",
    "[Return to Table of Contents](#Table-of-Contents)"
   ]
  },
  {
   "cell_type": "code",
   "execution_count": 118,
   "metadata": {
    "colab": {
     "base_uri": "https://localhost:8080/",
     "height": 34
    },
    "colab_type": "code",
    "id": "VF836liChqXA",
    "outputId": "e3810d7b-0628-4e33-eb46-a0c42184cb60"
   },
   "outputs": [
    {
     "name": "stdout",
     "output_type": "stream",
     "text": [
      "{'cherry', 'apple', 'banana'}\n"
     ]
    }
   ],
   "source": [
    "#  Copying a set\n",
    "fruits_set = {\"apple\", \"banana\", \"cherry\"}\n",
    "x = fruits_set.copy()\n",
    "print(x)"
   ]
  },
  {
   "cell_type": "markdown",
   "metadata": {},
   "source": [
    "#### Sets: Comparing Sets\n",
    "[Return to Table of Contents](#Table-of-Contents)"
   ]
  },
  {
   "cell_type": "code",
   "execution_count": 119,
   "metadata": {
    "colab": {
     "base_uri": "https://localhost:8080/",
     "height": 34
    },
    "colab_type": "code",
    "id": "J7bASc8Oh4wg",
    "outputId": "4b648dd5-b726-4995-9d7c-b63b9a26813e"
   },
   "outputs": [
    {
     "name": "stdout",
     "output_type": "stream",
     "text": [
      "{'cherry', 'banana'}\n"
     ]
    }
   ],
   "source": [
    "# Finding the differences between two sets\n",
    "# x.difference(y) method return a set that contains the \n",
    "# items that only exist in set x, and not in set y:\n",
    "x = {\"apple\", \"banana\", \"cherry\"}\n",
    "y = {\"google\", \"microsoft\", \"apple\"}\n",
    "z = x.difference(y) \n",
    "print(z)"
   ]
  },
  {
   "cell_type": "code",
   "execution_count": 120,
   "metadata": {
    "colab": {
     "base_uri": "https://localhost:8080/",
     "height": 34
    },
    "colab_type": "code",
    "id": "1r3cyGG8iOOR",
    "outputId": "9691b167-f03e-4dd1-f178-6e4e16c45842"
   },
   "outputs": [
    {
     "name": "stdout",
     "output_type": "stream",
     "text": [
      "{'cherry', 'banana'}\n"
     ]
    }
   ],
   "source": [
    "# Removing the items that exist in both sets\n",
    "x = {\"apple\", \"banana\", \"cherry\"}\n",
    "y = {\"google\", \"microsoft\", \"apple\"}\n",
    "x.difference_update(y) \n",
    "print(x)"
   ]
  },
  {
   "cell_type": "code",
   "execution_count": 121,
   "metadata": {
    "colab": {},
    "colab_type": "code",
    "id": "5LxeaQ6EimTh"
   },
   "outputs": [],
   "source": [
    "# note that the difference() method returns a new set, without the unwanted items,\n",
    "# difference_update() method removes the unwanted items from the original set."
   ]
  },
  {
   "cell_type": "code",
   "execution_count": 122,
   "metadata": {
    "colab": {
     "base_uri": "https://localhost:8080/",
     "height": 34
    },
    "colab_type": "code",
    "id": "_glnrC9vivUx",
    "outputId": "371ab7e5-7441-42f4-f844-6f77820c534e"
   },
   "outputs": [
    {
     "name": "stdout",
     "output_type": "stream",
     "text": [
      "{'apple'}\n"
     ]
    }
   ],
   "source": [
    "# Finding the items that exist in two sets\n",
    "x = {\"apple\", \"banana\", \"cherry\"}\n",
    "y = {\"google\", \"microsoft\", \"apple\"}\n",
    "z = x.intersection(y) \n",
    "print(z)"
   ]
  },
  {
   "cell_type": "code",
   "execution_count": 123,
   "metadata": {
    "colab": {
     "base_uri": "https://localhost:8080/",
     "height": 34
    },
    "colab_type": "code",
    "id": "XNEOj55Li6Fh",
    "outputId": "b5bae4bd-1fbd-46f6-8a00-beec11dfe0be"
   },
   "outputs": [
    {
     "name": "stdout",
     "output_type": "stream",
     "text": [
      "{'apple'}\n"
     ]
    }
   ],
   "source": [
    "# x.intersection_update(y) removes the items that is not present in both x, and set y:\n",
    "x = {\"apple\", \"banana\", \"cherry\"}\n",
    "y = {\"google\", \"microsoft\", \"apple\"}\n",
    "x.intersection_update(y) \n",
    "print(x)"
   ]
  },
  {
   "cell_type": "code",
   "execution_count": 124,
   "metadata": {
    "colab": {},
    "colab_type": "code",
    "id": "o-99-YEUjEzB"
   },
   "outputs": [],
   "source": [
    "# again, the intersection() method returns a new set, without the unwanted items\n",
    "# intersection_update() method removes the unwanted items from the original set."
   ]
  },
  {
   "cell_type": "code",
   "execution_count": 125,
   "metadata": {
    "colab": {
     "base_uri": "https://localhost:8080/",
     "height": 34
    },
    "colab_type": "code",
    "id": "KiYSXyj5jN1w",
    "outputId": "c4603d1d-af3b-4a34-d28c-de3a7614c0a2"
   },
   "outputs": [
    {
     "name": "stdout",
     "output_type": "stream",
     "text": [
      "{'apple', 'banana', 'google', 'cherry', 'microsoft'}\n"
     ]
    }
   ],
   "source": [
    "# Merging sets\n",
    "# union() return a set that contains all items from both sets, duplicates are excluded:\n",
    "x = {\"apple\", \"banana\", \"cherry\"}\n",
    "y = {\"google\", \"microsoft\", \"apple\"}\n",
    "z = x.union(y) \n",
    "print(z)"
   ]
  },
  {
   "cell_type": "code",
   "execution_count": 126,
   "metadata": {
    "colab": {
     "base_uri": "https://localhost:8080/",
     "height": 34
    },
    "colab_type": "code",
    "id": "RJVW3fccjcVw",
    "outputId": "aee9b3dc-4253-4bb4-c9f3-7187a5c52ef1"
   },
   "outputs": [
    {
     "name": "stdout",
     "output_type": "stream",
     "text": [
      "True\n"
     ]
    }
   ],
   "source": [
    "# Determining whether two sets are completely different\n",
    "# isdisjoint() return True if no items in set x is present in set y:\n",
    "x = {\"apple\", \"banana\", \"cherry\"}\n",
    "y = {\"google\", \"microsoft\", \"facebook\"}\n",
    "z = x.isdisjoint(y)\n",
    "print(z)"
   ]
  },
  {
   "cell_type": "code",
   "execution_count": 127,
   "metadata": {
    "colab": {
     "base_uri": "https://localhost:8080/",
     "height": 34
    },
    "colab_type": "code",
    "id": "2qwQTxBrjxf5",
    "outputId": "43e0362b-ce34-4771-9906-6caad4d8edc1"
   },
   "outputs": [
    {
     "name": "stdout",
     "output_type": "stream",
     "text": [
      "False\n"
     ]
    }
   ],
   "source": [
    "x = {\"apple\", \"banana\", \"cherry\"}\n",
    "y = {\"google\", \"microsoft\", \"apple\"}\n",
    "z = x.isdisjoint(y) \n",
    "print(z)"
   ]
  },
  {
   "cell_type": "code",
   "execution_count": 128,
   "metadata": {
    "colab": {
     "base_uri": "https://localhost:8080/",
     "height": 34
    },
    "colab_type": "code",
    "id": "3AFnjpZkj2Dh",
    "outputId": "182d67fa-6f4b-4d4b-c133-73e36a273a1e"
   },
   "outputs": [
    {
     "name": "stdout",
     "output_type": "stream",
     "text": [
      "True\n"
     ]
    }
   ],
   "source": [
    "# Determining whether x is a subset of y\n",
    "# issubset() teturns True if all items set x are present in set y:\n",
    "x = {\"a\", \"b\", \"c\"}\n",
    "y = {\"f\", \"e\", \"d\", \"c\", \"b\", \"a\"}\n",
    "z = x.issubset(y) \n",
    "print(z)"
   ]
  },
  {
   "cell_type": "code",
   "execution_count": 129,
   "metadata": {
    "colab": {
     "base_uri": "https://localhost:8080/",
     "height": 34
    },
    "colab_type": "code",
    "id": "g9Avo-qykBqR",
    "outputId": "7d67354d-02d2-4e10-ad3f-f07b0d6b91a7"
   },
   "outputs": [
    {
     "name": "stdout",
     "output_type": "stream",
     "text": [
      "True\n"
     ]
    }
   ],
   "source": [
    "# issuperset() returns True if all items set y are present in set x:\n",
    "x = {\"f\", \"e\", \"d\", \"c\", \"b\", \"a\"}\n",
    "y = {\"a\", \"b\", \"c\"}\n",
    "z = x.issuperset(y)\n",
    "print(z)"
   ]
  },
  {
   "cell_type": "code",
   "execution_count": 130,
   "metadata": {
    "colab": {
     "base_uri": "https://localhost:8080/",
     "height": 51
    },
    "colab_type": "code",
    "id": "Yvf7pqAehKp5",
    "outputId": "5485efcf-33b9-4e88-fdf8-69455aad2853"
   },
   "outputs": [
    {
     "name": "stdout",
     "output_type": "stream",
     "text": [
      "cherry\n",
      "{'apple', 'banana'}\n"
     ]
    }
   ],
   "source": [
    "# Remove an item by using the pop() method:\n",
    "fruits_set = {\"apple\", \"banana\", \"cherry\"}\n",
    "x = fruits_set.pop()\n",
    "print(x)\n",
    "print(fruits_set)"
   ]
  },
  {
   "cell_type": "code",
   "execution_count": 131,
   "metadata": {
    "colab": {
     "base_uri": "https://localhost:8080/",
     "height": 51
    },
    "colab_type": "code",
    "id": "Yvf7pqAehKp5",
    "outputId": "5485efcf-33b9-4e88-fdf8-69455aad2853"
   },
   "outputs": [
    {
     "name": "stdout",
     "output_type": "stream",
     "text": [
      "cherry\n",
      "{'apple', 'banana'}\n"
     ]
    }
   ],
   "source": [
    "# Remove an item by using the pop() method:\n",
    "fruits_set = {\"apple\", \"banana\", \"cherry\"}\n",
    "x = fruits_set.pop()\n",
    "print(x)\n",
    "print(fruits_set)"
   ]
  },
  {
   "cell_type": "markdown",
   "metadata": {
    "colab": {},
    "colab_type": "code",
    "id": "Mz4scm5Zbh3K"
   },
   "source": [
    "# Tuples (Optional)\n",
    "[Return to Table of Contents](#Table-of-Contents)\n",
    "\n",
    "Similar to lists, Tuples are Ordered collection allowing duplicate and indexed members, however, they are <u>unchangeable</u> and cannot add/remove elements, extend or sort. Tuples are defined as a variable using round brackets or parenthesis, ().\n",
    "\n",
    "Once a tuple is created, you cannot change its values. Tuples are unchangeable! You cannot add an item. You cannot extend them. You cannot remove an item. You can delete them (using del).\n",
    "\n",
    "Common functions that can be used with tuples and we will explore in this section include:\n",
    "- count()\tReturns the number of elements with the specified value\n",
    "- index()\tReturns the index of the first element with the specified value"
   ]
  },
  {
   "cell_type": "code",
   "execution_count": 132,
   "metadata": {
    "colab": {
     "base_uri": "https://localhost:8080/",
     "height": 34
    },
    "colab_type": "code",
    "id": "1KtRAJApYnMI",
    "outputId": "21f9bd13-8439-4d09-9c09-740d0d969bd0"
   },
   "outputs": [
    {
     "name": "stdout",
     "output_type": "stream",
     "text": [
      "('apple', 'banana', 'cherry')\n"
     ]
    }
   ],
   "source": [
    "# In Python tuples are written with round brackets.\n",
    "fruits_tuple = (\"apple\", \"banana\", \"cherry\")\n",
    "print(fruits_tuple)"
   ]
  },
  {
   "cell_type": "code",
   "execution_count": 133,
   "metadata": {
    "colab": {
     "base_uri": "https://localhost:8080/",
     "height": 34
    },
    "colab_type": "code",
    "id": "ry4lbvMDZywB",
    "outputId": "66760724-6b21-462f-a5ee-fa1f8cea7d15"
   },
   "outputs": [
    {
     "name": "stdout",
     "output_type": "stream",
     "text": [
      "banana\n"
     ]
    }
   ],
   "source": [
    "# Access Tuple Items (similar to lists)\n",
    "fruits_tuple = (\"apple\", \"banana\", \"cherry\")\n",
    "print(fruits_tuple[1])"
   ]
  },
  {
   "cell_type": "code",
   "execution_count": 134,
   "metadata": {
    "colab": {
     "base_uri": "https://localhost:8080/",
     "height": 68
    },
    "colab_type": "code",
    "id": "RHct0z7yZ21B",
    "outputId": "7eadbedd-d83f-41c5-8106-facd2d878612"
   },
   "outputs": [
    {
     "name": "stdout",
     "output_type": "stream",
     "text": [
      "apple\n",
      "banana\n",
      "cherry\n"
     ]
    }
   ],
   "source": [
    "# Loop Through a Tuple (similar to lists)\n",
    "fruits_tuple = (\"apple\", \"banana\", \"cherry\")\n",
    "for x in fruits_tuple:\n",
    "    print(x)"
   ]
  },
  {
   "cell_type": "code",
   "execution_count": 135,
   "metadata": {
    "colab": {
     "base_uri": "https://localhost:8080/",
     "height": 34
    },
    "colab_type": "code",
    "id": "38WQkntpZ8Qp",
    "outputId": "0a182271-bef4-4d42-d760-ff3c6cbfdc55"
   },
   "outputs": [
    {
     "name": "stdout",
     "output_type": "stream",
     "text": [
      "Yes, apple is in this tuple\n"
     ]
    }
   ],
   "source": [
    "# Check if Item Exists (similar to lists)\n",
    "fruits_tuple = (\"apple\", \"banana\", \"cherry\")\n",
    "anitem = \"apple\"\n",
    "if anitem in fruits_tuple:\n",
    "    print(\"Yes,\", anitem,\"is in this tuple\")\n",
    "else:\n",
    "    print(\"No,\", anitem,\"is not in this tuple\")  "
   ]
  },
  {
   "cell_type": "code",
   "execution_count": 136,
   "metadata": {
    "colab": {
     "base_uri": "https://localhost:8080/",
     "height": 34
    },
    "colab_type": "code",
    "id": "ENL0xLifab6B",
    "outputId": "0171805d-ef80-46e8-d01a-7133554525ff"
   },
   "outputs": [
    {
     "name": "stdout",
     "output_type": "stream",
     "text": [
      "No, grape is not in this tuple\n"
     ]
    }
   ],
   "source": [
    "fruits_tuple = (\"apple\", \"banana\", \"cherry\")\n",
    "anitem = \"grape\"\n",
    "if anitem in fruits_tuple:\n",
    "    print(\"Yes,\", anitem,\"is in this tuple\")\n",
    "else:\n",
    "    print(\"No,\", anitem,\"is not in this tuple\")"
   ]
  },
  {
   "cell_type": "code",
   "execution_count": 137,
   "metadata": {
    "colab": {
     "base_uri": "https://localhost:8080/",
     "height": 34
    },
    "colab_type": "code",
    "id": "5naCQ73Cagfx",
    "outputId": "7dc6db8d-0c8e-48ce-b1e3-196e69dc44c1"
   },
   "outputs": [
    {
     "name": "stdout",
     "output_type": "stream",
     "text": [
      "3\n"
     ]
    }
   ],
   "source": [
    "# tuple length (similar to lists)\n",
    "fruits_tuple = (\"apple\", \"banana\", \"cherry\")\n",
    "print(len(fruits_tuple))"
   ]
  },
  {
   "cell_type": "code",
   "execution_count": 138,
   "metadata": {
    "colab": {
     "base_uri": "https://localhost:8080/",
     "height": 34
    },
    "colab_type": "code",
    "id": "x-72wz2TaolB",
    "outputId": "49526f3c-ec4b-4d56-f8b7-ba944202416c"
   },
   "outputs": [
    {
     "data": {
      "text/plain": [
       "2"
      ]
     },
     "execution_count": 138,
     "metadata": {},
     "output_type": "execute_result"
    }
   ],
   "source": [
    "# Counting\n",
    "names_tuple = (\"Adam\",\"Michael\",\"Susan\",\"Leo\",\"Adam\",\"Marry\",\"Heather\")\n",
    "names_tuple.count(\"Adam\")"
   ]
  },
  {
   "cell_type": "code",
   "execution_count": 139,
   "metadata": {
    "colab": {
     "base_uri": "https://localhost:8080/",
     "height": 34
    },
    "colab_type": "code",
    "id": "xLLQIkWCbGjZ",
    "outputId": "a1d4b835-f838-43fe-a295-03734aaec87b"
   },
   "outputs": [
    {
     "data": {
      "text/plain": [
       "0"
      ]
     },
     "execution_count": 139,
     "metadata": {},
     "output_type": "execute_result"
    }
   ],
   "source": [
    "# Indexing\n",
    "# The index() method finds the first occurrence of the specified value.\n",
    "# The index() method raises an exception if the value is not found.\n",
    "# Can use the loop as  in the list to find the index of other occurrences.\n",
    "names_tuple = (\"Adam\",\"Michael\",\"Susan\",\"Leo\",\"Adam\",\"Marry\",\"Heather\")\n",
    "names_tuple.index(\"Adam\")"
   ]
  },
  {
   "cell_type": "markdown",
   "metadata": {},
   "source": [
    "#### Tuple: Copying\n",
    "[Return to Table of Contents](#Table-of-Contents)"
   ]
  },
  {
   "cell_type": "code",
   "execution_count": 140,
   "metadata": {
    "colab": {
     "base_uri": "https://localhost:8080/",
     "height": 34
    },
    "colab_type": "code",
    "id": "7NKhyVovbQgZ",
    "outputId": "6383aa43-98e9-450c-8760-ef0b0d2ee076"
   },
   "outputs": [
    {
     "name": "stdout",
     "output_type": "stream",
     "text": [
      "('apple', 'banana', 'cherry')\n"
     ]
    }
   ],
   "source": [
    "# COPYING A TUPLE\n",
    "fruits_tuple = (\"apple\", \"banana\", \"cherry\")\n",
    "tuple_clone = fruits_tuple\n",
    "print(tuple_clone)"
   ]
  },
  {
   "cell_type": "code",
   "execution_count": 141,
   "metadata": {},
   "outputs": [
    {
     "name": "stdout",
     "output_type": "stream",
     "text": [
      "('apple', 'banana', 'cherry')\n",
      "('grapes', 'banana')\n"
     ]
    }
   ],
   "source": [
    "tuple_clone = ('grapes', 'banana')\n",
    "print(fruits_tuple)\n",
    "print(tuple_clone)\n",
    "# Differently to Lists, because Tuples are unchangeable you cannot modify a tupple with functions like append, add, etc.\n",
    "# This causes that copying by an operator to work with Tuples. "
   ]
  },
  {
   "cell_type": "code",
   "execution_count": 142,
   "metadata": {},
   "outputs": [
    {
     "ename": "AttributeError",
     "evalue": "'tuple' object has no attribute 'add'",
     "output_type": "error",
     "traceback": [
      "\u001b[1;31m---------------------------------------------------------------------------\u001b[0m",
      "\u001b[1;31mAttributeError\u001b[0m                            Traceback (most recent call last)",
      "Cell \u001b[1;32mIn[142], line 2\u001b[0m\n\u001b[0;32m      1\u001b[0m \u001b[38;5;66;03m# Add, append, and other similar functions that can be used with other data collections will cause an attribute error. \u001b[39;00m\n\u001b[1;32m----> 2\u001b[0m tuple_clone\u001b[38;5;241m.\u001b[39madd(\u001b[38;5;124m\"\u001b[39m\u001b[38;5;124morange\u001b[39m\u001b[38;5;124m\"\u001b[39m)\n",
      "\u001b[1;31mAttributeError\u001b[0m: 'tuple' object has no attribute 'add'"
     ]
    }
   ],
   "source": [
    "# Add, append, and other similar functions that can be used with other data collections will cause an attribute error. \n",
    "tuple_clone.add(\"orange\")"
   ]
  },
  {
   "cell_type": "markdown",
   "metadata": {},
   "source": [
    "# NOTEBOOK END"
   ]
  },
  {
   "cell_type": "code",
   "execution_count": null,
   "metadata": {},
   "outputs": [],
   "source": []
  },
  {
   "cell_type": "code",
   "execution_count": null,
   "metadata": {},
   "outputs": [],
   "source": []
  },
  {
   "cell_type": "code",
   "execution_count": null,
   "metadata": {},
   "outputs": [],
   "source": []
  }
 ],
 "metadata": {
  "colab": {
   "collapsed_sections": [],
   "name": "Lists.ipynb",
   "provenance": [],
   "version": "0.3.2"
  },
  "kernelspec": {
   "display_name": "Python 3 (ipykernel)",
   "language": "python",
   "name": "python3"
  },
  "language_info": {
   "codemirror_mode": {
    "name": "ipython",
    "version": 3
   },
   "file_extension": ".py",
   "mimetype": "text/x-python",
   "name": "python",
   "nbconvert_exporter": "python",
   "pygments_lexer": "ipython3",
   "version": "3.12.4"
  }
 },
 "nbformat": 4,
 "nbformat_minor": 4
}
