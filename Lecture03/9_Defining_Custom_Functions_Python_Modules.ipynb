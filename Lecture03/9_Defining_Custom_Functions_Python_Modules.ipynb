{
 "cells": [
  {
   "cell_type": "markdown",
   "id": "1448a49a",
   "metadata": {},
   "source": [
    "<div class=\"alert alert-block alert-info\">\n",
    "Author:<br>Felix Gonzalez, P.E. <br> Adjunct Instructor, <br> Division of Professional Studies <br> Computer Science and Electrical Engineering <br> University of Maryland Baltimore County <br> fgonzale@umbc.edu\n",
    "</div>"
   ]
  },
  {
   "cell_type": "markdown",
   "id": "795249f2",
   "metadata": {},
   "source": [
    "This notebook provides an overview of creating custom functions in python and how to use them. The notebook also formally introduces the use of modules, libraries, and packages as well as how to explore and call functions within those modules. One of the advantages of Python is that further funtionality can be added by adding modules. As a program gets longer, Python allows to split scripts files and functions into a several files and modules. This permits easier maintenance by allowing to call functions and scripts from the separate modules without having to copy each script into each program. Further information can be found in the Python documentation at https://docs.python.org/3/tutorial/modules.html#standard-modules\n",
    "\n",
    "The Anaconda Distribution is one of the distribution packages that includes data science centric modules. The list of the packages included in the Anaconda Distribution can be found at: https://docs.anaconda.com/anaconda/packages/pkg-docs/."
   ]
  },
  {
   "cell_type": "markdown",
   "id": "883dfc56",
   "metadata": {},
   "source": [
    "# Table of Contents\n",
    "[Defining Custom Functions](#Defining-Custom-Functions)\n",
    "\n",
    "[Python Modules](#Python-Modules)\n",
    "\n",
    "[Importing Modules](#Importing-Modules)\n",
    "\n",
    "[Installing Modules](#Installing-Modules)\n",
    "\n",
    "[](#)\n",
    "\n",
    "[](#)\n",
    "\n",
    "[](#)\n",
    "\n",
    "[](#)\n"
   ]
  },
  {
   "cell_type": "markdown",
   "id": "e2854359",
   "metadata": {},
   "source": [
    "# Defining Custom Functions\n",
    "[Return to Table of Contents](#Table-of-Contents)\n",
    "\n",
    "One of the features that Python has is the ability of defining functions. This allows to call and execute a function when the defined parameters are provided.\n",
    "\n",
    "Documentation Reference:\n",
    "- https://docs.python.org/3/tutorial/controlflow.html#defining-functions"
   ]
  },
  {
   "cell_type": "code",
   "execution_count": 1,
   "id": "f4b318ea",
   "metadata": {},
   "outputs": [
    {
     "name": "stdout",
     "output_type": "stream",
     "text": [
      "The bill of $20 includes a tip of $3.0 for a total of $23.0.\n"
     ]
    }
   ],
   "source": [
    "# For example, \n",
    "# Say we want to develop an equation where I want to calculate the tip given the bill amount.\n",
    "# Previously we would do something like the following:\n",
    "bill_amount = 20 # in dollars\n",
    "tip_percentage = 15 # in percent\n",
    "\n",
    "tip_dollars = bill_amount*(tip_percentage/100)\n",
    "total_amount = bill_amount + tip_dollars\n",
    "\n",
    "print(f'The bill of ${bill_amount} includes a tip of ${tip_dollars} for a total of ${total_amount}.')"
   ]
  },
  {
   "cell_type": "code",
   "execution_count": 2,
   "id": "e4656e11",
   "metadata": {},
   "outputs": [],
   "source": [
    "# Let's define a function with the parameters bill_amount and tip_percentage.\n",
    "def bill_calculations(bill_amount, tip_percentage):\n",
    "\n",
    "    tip_dollars = bill_amount*(tip_percentage/100)\n",
    "    total_amount = bill_amount + tip_dollars\n",
    "\n",
    "    return(print(f'The bill of ${bill_amount} includes a tip of ${tip_dollars} for a total of ${total_amount}.'))"
   ]
  },
  {
   "cell_type": "code",
   "execution_count": 3,
   "id": "93065652",
   "metadata": {},
   "outputs": [
    {
     "name": "stdout",
     "output_type": "stream",
     "text": [
      "The bill of $50 includes a tip of $7.5 for a total of $57.5.\n"
     ]
    }
   ],
   "source": [
    "# We call the function with the given parameters.\n",
    "bill_calculations(bill_amount = 50, tip_percentage = 15)"
   ]
  },
  {
   "cell_type": "code",
   "execution_count": 4,
   "id": "7bdb7b53",
   "metadata": {},
   "outputs": [
    {
     "name": "stdout",
     "output_type": "stream",
     "text": [
      "The bill of $40 includes a tip of $8.0 for a total of $48.0.\n"
     ]
    }
   ],
   "source": [
    "# We don't need to specify the parameter name as long as it has the same number of parameters and in the right order.\n",
    "bill_calculations(40, 20)"
   ]
  },
  {
   "cell_type": "code",
   "execution_count": 5,
   "id": "0bdb89aa",
   "metadata": {},
   "outputs": [
    {
     "ename": "SyntaxError",
     "evalue": "invalid syntax (2619297919.py, line 2)",
     "output_type": "error",
     "traceback": [
      "\u001b[1;36m  Cell \u001b[1;32mIn[5], line 2\u001b[1;36m\u001b[0m\n\u001b[1;33m    bill_calculations(, 20)\u001b[0m\n\u001b[1;37m                      ^\u001b[0m\n\u001b[1;31mSyntaxError\u001b[0m\u001b[1;31m:\u001b[0m invalid syntax\n"
     ]
    }
   ],
   "source": [
    "# If we forget one parameter we will get a syntax error.\n",
    "bill_calculations(, 20)"
   ]
  },
  {
   "cell_type": "code",
   "execution_count": 6,
   "id": "8ef56903",
   "metadata": {},
   "outputs": [
    {
     "data": {
      "text/plain": [
       "23.0"
      ]
     },
     "execution_count": 6,
     "metadata": {},
     "output_type": "execute_result"
    }
   ],
   "source": [
    "# Note that if we call a variable within the function separately we get the result from the first example.\n",
    "total_amount"
   ]
  },
  {
   "cell_type": "code",
   "execution_count": 7,
   "id": "8974efaa",
   "metadata": {},
   "outputs": [],
   "source": [
    "# This is because the variables in the function are not stored in the memory unless the variable is defined as global.\n",
    "def bill_calculations(bill_amount, tip_percentage):\n",
    "    # Defining global variables allow to use the variables outside of the defined function.\n",
    "    global tip_dollars, total_amount\n",
    "    \n",
    "    tip_dollars = bill_amount*(tip_percentage/100)\n",
    "    total_amount = bill_amount + tip_dollars\n",
    "\n",
    "    # When we define the global variables we don't need to provide a return output.\n",
    "    return(print(f'The bill of ${bill_amount} includes a tip of ${tip_dollars} for a total of ${total_amount}.'))"
   ]
  },
  {
   "cell_type": "code",
   "execution_count": 8,
   "id": "3eae7133",
   "metadata": {},
   "outputs": [
    {
     "name": "stdout",
     "output_type": "stream",
     "text": [
      "The bill of $50 includes a tip of $12.5 for a total of $62.5.\n"
     ]
    }
   ],
   "source": [
    "bill_calculations(bill_amount = 50, tip_percentage = 25)"
   ]
  },
  {
   "cell_type": "code",
   "execution_count": 9,
   "id": "d59370fe",
   "metadata": {},
   "outputs": [
    {
     "data": {
      "text/plain": [
       "62.5"
      ]
     },
     "execution_count": 9,
     "metadata": {},
     "output_type": "execute_result"
    }
   ],
   "source": [
    "# I can now call the variables within the function\n",
    "total_amount"
   ]
  },
  {
   "cell_type": "code",
   "execution_count": 10,
   "id": "d493a4ba",
   "metadata": {},
   "outputs": [
    {
     "name": "stdout",
     "output_type": "stream",
     "text": [
      "The bill of $60 includes a tip of $18.0 for a total of $78.0.\n"
     ]
    }
   ],
   "source": [
    "# If I wanted to call the parameters there are two ways.\n",
    "# First define it as a variable outside of the function.\n",
    "bill_amount_input = 60\n",
    "tip_percentage_input = 30\n",
    "\n",
    "bill_calculations(bill_amount = bill_amount_input, tip_percentage = tip_percentage_input)"
   ]
  },
  {
   "cell_type": "code",
   "execution_count": 11,
   "id": "719cea62",
   "metadata": {},
   "outputs": [
    {
     "name": "stdout",
     "output_type": "stream",
     "text": [
      "60\n"
     ]
    }
   ],
   "source": [
    "print(bill_amount_input)"
   ]
  },
  {
   "cell_type": "code",
   "execution_count": 12,
   "id": "8226a739",
   "metadata": {},
   "outputs": [],
   "source": [
    "# Second option is to redefine a variable with a new name inside the function.\n",
    "def bill_calculations(bill_amount, tip_percentage):\n",
    "    # Defining global variables allow to use the variables outside of the defined function.\n",
    "    global tip_dollars, total_amount\n",
    "    \n",
    "    # Redefining the input parameters as a new variable to call them outside of th efunction.\n",
    "    bill_amount_input = bill_amount\n",
    "    tip_percentage_input = tip_percentage     \n",
    "    \n",
    "    tip_dollars = bill_amount*(tip_percentage/100)\n",
    "    total_amount = bill_amount + tip_dollars\n",
    "\n",
    "    return(print(f'The bill of ${bill_amount} includes a tip of ${tip_dollars} for a total of ${total_amount}.'))"
   ]
  },
  {
   "cell_type": "code",
   "execution_count": 13,
   "id": "83a6fabb",
   "metadata": {},
   "outputs": [
    {
     "name": "stdout",
     "output_type": "stream",
     "text": [
      "The bill of $70 includes a tip of $24.5 for a total of $94.5.\n",
      "60\n"
     ]
    }
   ],
   "source": [
    "bill_calculations(bill_amount = 70, tip_percentage = 35)\n",
    "print(bill_amount_input) # I can now call the input variables."
   ]
  },
  {
   "cell_type": "code",
   "execution_count": 14,
   "id": "7fff369f",
   "metadata": {},
   "outputs": [],
   "source": [
    "# When designing a program it is important to start thinking on a modular fashion. \n",
    "# Modular coding allows much easier"
   ]
  },
  {
   "cell_type": "markdown",
   "id": "b94d3c11",
   "metadata": {},
   "source": [
    "# Python Modules\n",
    "[Return to Table of Contents](#Table-of-Contents)\n",
    "\n",
    "Python includes various modules that are used for various activities within data science. The following list provides a few of the data science most used Python modules:\n",
    "\n",
    "- Numpy: NumPy offers comprehensive mathematical functions, random number generators, linear algebra routines, Fourier transforms, and more. Interoperable. https://numpy.org/doc/\n",
    "- Datetime: The datetime module supplies classes for manipulating dates and times. https://docs.python.org/3/library/datetime.html\n",
    "- Pandas: pandas is a fast, powerful, flexible and easy to use open source data analysis and manipulation tool, built on top of the Python programming language. https://pandas.pydata.org/\n",
    "- Re: This module provides regular expression matching operations. https://docs.python.org/3/library/re.html\n",
    "- MatPlotLib: Data visualization library. https://matplotlib.org/\n",
    "- sciKit-Learn: Machine learning library for predictive data analysis built on NumPy, SciPy, and matplotlib https://scikit-learn.org/stable/\n",
    "- NLTK:  Natural Language Processing library. https://www.nltk.org/\n",
    "\n",
    "All of these and more is included in the Anaconda Distribution."
   ]
  },
  {
   "cell_type": "markdown",
   "id": "3ef3a89f",
   "metadata": {},
   "source": [
    "# Importing Modules\n",
    "[Return to Table of Contents](#Table-of-Contents)\n",
    "\n",
    "Once a module is imported, the functions of the module can be used. Each module has specific capabilities, advanatages, disadvantages, limitations and functions with specific parameters. This is why it is important to understand the documentation of each module. Modules can also have overlaps and functions that do the same or similar things."
   ]
  },
  {
   "cell_type": "code",
   "execution_count": 15,
   "id": "f41ea3aa",
   "metadata": {},
   "outputs": [],
   "source": [
    "# Let's import the numpy module.\n",
    "import numpy as np # To save time we may import modules using their short name. In this case numpy as np.\n",
    "# The library documentation will typically include best practices for that module."
   ]
  },
  {
   "cell_type": "code",
   "execution_count": 16,
   "id": "d0550101",
   "metadata": {},
   "outputs": [
    {
     "name": "stdout",
     "output_type": "stream",
     "text": [
      "An array of numbers from 0 to 10\n",
      "[ 0.   0.5  1.   1.5  2.   2.5  3.   3.5  4.   4.5  5.   5.5  6.   6.5\n",
      "  7.   7.5  8.   8.5  9.   9.5 10. ]\n"
     ]
    }
   ],
   "source": [
    "# let's take square of each element of an array\n",
    "# An array is a type of data collection in numpy. \n",
    "# An array is the same as a list but work only with numbers and runs faster than a list.\n",
    "\n",
    "a = np.linspace(start = 0, stop = 10, num = 21) # Returns evenly spaced numbers over a specified interval.\n",
    "print(\"An array of numbers from 0 to 10\")\n",
    "print(a)"
   ]
  },
  {
   "cell_type": "code",
   "execution_count": 17,
   "id": "d3283527",
   "metadata": {},
   "outputs": [
    {
     "name": "stdout",
     "output_type": "stream",
     "text": [
      "====== Square of Numbers ========\n",
      "[  0.     0.25   1.     2.25   4.     6.25   9.    12.25  16.    20.25\n",
      "  25.    30.25  36.    42.25  49.    56.25  64.    72.25  81.    90.25\n",
      " 100.  ]\n"
     ]
    }
   ],
   "source": [
    "for i in range(len(a)):\n",
    "    a[i] = a[i] * a[i] # could have also used the pow() function.\n",
    "print(\"====== Square of Numbers ========\")    \n",
    "print(a)"
   ]
  },
  {
   "cell_type": "markdown",
   "id": "cd79b632",
   "metadata": {},
   "source": [
    "# Installing Modules\n",
    "[Return to Table of Contents](#Table-of-Contents)\n",
    "\n",
    "Python also makes installing packages easy in general using conda on the command line. To open the command line do a search on the application \"Anaconda Prompt\" (i.e., command line, also called terminal). \n",
    "\n",
    "You can use the Anaconda Package index to install a package using the following line: \n",
    "- \"$conda install name_of_package\"\n",
    "    \n",
    "Another method is to use Pythons PIP package manager. To install a pakcage using pip can be done from the Jupyter Notebook code cell using the following line of code:\n",
    "- \"!pip install name_of_package\"\n",
    "\n",
    "PIP can also be used in the Anaconda Prompt command line. Conda access the Python index at Anaconda while the PIP access the index in the Python index site. We will talk about this more later.\n",
    "\n",
    "<b>Example</b>\n",
    "\n",
    "Let's use the \"Names\" library as an example. To install \"names\" library Uncomment and run the cell below with \"!pip install names\". Names module documentation at: https://pypi.org/project/names/. After installing comment-out the line above. No need to run again the \"!pip install names\". Note that the asterisk* next to the cell means that the cell is running."
   ]
  },
  {
   "cell_type": "code",
   "execution_count": 18,
   "id": "73caf641",
   "metadata": {},
   "outputs": [],
   "source": [
    "# To install the \"names\" module from the Jupyter Notebook interface uncomment the line below.\n",
    "#!pip install names \n",
    "\n",
    "# Replace the \"names\" with the name of the library you want to install."
   ]
  },
  {
   "cell_type": "code",
   "execution_count": 19,
   "id": "4cd63177",
   "metadata": {},
   "outputs": [],
   "source": [
    "import names # After installation only thing that needs to be done is Importing the module."
   ]
  },
  {
   "cell_type": "code",
   "execution_count": 20,
   "id": "fc2d6b3a",
   "metadata": {},
   "outputs": [
    {
     "name": "stdout",
     "output_type": "stream",
     "text": [
      "0.3.0\n"
     ]
    }
   ],
   "source": [
    "print(names.__version__) # After importing I can check the version of a module.\n",
    "# There are other ways to check the version."
   ]
  },
  {
   "cell_type": "code",
   "execution_count": 21,
   "id": "98e8afb5",
   "metadata": {},
   "outputs": [
    {
     "data": {
      "text/plain": [
       "'Pauline Armstrong'"
      ]
     },
     "execution_count": 21,
     "metadata": {},
     "output_type": "execute_result"
    }
   ],
   "source": [
    "# After importing I can use functions from the names library.\n",
    "# The get_full_name() function gets a random full name.\n",
    "names.get_full_name()"
   ]
  },
  {
   "cell_type": "markdown",
   "id": "1210fc34",
   "metadata": {},
   "source": [
    "# NOTEBOOK END"
   ]
  },
  {
   "cell_type": "code",
   "execution_count": null,
   "id": "76290518",
   "metadata": {},
   "outputs": [],
   "source": []
  },
  {
   "cell_type": "code",
   "execution_count": null,
   "id": "6cea8c54",
   "metadata": {},
   "outputs": [],
   "source": []
  },
  {
   "cell_type": "code",
   "execution_count": null,
   "id": "0f797f37",
   "metadata": {},
   "outputs": [],
   "source": []
  }
 ],
 "metadata": {
  "kernelspec": {
   "display_name": "Python 3 (ipykernel)",
   "language": "python",
   "name": "python3"
  },
  "language_info": {
   "codemirror_mode": {
    "name": "ipython",
    "version": 3
   },
   "file_extension": ".py",
   "mimetype": "text/x-python",
   "name": "python",
   "nbconvert_exporter": "python",
   "pygments_lexer": "ipython3",
   "version": "3.12.4"
  }
 },
 "nbformat": 4,
 "nbformat_minor": 5
}
